{
  "nbformat": 4,
  "nbformat_minor": 0,
  "metadata": {
    "colab": {
      "name": "Week3_Assignment.ipynb",
      "provenance": [],
      "collapsed_sections": [],
      "authorship_tag": "ABX9TyN7WelCPFiRM8+KO8cZEqtw",
      "include_colab_link": true
    },
    "kernelspec": {
      "name": "python3",
      "display_name": "Python 3"
    },
    "language_info": {
      "name": "python"
    }
  },
  "cells": [
    {
      "cell_type": "markdown",
      "metadata": {
        "id": "view-in-github",
        "colab_type": "text"
      },
      "source": [
        "<a href=\"https://colab.research.google.com/github/ninadcpa/DSC630/blob/main/Week3_Assignment.ipynb\" target=\"_parent\"><img src=\"https://colab.research.google.com/assets/colab-badge.svg\" alt=\"Open In Colab\"/></a>"
      ]
    },
    {
      "cell_type": "markdown",
      "metadata": {
        "id": "AJwxaPyDrfgU"
      },
      "source": [
        "# Week 2 Assignment\n",
        "\n",
        "@author - Ninad Patkhedkar"
      ]
    },
    {
      "cell_type": "code",
      "metadata": {
        "colab": {
          "base_uri": "https://localhost:8080/"
        },
        "id": "znyLhBUBrY12",
        "outputId": "fbffcc6a-c7fa-4cf5-baa1-19fd0bd4f9a0"
      },
      "source": [
        "# This code is written for mounting code folder checked out from github on google drive\n",
        "# All assignment code will be maintained inside folder \"DSC630\"\n",
        "\n",
        "from google.colab import drive\n",
        "import sys\n",
        "import os\n",
        "\n",
        "drive.mount('/content/drive')\n",
        "sys.path.append('/content/drive/MyDrive/Colab Notebooks/DSC630')\n",
        "os.chdir('/content/drive/MyDrive/Colab Notebooks/DSC630')"
      ],
      "execution_count": 1,
      "outputs": [
        {
          "output_type": "stream",
          "name": "stdout",
          "text": [
            "Mounted at /content/drive\n"
          ]
        }
      ]
    },
    {
      "cell_type": "markdown",
      "metadata": {
        "id": "Cn8ihz3gsCLS"
      },
      "source": [
        "For this week’s assignment we're going to use Dodgers Major League Baseball data from 2012. The data file you will be using is contained in the dodgers.csv file. I would like you to determine what night would be the best to run a marketing promotion to increase attendance. It is up to you if you decide to recommend a specific date or if you  recommend a day of the week (e.g., Tuesdays) or month and day of the week (e.g., July Tuesdays). Use R and/or Python to accomplish this assignment. It is important to remember, there will be lots of ways to solve this problem. Explain your thought process and how you used various techniques to come up with your recommendation. From this data, at a minimum, you should be able to demonstrate the following:  \n",
        "* Box plots  \n",
        "* Scatter plots  \n",
        "* Regression Model  \n"
      ]
    },
    {
      "cell_type": "code",
      "metadata": {
        "id": "_U_5HhmlsbYM"
      },
      "source": [
        "# Reading csv file and loading data into dataframe\n",
        "from __future__ import print_function\n",
        "\n",
        "import pandas as pd\n",
        "import numpy as np\n",
        "import matplotlib.pyplot as plt\n",
        "import seaborn as sns\n",
        "%matplotlib inline\n",
        "\n",
        "import warnings\n",
        "warnings.filterwarnings('ignore', category=FutureWarning)\n",
        "\n",
        "pd.set_option(\"display.precision\", 2)\n",
        "# Substitute values used for missing values in dataset\n",
        "missing_values = [\"n/a\", \"na\", \"--\",\"\"]\n",
        "# Load the data in pandas dataframe with missing values set to NaN\n",
        "df = pd.read_csv('dodgers.csv',na_values = missing_values)"
      ],
      "execution_count": 2,
      "outputs": []
    },
    {
      "cell_type": "markdown",
      "metadata": {
        "id": "557Yhj11w_3A"
      },
      "source": [
        "Lets check the dimension of the data."
      ]
    },
    {
      "cell_type": "code",
      "metadata": {
        "colab": {
          "base_uri": "https://localhost:8080/"
        },
        "id": "_5bXIEBnsuXL",
        "outputId": "35c46770-b011-4424-e109-71390461c279"
      },
      "source": [
        "df.shape"
      ],
      "execution_count": 3,
      "outputs": [
        {
          "output_type": "execute_result",
          "data": {
            "text/plain": [
              "(81, 12)"
            ]
          },
          "metadata": {},
          "execution_count": 3
        }
      ]
    },
    {
      "cell_type": "markdown",
      "metadata": {
        "id": "GdRDK6b4y7L6"
      },
      "source": [
        "Data contains 81 observarions and 12 features.\n",
        "\n",
        "Lets check the sample of data to get the feel of data."
      ]
    },
    {
      "cell_type": "code",
      "metadata": {
        "colab": {
          "base_uri": "https://localhost:8080/",
          "height": 354
        },
        "id": "1jZZ2Y_MsyrU",
        "outputId": "df5e988f-0055-472b-e751-fd47f698e409"
      },
      "source": [
        "df.sample(10)"
      ],
      "execution_count": 4,
      "outputs": [
        {
          "output_type": "execute_result",
          "data": {
            "text/html": [
              "<div>\n",
              "<style scoped>\n",
              "    .dataframe tbody tr th:only-of-type {\n",
              "        vertical-align: middle;\n",
              "    }\n",
              "\n",
              "    .dataframe tbody tr th {\n",
              "        vertical-align: top;\n",
              "    }\n",
              "\n",
              "    .dataframe thead th {\n",
              "        text-align: right;\n",
              "    }\n",
              "</style>\n",
              "<table border=\"1\" class=\"dataframe\">\n",
              "  <thead>\n",
              "    <tr style=\"text-align: right;\">\n",
              "      <th></th>\n",
              "      <th>month</th>\n",
              "      <th>day</th>\n",
              "      <th>attend</th>\n",
              "      <th>day_of_week</th>\n",
              "      <th>opponent</th>\n",
              "      <th>temp</th>\n",
              "      <th>skies</th>\n",
              "      <th>day_night</th>\n",
              "      <th>cap</th>\n",
              "      <th>shirt</th>\n",
              "      <th>fireworks</th>\n",
              "      <th>bobblehead</th>\n",
              "    </tr>\n",
              "  </thead>\n",
              "  <tbody>\n",
              "    <tr>\n",
              "      <th>61</th>\n",
              "      <td>AUG</td>\n",
              "      <td>24</td>\n",
              "      <td>39805</td>\n",
              "      <td>Friday</td>\n",
              "      <td>Marlins</td>\n",
              "      <td>71</td>\n",
              "      <td>Clear</td>\n",
              "      <td>Night</td>\n",
              "      <td>NO</td>\n",
              "      <td>NO</td>\n",
              "      <td>YES</td>\n",
              "      <td>NO</td>\n",
              "    </tr>\n",
              "    <tr>\n",
              "      <th>4</th>\n",
              "      <td>APR</td>\n",
              "      <td>14</td>\n",
              "      <td>46549</td>\n",
              "      <td>Saturday</td>\n",
              "      <td>Padres</td>\n",
              "      <td>57</td>\n",
              "      <td>Cloudy</td>\n",
              "      <td>Night</td>\n",
              "      <td>NO</td>\n",
              "      <td>NO</td>\n",
              "      <td>NO</td>\n",
              "      <td>NO</td>\n",
              "    </tr>\n",
              "    <tr>\n",
              "      <th>44</th>\n",
              "      <td>JUL</td>\n",
              "      <td>14</td>\n",
              "      <td>54014</td>\n",
              "      <td>Saturday</td>\n",
              "      <td>Padres</td>\n",
              "      <td>75</td>\n",
              "      <td>Clear</td>\n",
              "      <td>Night</td>\n",
              "      <td>NO</td>\n",
              "      <td>NO</td>\n",
              "      <td>NO</td>\n",
              "      <td>YES</td>\n",
              "    </tr>\n",
              "    <tr>\n",
              "      <th>67</th>\n",
              "      <td>SEP</td>\n",
              "      <td>2</td>\n",
              "      <td>31607</td>\n",
              "      <td>Sunday</td>\n",
              "      <td>Snakes</td>\n",
              "      <td>89</td>\n",
              "      <td>Clear</td>\n",
              "      <td>Day</td>\n",
              "      <td>NO</td>\n",
              "      <td>NO</td>\n",
              "      <td>NO</td>\n",
              "      <td>NO</td>\n",
              "    </tr>\n",
              "    <tr>\n",
              "      <th>53</th>\n",
              "      <td>AUG</td>\n",
              "      <td>4</td>\n",
              "      <td>46588</td>\n",
              "      <td>Saturday</td>\n",
              "      <td>Cubs</td>\n",
              "      <td>73</td>\n",
              "      <td>Cloudy</td>\n",
              "      <td>Night</td>\n",
              "      <td>NO</td>\n",
              "      <td>NO</td>\n",
              "      <td>NO</td>\n",
              "      <td>NO</td>\n",
              "    </tr>\n",
              "    <tr>\n",
              "      <th>30</th>\n",
              "      <td>JUN</td>\n",
              "      <td>11</td>\n",
              "      <td>50559</td>\n",
              "      <td>Monday</td>\n",
              "      <td>Angels</td>\n",
              "      <td>68</td>\n",
              "      <td>Clear</td>\n",
              "      <td>Night</td>\n",
              "      <td>NO</td>\n",
              "      <td>YES</td>\n",
              "      <td>NO</td>\n",
              "      <td>NO</td>\n",
              "    </tr>\n",
              "    <tr>\n",
              "      <th>39</th>\n",
              "      <td>JUL</td>\n",
              "      <td>1</td>\n",
              "      <td>55359</td>\n",
              "      <td>Sunday</td>\n",
              "      <td>Mets</td>\n",
              "      <td>75</td>\n",
              "      <td>Clear</td>\n",
              "      <td>Night</td>\n",
              "      <td>NO</td>\n",
              "      <td>NO</td>\n",
              "      <td>NO</td>\n",
              "      <td>YES</td>\n",
              "    </tr>\n",
              "    <tr>\n",
              "      <th>3</th>\n",
              "      <td>APR</td>\n",
              "      <td>13</td>\n",
              "      <td>31601</td>\n",
              "      <td>Friday</td>\n",
              "      <td>Padres</td>\n",
              "      <td>54</td>\n",
              "      <td>Cloudy</td>\n",
              "      <td>Night</td>\n",
              "      <td>NO</td>\n",
              "      <td>NO</td>\n",
              "      <td>YES</td>\n",
              "      <td>NO</td>\n",
              "    </tr>\n",
              "    <tr>\n",
              "      <th>78</th>\n",
              "      <td>OCT</td>\n",
              "      <td>1</td>\n",
              "      <td>33624</td>\n",
              "      <td>Monday</td>\n",
              "      <td>Giants</td>\n",
              "      <td>86</td>\n",
              "      <td>Clear</td>\n",
              "      <td>Night</td>\n",
              "      <td>NO</td>\n",
              "      <td>NO</td>\n",
              "      <td>NO</td>\n",
              "      <td>NO</td>\n",
              "    </tr>\n",
              "    <tr>\n",
              "      <th>42</th>\n",
              "      <td>JUL</td>\n",
              "      <td>4</td>\n",
              "      <td>53570</td>\n",
              "      <td>Wednesday</td>\n",
              "      <td>Reds</td>\n",
              "      <td>70</td>\n",
              "      <td>Clear</td>\n",
              "      <td>Night</td>\n",
              "      <td>NO</td>\n",
              "      <td>NO</td>\n",
              "      <td>YES</td>\n",
              "      <td>NO</td>\n",
              "    </tr>\n",
              "  </tbody>\n",
              "</table>\n",
              "</div>"
            ],
            "text/plain": [
              "   month  day  attend day_of_week  ... cap  shirt fireworks bobblehead\n",
              "61   AUG   24   39805      Friday  ...  NO     NO       YES         NO\n",
              "4    APR   14   46549    Saturday  ...  NO     NO        NO         NO\n",
              "44   JUL   14   54014    Saturday  ...  NO     NO        NO        YES\n",
              "67   SEP    2   31607      Sunday  ...  NO     NO        NO         NO\n",
              "53   AUG    4   46588    Saturday  ...  NO     NO        NO         NO\n",
              "30   JUN   11   50559      Monday  ...  NO    YES        NO         NO\n",
              "39   JUL    1   55359      Sunday  ...  NO     NO        NO        YES\n",
              "3    APR   13   31601      Friday  ...  NO     NO       YES         NO\n",
              "78   OCT    1   33624      Monday  ...  NO     NO        NO         NO\n",
              "42   JUL    4   53570   Wednesday  ...  NO     NO       YES         NO\n",
              "\n",
              "[10 rows x 12 columns]"
            ]
          },
          "metadata": {},
          "execution_count": 4
        }
      ]
    },
    {
      "cell_type": "markdown",
      "metadata": {
        "id": "NWOtPddyzQKj"
      },
      "source": [
        "Lets check what are various features in dataset and data type."
      ]
    },
    {
      "cell_type": "code",
      "metadata": {
        "colab": {
          "base_uri": "https://localhost:8080/"
        },
        "id": "j802s35is_Q4",
        "outputId": "27e4133a-6c98-466f-b762-7a4fa4288967"
      },
      "source": [
        "df.info()"
      ],
      "execution_count": 5,
      "outputs": [
        {
          "output_type": "stream",
          "name": "stdout",
          "text": [
            "<class 'pandas.core.frame.DataFrame'>\n",
            "RangeIndex: 81 entries, 0 to 80\n",
            "Data columns (total 12 columns):\n",
            " #   Column       Non-Null Count  Dtype \n",
            "---  ------       --------------  ----- \n",
            " 0   month        81 non-null     object\n",
            " 1   day          81 non-null     int64 \n",
            " 2   attend       81 non-null     int64 \n",
            " 3   day_of_week  81 non-null     object\n",
            " 4   opponent     81 non-null     object\n",
            " 5   temp         81 non-null     int64 \n",
            " 6   skies        81 non-null     object\n",
            " 7   day_night    81 non-null     object\n",
            " 8   cap          81 non-null     object\n",
            " 9   shirt        81 non-null     object\n",
            " 10  fireworks    81 non-null     object\n",
            " 11  bobblehead   81 non-null     object\n",
            "dtypes: int64(3), object(9)\n",
            "memory usage: 7.7+ KB\n"
          ]
        }
      ]
    },
    {
      "cell_type": "markdown",
      "metadata": {
        "id": "TMTbdwuizgFU"
      },
      "source": [
        "Information about features\n",
        "\n",
        "> **month** - Month the game was held  \n",
        "> **day** - Date the game was held  \n",
        "> **attend** - Number of attendees at the game  \n",
        "> **day_of_week** - Day the game was held  \n",
        "> **opponent** - Name of the opposing team  \n",
        "> **temp** - Temperature during the game  \n",
        "> **skies** - Weather conditions of the game  \n",
        "> **day_night** - Whether the game was played in the day or night  \n",
        "> **cap** - Yes, if cap was given as a promotion else No  \n",
        "> **shirt** - Yes, if shirt was given as a promotion else No  \n",
        "> **firweworks** - Yes, if fireworks was given as a promotion else No  \n",
        "> **bobblehead** - Yes, if bobblehead was given as a promotion else No"
      ]
    },
    {
      "cell_type": "markdown",
      "metadata": {
        "id": "JFsFp5625NJ3"
      },
      "source": [
        "Lets describe the statistics of nominal fields"
      ]
    },
    {
      "cell_type": "code",
      "metadata": {
        "colab": {
          "base_uri": "https://localhost:8080/",
          "height": 293
        },
        "id": "jWuZWiJDtQoE",
        "outputId": "532de7c0-cf69-40da-e7ec-d523f211ad44"
      },
      "source": [
        "df.describe()"
      ],
      "execution_count": 6,
      "outputs": [
        {
          "output_type": "execute_result",
          "data": {
            "text/html": [
              "<div>\n",
              "<style scoped>\n",
              "    .dataframe tbody tr th:only-of-type {\n",
              "        vertical-align: middle;\n",
              "    }\n",
              "\n",
              "    .dataframe tbody tr th {\n",
              "        vertical-align: top;\n",
              "    }\n",
              "\n",
              "    .dataframe thead th {\n",
              "        text-align: right;\n",
              "    }\n",
              "</style>\n",
              "<table border=\"1\" class=\"dataframe\">\n",
              "  <thead>\n",
              "    <tr style=\"text-align: right;\">\n",
              "      <th></th>\n",
              "      <th>day</th>\n",
              "      <th>attend</th>\n",
              "      <th>temp</th>\n",
              "    </tr>\n",
              "  </thead>\n",
              "  <tbody>\n",
              "    <tr>\n",
              "      <th>count</th>\n",
              "      <td>81.00</td>\n",
              "      <td>81.00</td>\n",
              "      <td>81.00</td>\n",
              "    </tr>\n",
              "    <tr>\n",
              "      <th>mean</th>\n",
              "      <td>16.14</td>\n",
              "      <td>41040.07</td>\n",
              "      <td>73.15</td>\n",
              "    </tr>\n",
              "    <tr>\n",
              "      <th>std</th>\n",
              "      <td>9.61</td>\n",
              "      <td>8297.54</td>\n",
              "      <td>8.32</td>\n",
              "    </tr>\n",
              "    <tr>\n",
              "      <th>min</th>\n",
              "      <td>1.00</td>\n",
              "      <td>24312.00</td>\n",
              "      <td>54.00</td>\n",
              "    </tr>\n",
              "    <tr>\n",
              "      <th>25%</th>\n",
              "      <td>8.00</td>\n",
              "      <td>34493.00</td>\n",
              "      <td>67.00</td>\n",
              "    </tr>\n",
              "    <tr>\n",
              "      <th>50%</th>\n",
              "      <td>15.00</td>\n",
              "      <td>40284.00</td>\n",
              "      <td>73.00</td>\n",
              "    </tr>\n",
              "    <tr>\n",
              "      <th>75%</th>\n",
              "      <td>25.00</td>\n",
              "      <td>46588.00</td>\n",
              "      <td>79.00</td>\n",
              "    </tr>\n",
              "    <tr>\n",
              "      <th>max</th>\n",
              "      <td>31.00</td>\n",
              "      <td>56000.00</td>\n",
              "      <td>95.00</td>\n",
              "    </tr>\n",
              "  </tbody>\n",
              "</table>\n",
              "</div>"
            ],
            "text/plain": [
              "         day    attend   temp\n",
              "count  81.00     81.00  81.00\n",
              "mean   16.14  41040.07  73.15\n",
              "std     9.61   8297.54   8.32\n",
              "min     1.00  24312.00  54.00\n",
              "25%     8.00  34493.00  67.00\n",
              "50%    15.00  40284.00  73.00\n",
              "75%    25.00  46588.00  79.00\n",
              "max    31.00  56000.00  95.00"
            ]
          },
          "metadata": {},
          "execution_count": 6
        }
      ]
    },
    {
      "cell_type": "markdown",
      "metadata": {
        "id": "jr-Ogola5XHv"
      },
      "source": [
        "I notice, since day of the month integer value, it is considered as nominal value. However in reality it is ordinal value.\n",
        "\n",
        "Simple way to fix this could be to covert day of month field from integer to string."
      ]
    },
    {
      "cell_type": "code",
      "metadata": {
        "colab": {
          "base_uri": "https://localhost:8080/",
          "height": 293
        },
        "id": "5brcZgEeBZUg",
        "outputId": "b12ca297-2549-4137-ddd9-dba382f88fa6"
      },
      "source": [
        "df['day'] = df['day'].astype(str)\n",
        "df.describe()"
      ],
      "execution_count": 7,
      "outputs": [
        {
          "output_type": "execute_result",
          "data": {
            "text/html": [
              "<div>\n",
              "<style scoped>\n",
              "    .dataframe tbody tr th:only-of-type {\n",
              "        vertical-align: middle;\n",
              "    }\n",
              "\n",
              "    .dataframe tbody tr th {\n",
              "        vertical-align: top;\n",
              "    }\n",
              "\n",
              "    .dataframe thead th {\n",
              "        text-align: right;\n",
              "    }\n",
              "</style>\n",
              "<table border=\"1\" class=\"dataframe\">\n",
              "  <thead>\n",
              "    <tr style=\"text-align: right;\">\n",
              "      <th></th>\n",
              "      <th>attend</th>\n",
              "      <th>temp</th>\n",
              "    </tr>\n",
              "  </thead>\n",
              "  <tbody>\n",
              "    <tr>\n",
              "      <th>count</th>\n",
              "      <td>81.00</td>\n",
              "      <td>81.00</td>\n",
              "    </tr>\n",
              "    <tr>\n",
              "      <th>mean</th>\n",
              "      <td>41040.07</td>\n",
              "      <td>73.15</td>\n",
              "    </tr>\n",
              "    <tr>\n",
              "      <th>std</th>\n",
              "      <td>8297.54</td>\n",
              "      <td>8.32</td>\n",
              "    </tr>\n",
              "    <tr>\n",
              "      <th>min</th>\n",
              "      <td>24312.00</td>\n",
              "      <td>54.00</td>\n",
              "    </tr>\n",
              "    <tr>\n",
              "      <th>25%</th>\n",
              "      <td>34493.00</td>\n",
              "      <td>67.00</td>\n",
              "    </tr>\n",
              "    <tr>\n",
              "      <th>50%</th>\n",
              "      <td>40284.00</td>\n",
              "      <td>73.00</td>\n",
              "    </tr>\n",
              "    <tr>\n",
              "      <th>75%</th>\n",
              "      <td>46588.00</td>\n",
              "      <td>79.00</td>\n",
              "    </tr>\n",
              "    <tr>\n",
              "      <th>max</th>\n",
              "      <td>56000.00</td>\n",
              "      <td>95.00</td>\n",
              "    </tr>\n",
              "  </tbody>\n",
              "</table>\n",
              "</div>"
            ],
            "text/plain": [
              "         attend   temp\n",
              "count     81.00  81.00\n",
              "mean   41040.07  73.15\n",
              "std     8297.54   8.32\n",
              "min    24312.00  54.00\n",
              "25%    34493.00  67.00\n",
              "50%    40284.00  73.00\n",
              "75%    46588.00  79.00\n",
              "max    56000.00  95.00"
            ]
          },
          "metadata": {},
          "execution_count": 7
        }
      ]
    },
    {
      "cell_type": "markdown",
      "metadata": {
        "id": "lORzf81LBHX2"
      },
      "source": [
        "Lets check the basic statistics of \n",
        "* ordinal fields\n",
        "* categorical fields"
      ]
    },
    {
      "cell_type": "code",
      "metadata": {
        "colab": {
          "base_uri": "https://localhost:8080/",
          "height": 170
        },
        "id": "JQywnGICtUkA",
        "outputId": "53a2972c-e0e9-4e59-a177-fc5a2ac5ad3e"
      },
      "source": [
        "df.describe(include=['O'])"
      ],
      "execution_count": 8,
      "outputs": [
        {
          "output_type": "execute_result",
          "data": {
            "text/html": [
              "<div>\n",
              "<style scoped>\n",
              "    .dataframe tbody tr th:only-of-type {\n",
              "        vertical-align: middle;\n",
              "    }\n",
              "\n",
              "    .dataframe tbody tr th {\n",
              "        vertical-align: top;\n",
              "    }\n",
              "\n",
              "    .dataframe thead th {\n",
              "        text-align: right;\n",
              "    }\n",
              "</style>\n",
              "<table border=\"1\" class=\"dataframe\">\n",
              "  <thead>\n",
              "    <tr style=\"text-align: right;\">\n",
              "      <th></th>\n",
              "      <th>month</th>\n",
              "      <th>day</th>\n",
              "      <th>day_of_week</th>\n",
              "      <th>opponent</th>\n",
              "      <th>skies</th>\n",
              "      <th>day_night</th>\n",
              "      <th>cap</th>\n",
              "      <th>shirt</th>\n",
              "      <th>fireworks</th>\n",
              "      <th>bobblehead</th>\n",
              "    </tr>\n",
              "  </thead>\n",
              "  <tbody>\n",
              "    <tr>\n",
              "      <th>count</th>\n",
              "      <td>81</td>\n",
              "      <td>81</td>\n",
              "      <td>81</td>\n",
              "      <td>81</td>\n",
              "      <td>81</td>\n",
              "      <td>81</td>\n",
              "      <td>81</td>\n",
              "      <td>81</td>\n",
              "      <td>81</td>\n",
              "      <td>81</td>\n",
              "    </tr>\n",
              "    <tr>\n",
              "      <th>unique</th>\n",
              "      <td>7</td>\n",
              "      <td>31</td>\n",
              "      <td>7</td>\n",
              "      <td>17</td>\n",
              "      <td>2</td>\n",
              "      <td>2</td>\n",
              "      <td>2</td>\n",
              "      <td>2</td>\n",
              "      <td>2</td>\n",
              "      <td>2</td>\n",
              "    </tr>\n",
              "    <tr>\n",
              "      <th>top</th>\n",
              "      <td>MAY</td>\n",
              "      <td>13</td>\n",
              "      <td>Sunday</td>\n",
              "      <td>Snakes</td>\n",
              "      <td>Clear</td>\n",
              "      <td>Night</td>\n",
              "      <td>NO</td>\n",
              "      <td>NO</td>\n",
              "      <td>NO</td>\n",
              "      <td>NO</td>\n",
              "    </tr>\n",
              "    <tr>\n",
              "      <th>freq</th>\n",
              "      <td>18</td>\n",
              "      <td>5</td>\n",
              "      <td>13</td>\n",
              "      <td>9</td>\n",
              "      <td>62</td>\n",
              "      <td>66</td>\n",
              "      <td>79</td>\n",
              "      <td>78</td>\n",
              "      <td>67</td>\n",
              "      <td>70</td>\n",
              "    </tr>\n",
              "  </tbody>\n",
              "</table>\n",
              "</div>"
            ],
            "text/plain": [
              "       month day day_of_week opponent  ... cap shirt fireworks bobblehead\n",
              "count     81  81          81       81  ...  81    81        81         81\n",
              "unique     7  31           7       17  ...   2     2         2          2\n",
              "top      MAY  13      Sunday   Snakes  ...  NO    NO        NO         NO\n",
              "freq      18   5          13        9  ...  79    78        67         70\n",
              "\n",
              "[4 rows x 10 columns]"
            ]
          },
          "metadata": {},
          "execution_count": 8
        }
      ]
    },
    {
      "cell_type": "markdown",
      "metadata": {
        "id": "WDOz-O0ZfV6O"
      },
      "source": [
        "But are there any missing values?"
      ]
    },
    {
      "cell_type": "code",
      "metadata": {
        "colab": {
          "base_uri": "https://localhost:8080/"
        },
        "id": "vJf01ZsffOcV",
        "outputId": "523cec26-11b5-462d-af90-9642b1e3a07f"
      },
      "source": [
        "df.isna().sum(axis=0)"
      ],
      "execution_count": 9,
      "outputs": [
        {
          "output_type": "execute_result",
          "data": {
            "text/plain": [
              "month          0\n",
              "day            0\n",
              "attend         0\n",
              "day_of_week    0\n",
              "opponent       0\n",
              "temp           0\n",
              "skies          0\n",
              "day_night      0\n",
              "cap            0\n",
              "shirt          0\n",
              "fireworks      0\n",
              "bobblehead     0\n",
              "dtype: int64"
            ]
          },
          "metadata": {},
          "execution_count": 9
        }
      ]
    },
    {
      "cell_type": "markdown",
      "metadata": {
        "id": "kokEnjrwD9MQ"
      },
      "source": [
        "Dataset is really clean. There are no missing values.\n",
        "Now lets plot the distribution of nominal fields"
      ]
    },
    {
      "cell_type": "code",
      "metadata": {
        "colab": {
          "base_uri": "https://localhost:8080/",
          "height": 606
        },
        "id": "HNPogdpHH8ja",
        "outputId": "c68c3396-2a9f-48fa-fe4d-54add1774a76"
      },
      "source": [
        "fig, (ax1, ax2) = plt.subplots(nrows=1, ncols=2, figsize=(10, 10))\n",
        "sns.histplot(data=df, x=\"attend\", color=\"skyblue\", label=\"Attendance for Game\", kde=True,ax=ax1)\n",
        "sns.histplot(data=df, x=\"temp\", color=\"red\", label=\"Temperature on the day of Game\", kde=True,ax=ax2)\n",
        "plt.legend() \n",
        "plt.show()"
      ],
      "execution_count": 10,
      "outputs": [
        {
          "output_type": "display_data",
          "data": {
            "image/png": "[encoded data removed]",
            "text/plain": [
              "<Figure size 720x720 with 2 Axes>"
            ]
          },
          "metadata": {
            "needs_background": "light"
          }
        }
      ]
    },
    {
      "cell_type": "markdown",
      "metadata": {
        "id": "9Ks94kREUkYb"
      },
      "source": [
        "Now I will check if there are any outliers for these continous/nominal variables."
      ]
    },
    {
      "cell_type": "code",
      "metadata": {
        "id": "g_gFXF-2EHSE",
        "colab": {
          "base_uri": "https://localhost:8080/",
          "height": 483
        },
        "outputId": "1299e7fc-dc12-4e4b-9dba-fd8d0375d0e9"
      },
      "source": [
        "fig, (ax1, ax2) = plt.subplots(nrows=1, ncols=2, figsize=(8, 8))\n",
        "df.boxplot(column=['attend'],ax=ax1)\n",
        "df.boxplot(column=['temp'],ax=ax2)\n",
        "plt.show()"
      ],
      "execution_count": 11,
      "outputs": [
        {
          "output_type": "display_data",
          "data": {
            "image/png": "[encoded data removed]",
            "text/plain": [
              "<Figure size 576x576 with 2 Axes>"
            ]
          },
          "metadata": {
            "needs_background": "light"
          }
        }
      ]
    },
    {
      "cell_type": "markdown",
      "metadata": {
        "id": "BllWLYIfYbxS"
      },
      "source": [
        "To my surprise there are no outliers for attendance on any game day. Also tempearture also looks quite consistent and there is no outlier."
      ]
    },
    {
      "cell_type": "markdown",
      "metadata": {
        "id": "Mycb0K_hb0P3"
      },
      "source": [
        "Now let me check if temperature has any effect on attendance of Game. To check this, will plot on scatter plot with temperature on x-axis and attendance on y-axis."
      ]
    },
    {
      "cell_type": "code",
      "metadata": {
        "colab": {
          "base_uri": "https://localhost:8080/",
          "height": 297
        },
        "id": "JLSYRFmqcUjV",
        "outputId": "1471f763-c8cb-477d-d125-0c647bd89a40"
      },
      "source": [
        "sns.scatterplot(data=df,x='temp',y='attend',hue='day_night')"
      ],
      "execution_count": 12,
      "outputs": [
        {
          "output_type": "execute_result",
          "data": {
            "text/plain": [
              "<matplotlib.axes._subplots.AxesSubplot at 0x7fead4953550>"
            ]
          },
          "metadata": {},
          "execution_count": 12
        },
        {
          "output_type": "display_data",
          "data": {
            "image/png": "[encoded data removed]",
            "text/plain": [
              "<Figure size 432x288 with 1 Axes>"
            ]
          },
          "metadata": {
            "needs_background": "light"
          }
        }
      ]
    },
    {
      "cell_type": "markdown",
      "metadata": {
        "id": "y6PsT8lYHsDN"
      },
      "source": [
        "Looking at scatter plot it looks like attendance for Game is maximum during when temperature is in the range of 65 to 85 degrees farenheit.\n",
        "\n",
        "However it doesn't seem there is exact linear relationship between attendance and temperature.\n",
        "\n",
        "Now lets check how is the attendance in every month. For this I will plot bar chart."
      ]
    },
    {
      "cell_type": "code",
      "metadata": {
        "colab": {
          "base_uri": "https://localhost:8080/",
          "height": 359
        },
        "id": "NkIAWX9PLLVx",
        "outputId": "f940b8a9-04cb-4e26-f9aa-97b54b0c194c"
      },
      "source": [
        "df[['attend','month']].groupby([\"month\"]).mean().unstack().plot.bar()"
      ],
      "execution_count": 19,
      "outputs": [
        {
          "output_type": "execute_result",
          "data": {
            "text/plain": [
              "<matplotlib.axes._subplots.AxesSubplot at 0x7feaccfd5f50>"
            ]
          },
          "metadata": {},
          "execution_count": 19
        },
        {
          "output_type": "display_data",
          "data": {
            "image/png": "[encoded data removed]",
            "text/plain": [
              "<Figure size 432x288 with 1 Axes>"
            ]
          },
          "metadata": {
            "needs_background": "light"
          }
        }
      ]
    },
    {
      "cell_type": "markdown",
      "metadata": {
        "id": "R9rNTcVXM1YZ"
      },
      "source": [
        "Based on data it looks like Game season starts in April and Ends in October. The Summer months June, July and August have highest attendance on average.\n",
        "\n",
        "To my surprize, month of May have lesser average attendance. Generally its spring time and weather is not bad.\n",
        "\n",
        "**Why would month of May had on an average less attendance?** \n",
        "Lets check the temperature, sky condition and any promotional items give in month of May."
      ]
    },
    {
      "cell_type": "code",
      "metadata": {
        "colab": {
          "base_uri": "https://localhost:8080/",
          "height": 597
        },
        "id": "xhoBWABCPSnG",
        "outputId": "1d3e3b16-ba95-48b6-b179-7ee0456293fb"
      },
      "source": [
        "may_df = df.query('month == \"MAY\"')\n",
        "may_df"
      ],
      "execution_count": 22,
      "outputs": [
        {
          "output_type": "execute_result",
          "data": {
            "text/html": [
              "<div>\n",
              "<style scoped>\n",
              "    .dataframe tbody tr th:only-of-type {\n",
              "        vertical-align: middle;\n",
              "    }\n",
              "\n",
              "    .dataframe tbody tr th {\n",
              "        vertical-align: top;\n",
              "    }\n",
              "\n",
              "    .dataframe thead th {\n",
              "        text-align: right;\n",
              "    }\n",
              "</style>\n",
              "<table border=\"1\" class=\"dataframe\">\n",
              "  <thead>\n",
              "    <tr style=\"text-align: right;\">\n",
              "      <th></th>\n",
              "      <th>month</th>\n",
              "      <th>day</th>\n",
              "      <th>attend</th>\n",
              "      <th>day_of_week</th>\n",
              "      <th>opponent</th>\n",
              "      <th>temp</th>\n",
              "      <th>skies</th>\n",
              "      <th>day_night</th>\n",
              "      <th>cap</th>\n",
              "      <th>shirt</th>\n",
              "      <th>fireworks</th>\n",
              "      <th>bobblehead</th>\n",
              "    </tr>\n",
              "  </thead>\n",
              "  <tbody>\n",
              "    <tr>\n",
              "      <th>12</th>\n",
              "      <td>MAY</td>\n",
              "      <td>7</td>\n",
              "      <td>43713</td>\n",
              "      <td>Monday</td>\n",
              "      <td>Giants</td>\n",
              "      <td>67</td>\n",
              "      <td>Clear</td>\n",
              "      <td>Night</td>\n",
              "      <td>NO</td>\n",
              "      <td>NO</td>\n",
              "      <td>NO</td>\n",
              "      <td>NO</td>\n",
              "    </tr>\n",
              "    <tr>\n",
              "      <th>13</th>\n",
              "      <td>MAY</td>\n",
              "      <td>8</td>\n",
              "      <td>32799</td>\n",
              "      <td>Tuesday</td>\n",
              "      <td>Giants</td>\n",
              "      <td>75</td>\n",
              "      <td>Clear</td>\n",
              "      <td>Night</td>\n",
              "      <td>NO</td>\n",
              "      <td>NO</td>\n",
              "      <td>NO</td>\n",
              "      <td>NO</td>\n",
              "    </tr>\n",
              "    <tr>\n",
              "      <th>14</th>\n",
              "      <td>MAY</td>\n",
              "      <td>9</td>\n",
              "      <td>33993</td>\n",
              "      <td>Wednesday</td>\n",
              "      <td>Giants</td>\n",
              "      <td>71</td>\n",
              "      <td>Clear</td>\n",
              "      <td>Night</td>\n",
              "      <td>NO</td>\n",
              "      <td>NO</td>\n",
              "      <td>NO</td>\n",
              "      <td>NO</td>\n",
              "    </tr>\n",
              "    <tr>\n",
              "      <th>15</th>\n",
              "      <td>MAY</td>\n",
              "      <td>11</td>\n",
              "      <td>35591</td>\n",
              "      <td>Friday</td>\n",
              "      <td>Rockies</td>\n",
              "      <td>65</td>\n",
              "      <td>Clear</td>\n",
              "      <td>Night</td>\n",
              "      <td>NO</td>\n",
              "      <td>NO</td>\n",
              "      <td>YES</td>\n",
              "      <td>NO</td>\n",
              "    </tr>\n",
              "    <tr>\n",
              "      <th>16</th>\n",
              "      <td>MAY</td>\n",
              "      <td>12</td>\n",
              "      <td>33735</td>\n",
              "      <td>Saturday</td>\n",
              "      <td>Rockies</td>\n",
              "      <td>65</td>\n",
              "      <td>Clear</td>\n",
              "      <td>Night</td>\n",
              "      <td>NO</td>\n",
              "      <td>NO</td>\n",
              "      <td>NO</td>\n",
              "      <td>NO</td>\n",
              "    </tr>\n",
              "    <tr>\n",
              "      <th>17</th>\n",
              "      <td>MAY</td>\n",
              "      <td>13</td>\n",
              "      <td>49124</td>\n",
              "      <td>Sunday</td>\n",
              "      <td>Rockies</td>\n",
              "      <td>70</td>\n",
              "      <td>Clear</td>\n",
              "      <td>Day</td>\n",
              "      <td>NO</td>\n",
              "      <td>NO</td>\n",
              "      <td>NO</td>\n",
              "      <td>NO</td>\n",
              "    </tr>\n",
              "    <tr>\n",
              "      <th>18</th>\n",
              "      <td>MAY</td>\n",
              "      <td>14</td>\n",
              "      <td>24312</td>\n",
              "      <td>Monday</td>\n",
              "      <td>Snakes</td>\n",
              "      <td>67</td>\n",
              "      <td>Clear</td>\n",
              "      <td>Night</td>\n",
              "      <td>NO</td>\n",
              "      <td>NO</td>\n",
              "      <td>NO</td>\n",
              "      <td>NO</td>\n",
              "    </tr>\n",
              "    <tr>\n",
              "      <th>19</th>\n",
              "      <td>MAY</td>\n",
              "      <td>15</td>\n",
              "      <td>47077</td>\n",
              "      <td>Tuesday</td>\n",
              "      <td>Snakes</td>\n",
              "      <td>70</td>\n",
              "      <td>Clear</td>\n",
              "      <td>Night</td>\n",
              "      <td>NO</td>\n",
              "      <td>NO</td>\n",
              "      <td>NO</td>\n",
              "      <td>YES</td>\n",
              "    </tr>\n",
              "    <tr>\n",
              "      <th>20</th>\n",
              "      <td>MAY</td>\n",
              "      <td>18</td>\n",
              "      <td>40906</td>\n",
              "      <td>Friday</td>\n",
              "      <td>Cardinals</td>\n",
              "      <td>64</td>\n",
              "      <td>Clear</td>\n",
              "      <td>Night</td>\n",
              "      <td>NO</td>\n",
              "      <td>NO</td>\n",
              "      <td>YES</td>\n",
              "      <td>NO</td>\n",
              "    </tr>\n",
              "    <tr>\n",
              "      <th>21</th>\n",
              "      <td>MAY</td>\n",
              "      <td>19</td>\n",
              "      <td>39383</td>\n",
              "      <td>Saturday</td>\n",
              "      <td>Cardinals</td>\n",
              "      <td>67</td>\n",
              "      <td>Clear</td>\n",
              "      <td>Night</td>\n",
              "      <td>NO</td>\n",
              "      <td>NO</td>\n",
              "      <td>NO</td>\n",
              "      <td>NO</td>\n",
              "    </tr>\n",
              "    <tr>\n",
              "      <th>22</th>\n",
              "      <td>MAY</td>\n",
              "      <td>20</td>\n",
              "      <td>44005</td>\n",
              "      <td>Sunday</td>\n",
              "      <td>Cardinals</td>\n",
              "      <td>77</td>\n",
              "      <td>Clear</td>\n",
              "      <td>Night</td>\n",
              "      <td>NO</td>\n",
              "      <td>NO</td>\n",
              "      <td>NO</td>\n",
              "      <td>NO</td>\n",
              "    </tr>\n",
              "    <tr>\n",
              "      <th>23</th>\n",
              "      <td>MAY</td>\n",
              "      <td>25</td>\n",
              "      <td>36283</td>\n",
              "      <td>Friday</td>\n",
              "      <td>Astros</td>\n",
              "      <td>59</td>\n",
              "      <td>Cloudy</td>\n",
              "      <td>Night</td>\n",
              "      <td>NO</td>\n",
              "      <td>NO</td>\n",
              "      <td>YES</td>\n",
              "      <td>NO</td>\n",
              "    </tr>\n",
              "    <tr>\n",
              "      <th>24</th>\n",
              "      <td>MAY</td>\n",
              "      <td>26</td>\n",
              "      <td>36561</td>\n",
              "      <td>Saturday</td>\n",
              "      <td>Astros</td>\n",
              "      <td>61</td>\n",
              "      <td>Cloudy</td>\n",
              "      <td>Night</td>\n",
              "      <td>NO</td>\n",
              "      <td>NO</td>\n",
              "      <td>NO</td>\n",
              "      <td>NO</td>\n",
              "    </tr>\n",
              "    <tr>\n",
              "      <th>25</th>\n",
              "      <td>MAY</td>\n",
              "      <td>27</td>\n",
              "      <td>33306</td>\n",
              "      <td>Sunday</td>\n",
              "      <td>Astros</td>\n",
              "      <td>70</td>\n",
              "      <td>Clear</td>\n",
              "      <td>Day</td>\n",
              "      <td>NO</td>\n",
              "      <td>NO</td>\n",
              "      <td>NO</td>\n",
              "      <td>NO</td>\n",
              "    </tr>\n",
              "    <tr>\n",
              "      <th>26</th>\n",
              "      <td>MAY</td>\n",
              "      <td>28</td>\n",
              "      <td>38016</td>\n",
              "      <td>Monday</td>\n",
              "      <td>Brewers</td>\n",
              "      <td>73</td>\n",
              "      <td>Clear</td>\n",
              "      <td>Night</td>\n",
              "      <td>NO</td>\n",
              "      <td>NO</td>\n",
              "      <td>NO</td>\n",
              "      <td>NO</td>\n",
              "    </tr>\n",
              "    <tr>\n",
              "      <th>27</th>\n",
              "      <td>MAY</td>\n",
              "      <td>29</td>\n",
              "      <td>51137</td>\n",
              "      <td>Tuesday</td>\n",
              "      <td>Brewers</td>\n",
              "      <td>74</td>\n",
              "      <td>Clear</td>\n",
              "      <td>Night</td>\n",
              "      <td>NO</td>\n",
              "      <td>NO</td>\n",
              "      <td>NO</td>\n",
              "      <td>YES</td>\n",
              "    </tr>\n",
              "    <tr>\n",
              "      <th>28</th>\n",
              "      <td>MAY</td>\n",
              "      <td>30</td>\n",
              "      <td>25509</td>\n",
              "      <td>Wednesday</td>\n",
              "      <td>Brewers</td>\n",
              "      <td>69</td>\n",
              "      <td>Clear</td>\n",
              "      <td>Night</td>\n",
              "      <td>NO</td>\n",
              "      <td>NO</td>\n",
              "      <td>NO</td>\n",
              "      <td>NO</td>\n",
              "    </tr>\n",
              "    <tr>\n",
              "      <th>29</th>\n",
              "      <td>MAY</td>\n",
              "      <td>31</td>\n",
              "      <td>26773</td>\n",
              "      <td>Thursday</td>\n",
              "      <td>Brewers</td>\n",
              "      <td>70</td>\n",
              "      <td>Clear</td>\n",
              "      <td>Night</td>\n",
              "      <td>NO</td>\n",
              "      <td>NO</td>\n",
              "      <td>NO</td>\n",
              "      <td>NO</td>\n",
              "    </tr>\n",
              "  </tbody>\n",
              "</table>\n",
              "</div>"
            ],
            "text/plain": [
              "   month day  attend day_of_week  ... cap  shirt fireworks bobblehead\n",
              "12   MAY   7   43713      Monday  ...  NO     NO        NO         NO\n",
              "13   MAY   8   32799     Tuesday  ...  NO     NO        NO         NO\n",
              "14   MAY   9   33993   Wednesday  ...  NO     NO        NO         NO\n",
              "15   MAY  11   35591      Friday  ...  NO     NO       YES         NO\n",
              "16   MAY  12   33735    Saturday  ...  NO     NO        NO         NO\n",
              "17   MAY  13   49124      Sunday  ...  NO     NO        NO         NO\n",
              "18   MAY  14   24312      Monday  ...  NO     NO        NO         NO\n",
              "19   MAY  15   47077     Tuesday  ...  NO     NO        NO        YES\n",
              "20   MAY  18   40906      Friday  ...  NO     NO       YES         NO\n",
              "21   MAY  19   39383    Saturday  ...  NO     NO        NO         NO\n",
              "22   MAY  20   44005      Sunday  ...  NO     NO        NO         NO\n",
              "23   MAY  25   36283      Friday  ...  NO     NO       YES         NO\n",
              "24   MAY  26   36561    Saturday  ...  NO     NO        NO         NO\n",
              "25   MAY  27   33306      Sunday  ...  NO     NO        NO         NO\n",
              "26   MAY  28   38016      Monday  ...  NO     NO        NO         NO\n",
              "27   MAY  29   51137     Tuesday  ...  NO     NO        NO        YES\n",
              "28   MAY  30   25509   Wednesday  ...  NO     NO        NO         NO\n",
              "29   MAY  31   26773    Thursday  ...  NO     NO        NO         NO\n",
              "\n",
              "[18 rows x 12 columns]"
            ]
          },
          "metadata": {},
          "execution_count": 22
        }
      ]
    },
    {
      "cell_type": "markdown",
      "metadata": {
        "id": "tHSEFAjaQ-ts"
      },
      "source": [
        "Overall I notice, temperature was always better (in the rage of 65 to 85) and sky was also clear most (90%) of the time. The was fireworks 3 times and bobblehead was given as promotional item 2 times. No caps or shirts were given.\n",
        "\n",
        "*I think **month of May** has great potential to increase the attendance. **So I would recommend month of May for carrying marketing promotions which can help with increasing attendance**.*\n",
        "\n",
        "Now lets check **which Day of the week would be good** for promotion?"
      ]
    },
    {
      "cell_type": "code",
      "metadata": {
        "colab": {
          "base_uri": "https://localhost:8080/",
          "height": 393
        },
        "id": "aP0Dc_a_WXnx",
        "outputId": "4fcdae3b-787c-4938-e8b6-debc5590ab28"
      },
      "source": [
        "may_df[['attend','day_of_week']].groupby([\"day_of_week\"]).mean().unstack().plot.bar()"
      ],
      "execution_count": 24,
      "outputs": [
        {
          "output_type": "execute_result",
          "data": {
            "text/plain": [
              "<matplotlib.axes._subplots.AxesSubplot at 0x7feacce11550>"
            ]
          },
          "metadata": {},
          "execution_count": 24
        },
        {
          "output_type": "display_data",
          "data": {
            "image/png": "[encoded data removed]",
            "text/plain": [
              "<Figure size 432x288 with 1 Axes>"
            ]
          },
          "metadata": {
            "needs_background": "light"
          }
        }
      ]
    },
    {
      "cell_type": "markdown",
      "metadata": {
        "id": "HdGyHonoXFaB"
      },
      "source": [
        "Careful look at May month data, I notice that\n",
        "* Avg attendance was high on Tuesday. Bobblehead is given as promotional item on Tuesday\n",
        "* Fireworks show was organized every Friday and attendance was just fine.\n",
        "* Attendance was good on Saturday and Sundays considering its weekend. On Sunday's game is arranged in day time.\n",
        "* **Attendance was kind of low on Wednesday's and lower on Thursday's. No promotional items are provided on Thursday and Wednesday.**\n",
        "\n",
        "###  I see good opportunity to increase the attendance on Thursday's in month of MAY.Any Marketing promotions should be carried out on Thursday's in MAY."
      ]
    },
    {
      "cell_type": "code",
      "metadata": {
        "id": "g1r3ZLQnXD09"
      },
      "source": [
        ""
      ],
      "execution_count": null,
      "outputs": []
    }
  ]
}