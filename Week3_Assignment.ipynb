{
  "nbformat": 4,
  "nbformat_minor": 0,
  "metadata": {
    "colab": {
      "name": "Week3_Assignment.ipynb",
      "provenance": [],
      "authorship_tag": "ABX9TyMaSGsc53+skzU0EJZ/eTkU",
      "include_colab_link": true
    },
    "kernelspec": {
      "name": "python3",
      "display_name": "Python 3"
    },
    "language_info": {
      "name": "python"
    }
  },
  "cells": [
    {
      "cell_type": "markdown",
      "metadata": {
        "id": "view-in-github",
        "colab_type": "text"
      },
      "source": [
        "<a href=\"https://colab.research.google.com/github/ninadcpa/DSC630/blob/main/Week3_Assignment.ipynb\" target=\"_parent\"><img src=\"https://colab.research.google.com/assets/colab-badge.svg\" alt=\"Open In Colab\"/></a>"
      ]
    },
    {
      "cell_type": "markdown",
      "metadata": {
        "id": "AJwxaPyDrfgU"
      },
      "source": [
        "# Week 2 Assignment\n",
        "\n",
        "@author - Ninad Patkhedkar"
      ]
    },
    {
      "cell_type": "code",
      "metadata": {
        "colab": {
          "base_uri": "https://localhost:8080/"
        },
        "id": "znyLhBUBrY12",
        "outputId": "29e2705c-cb28-48d5-b771-fb0c49cc3bec"
      },
      "source": [
        "# This code is written for mounting code folder checked out from github on google drive\n",
        "# All assignment code will be maintained inside folder \"DSC630\"\n",
        "\n",
        "from google.colab import drive\n",
        "import sys\n",
        "import os\n",
        "\n",
        "drive.mount('/content/drive')\n",
        "sys.path.append('/content/drive/MyDrive/Colab Notebooks/DSC630')\n",
        "os.chdir('/content/drive/MyDrive/Colab Notebooks/DSC630')"
      ],
      "execution_count": 1,
      "outputs": [
        {
          "output_type": "stream",
          "name": "stdout",
          "text": [
            "Drive already mounted at /content/drive; to attempt to forcibly remount, call drive.mount(\"/content/drive\", force_remount=True).\n"
          ]
        }
      ]
    },
    {
      "cell_type": "markdown",
      "metadata": {
        "id": "Cn8ihz3gsCLS"
      },
      "source": [
        "For this week’s assignment we're going to use Dodgers Major League Baseball data from 2012. The data file you will be using is contained in the dodgers.csv file. I would like you to determine what night would be the best to run a marketing promotion to increase attendance. It is up to you if you decide to recommend a specific date or if you  recommend a day of the week (e.g., Tuesdays) or month and day of the week (e.g., July Tuesdays). Use R and/or Python to accomplish this assignment. It is important to remember, there will be lots of ways to solve this problem. Explain your thought process and how you used various techniques to come up with your recommendation. From this data, at a minimum, you should be able to demonstrate the following:  \n",
        "* Box plots  \n",
        "* Scatter plots  \n",
        "* Regression Model  \n"
      ]
    },
    {
      "cell_type": "code",
      "metadata": {
        "id": "_U_5HhmlsbYM"
      },
      "source": [
        "# Reading csv file and loading data into dataframe\n",
        "from __future__ import print_function\n",
        "\n",
        "import pandas as pd\n",
        "import numpy as np\n",
        "import matplotlib.pyplot as plt\n",
        "import seaborn as sns\n",
        "%matplotlib inline\n",
        "\n",
        "import warnings\n",
        "warnings.filterwarnings('ignore', category=FutureWarning)\n",
        "\n",
        "pd.set_option(\"display.precision\", 2)\n",
        "# Substitute values used for missing values in dataset\n",
        "missing_values = [\"n/a\", \"na\", \"--\",\"\"]\n",
        "# Load the data in pandas dataframe with missing values set to NaN\n",
        "df = pd.read_csv('dodgers.csv',na_values = missing_values)"
      ],
      "execution_count": 2,
      "outputs": []
    },
    {
      "cell_type": "markdown",
      "metadata": {
        "id": "557Yhj11w_3A"
      },
      "source": [
        "Lets check the dimension of the data."
      ]
    },
    {
      "cell_type": "code",
      "metadata": {
        "colab": {
          "base_uri": "https://localhost:8080/"
        },
        "id": "_5bXIEBnsuXL",
        "outputId": "8fd5f7bc-93be-4008-9390-465c0dd9b871"
      },
      "source": [
        "df.shape"
      ],
      "execution_count": 3,
      "outputs": [
        {
          "output_type": "execute_result",
          "data": {
            "text/plain": [
              "(81, 12)"
            ]
          },
          "metadata": {},
          "execution_count": 3
        }
      ]
    },
    {
      "cell_type": "markdown",
      "metadata": {
        "id": "GdRDK6b4y7L6"
      },
      "source": [
        "Data contains 81 observarions and 12 features.\n",
        "\n",
        "Lets check the sample of data to get the feel of data."
      ]
    },
    {
      "cell_type": "code",
      "metadata": {
        "colab": {
          "base_uri": "https://localhost:8080/",
          "height": 354
        },
        "id": "1jZZ2Y_MsyrU",
        "outputId": "51087c3b-60f0-4771-bbb9-7f7c90150a78"
      },
      "source": [
        "df.sample(10)"
      ],
      "execution_count": 4,
      "outputs": [
        {
          "output_type": "execute_result",
          "data": {
            "text/html": [
              "<div>\n",
              "<style scoped>\n",
              "    .dataframe tbody tr th:only-of-type {\n",
              "        vertical-align: middle;\n",
              "    }\n",
              "\n",
              "    .dataframe tbody tr th {\n",
              "        vertical-align: top;\n",
              "    }\n",
              "\n",
              "    .dataframe thead th {\n",
              "        text-align: right;\n",
              "    }\n",
              "</style>\n",
              "<table border=\"1\" class=\"dataframe\">\n",
              "  <thead>\n",
              "    <tr style=\"text-align: right;\">\n",
              "      <th></th>\n",
              "      <th>month</th>\n",
              "      <th>day</th>\n",
              "      <th>attend</th>\n",
              "      <th>day_of_week</th>\n",
              "      <th>opponent</th>\n",
              "      <th>temp</th>\n",
              "      <th>skies</th>\n",
              "      <th>day_night</th>\n",
              "      <th>cap</th>\n",
              "      <th>shirt</th>\n",
              "      <th>fireworks</th>\n",
              "      <th>bobblehead</th>\n",
              "    </tr>\n",
              "  </thead>\n",
              "  <tbody>\n",
              "    <tr>\n",
              "      <th>75</th>\n",
              "      <td>SEP</td>\n",
              "      <td>28</td>\n",
              "      <td>37133</td>\n",
              "      <td>Friday</td>\n",
              "      <td>Rockies</td>\n",
              "      <td>77</td>\n",
              "      <td>Clear</td>\n",
              "      <td>Night</td>\n",
              "      <td>NO</td>\n",
              "      <td>NO</td>\n",
              "      <td>YES</td>\n",
              "      <td>NO</td>\n",
              "    </tr>\n",
              "    <tr>\n",
              "      <th>15</th>\n",
              "      <td>MAY</td>\n",
              "      <td>11</td>\n",
              "      <td>35591</td>\n",
              "      <td>Friday</td>\n",
              "      <td>Rockies</td>\n",
              "      <td>65</td>\n",
              "      <td>Clear</td>\n",
              "      <td>Night</td>\n",
              "      <td>NO</td>\n",
              "      <td>NO</td>\n",
              "      <td>YES</td>\n",
              "      <td>NO</td>\n",
              "    </tr>\n",
              "    <tr>\n",
              "      <th>56</th>\n",
              "      <td>AUG</td>\n",
              "      <td>7</td>\n",
              "      <td>55024</td>\n",
              "      <td>Tuesday</td>\n",
              "      <td>Rockies</td>\n",
              "      <td>80</td>\n",
              "      <td>Clear</td>\n",
              "      <td>Night</td>\n",
              "      <td>NO</td>\n",
              "      <td>NO</td>\n",
              "      <td>NO</td>\n",
              "      <td>YES</td>\n",
              "    </tr>\n",
              "    <tr>\n",
              "      <th>57</th>\n",
              "      <td>AUG</td>\n",
              "      <td>8</td>\n",
              "      <td>37084</td>\n",
              "      <td>Wednesday</td>\n",
              "      <td>Rockies</td>\n",
              "      <td>84</td>\n",
              "      <td>Clear</td>\n",
              "      <td>Night</td>\n",
              "      <td>NO</td>\n",
              "      <td>NO</td>\n",
              "      <td>NO</td>\n",
              "      <td>NO</td>\n",
              "    </tr>\n",
              "    <tr>\n",
              "      <th>67</th>\n",
              "      <td>SEP</td>\n",
              "      <td>2</td>\n",
              "      <td>31607</td>\n",
              "      <td>Sunday</td>\n",
              "      <td>Snakes</td>\n",
              "      <td>89</td>\n",
              "      <td>Clear</td>\n",
              "      <td>Day</td>\n",
              "      <td>NO</td>\n",
              "      <td>NO</td>\n",
              "      <td>NO</td>\n",
              "      <td>NO</td>\n",
              "    </tr>\n",
              "    <tr>\n",
              "      <th>76</th>\n",
              "      <td>SEP</td>\n",
              "      <td>29</td>\n",
              "      <td>40724</td>\n",
              "      <td>Saturday</td>\n",
              "      <td>Rockies</td>\n",
              "      <td>84</td>\n",
              "      <td>Cloudy</td>\n",
              "      <td>Night</td>\n",
              "      <td>NO</td>\n",
              "      <td>NO</td>\n",
              "      <td>NO</td>\n",
              "      <td>NO</td>\n",
              "    </tr>\n",
              "    <tr>\n",
              "      <th>7</th>\n",
              "      <td>APR</td>\n",
              "      <td>24</td>\n",
              "      <td>44014</td>\n",
              "      <td>Tuesday</td>\n",
              "      <td>Braves</td>\n",
              "      <td>63</td>\n",
              "      <td>Cloudy</td>\n",
              "      <td>Night</td>\n",
              "      <td>NO</td>\n",
              "      <td>NO</td>\n",
              "      <td>NO</td>\n",
              "      <td>NO</td>\n",
              "    </tr>\n",
              "    <tr>\n",
              "      <th>6</th>\n",
              "      <td>APR</td>\n",
              "      <td>23</td>\n",
              "      <td>26376</td>\n",
              "      <td>Monday</td>\n",
              "      <td>Braves</td>\n",
              "      <td>60</td>\n",
              "      <td>Cloudy</td>\n",
              "      <td>Night</td>\n",
              "      <td>NO</td>\n",
              "      <td>NO</td>\n",
              "      <td>NO</td>\n",
              "      <td>NO</td>\n",
              "    </tr>\n",
              "    <tr>\n",
              "      <th>49</th>\n",
              "      <td>JUL</td>\n",
              "      <td>30</td>\n",
              "      <td>33180</td>\n",
              "      <td>Monday</td>\n",
              "      <td>Snakes</td>\n",
              "      <td>73</td>\n",
              "      <td>Clear</td>\n",
              "      <td>Night</td>\n",
              "      <td>NO</td>\n",
              "      <td>NO</td>\n",
              "      <td>NO</td>\n",
              "      <td>NO</td>\n",
              "    </tr>\n",
              "    <tr>\n",
              "      <th>25</th>\n",
              "      <td>MAY</td>\n",
              "      <td>27</td>\n",
              "      <td>33306</td>\n",
              "      <td>Sunday</td>\n",
              "      <td>Astros</td>\n",
              "      <td>70</td>\n",
              "      <td>Clear</td>\n",
              "      <td>Day</td>\n",
              "      <td>NO</td>\n",
              "      <td>NO</td>\n",
              "      <td>NO</td>\n",
              "      <td>NO</td>\n",
              "    </tr>\n",
              "  </tbody>\n",
              "</table>\n",
              "</div>"
            ],
            "text/plain": [
              "   month  day  attend day_of_week  ... cap  shirt fireworks bobblehead\n",
              "75   SEP   28   37133      Friday  ...  NO     NO       YES         NO\n",
              "15   MAY   11   35591      Friday  ...  NO     NO       YES         NO\n",
              "56   AUG    7   55024     Tuesday  ...  NO     NO        NO        YES\n",
              "57   AUG    8   37084   Wednesday  ...  NO     NO        NO         NO\n",
              "67   SEP    2   31607      Sunday  ...  NO     NO        NO         NO\n",
              "76   SEP   29   40724    Saturday  ...  NO     NO        NO         NO\n",
              "7    APR   24   44014     Tuesday  ...  NO     NO        NO         NO\n",
              "6    APR   23   26376      Monday  ...  NO     NO        NO         NO\n",
              "49   JUL   30   33180      Monday  ...  NO     NO        NO         NO\n",
              "25   MAY   27   33306      Sunday  ...  NO     NO        NO         NO\n",
              "\n",
              "[10 rows x 12 columns]"
            ]
          },
          "metadata": {},
          "execution_count": 4
        }
      ]
    },
    {
      "cell_type": "markdown",
      "metadata": {
        "id": "NWOtPddyzQKj"
      },
      "source": [
        "Lets check what are various features in dataset and data type."
      ]
    },
    {
      "cell_type": "code",
      "metadata": {
        "colab": {
          "base_uri": "https://localhost:8080/"
        },
        "id": "j802s35is_Q4",
        "outputId": "ad0709af-2c5b-4e73-e2b3-ce05514d8572"
      },
      "source": [
        "df.info()"
      ],
      "execution_count": 5,
      "outputs": [
        {
          "output_type": "stream",
          "name": "stdout",
          "text": [
            "<class 'pandas.core.frame.DataFrame'>\n",
            "RangeIndex: 81 entries, 0 to 80\n",
            "Data columns (total 12 columns):\n",
            " #   Column       Non-Null Count  Dtype \n",
            "---  ------       --------------  ----- \n",
            " 0   month        81 non-null     object\n",
            " 1   day          81 non-null     int64 \n",
            " 2   attend       81 non-null     int64 \n",
            " 3   day_of_week  81 non-null     object\n",
            " 4   opponent     81 non-null     object\n",
            " 5   temp         81 non-null     int64 \n",
            " 6   skies        81 non-null     object\n",
            " 7   day_night    81 non-null     object\n",
            " 8   cap          81 non-null     object\n",
            " 9   shirt        81 non-null     object\n",
            " 10  fireworks    81 non-null     object\n",
            " 11  bobblehead   81 non-null     object\n",
            "dtypes: int64(3), object(9)\n",
            "memory usage: 7.7+ KB\n"
          ]
        }
      ]
    },
    {
      "cell_type": "markdown",
      "metadata": {
        "id": "TMTbdwuizgFU"
      },
      "source": [
        "Information about features\n",
        "\n",
        "> **month** - Month the game was held  \n",
        "> **day** - Date the game was held  \n",
        "> **attend** - Number of attendees at the game  \n",
        "> **day_of_week** - Day the game was held  \n",
        "> **opponent** - Name of the opposing team  \n",
        "> **temp** - Temperature during the game  \n",
        "> **skies** - Weather conditions of the game  \n",
        "> **day_night** - Whether the game was played in the day or night  \n",
        "> **cap** - Yes, if cap was given as a promotion else No  \n",
        "> **shirt** - Yes, if shirt was given as a promotion else No  \n",
        "> **firweworks** - Yes, if fireworks was given as a promotion else No  \n",
        "> **bobblehead** - Yes, if bobblehead was given as a promotion else No"
      ]
    },
    {
      "cell_type": "markdown",
      "metadata": {
        "id": "JFsFp5625NJ3"
      },
      "source": [
        "Lets describe the statistics of nominal fields"
      ]
    },
    {
      "cell_type": "code",
      "metadata": {
        "colab": {
          "base_uri": "https://localhost:8080/",
          "height": 293
        },
        "id": "jWuZWiJDtQoE",
        "outputId": "6cbae54c-a19b-46ed-939f-c89891806f4c"
      },
      "source": [
        "df.describe()"
      ],
      "execution_count": 6,
      "outputs": [
        {
          "output_type": "execute_result",
          "data": {
            "text/html": [
              "<div>\n",
              "<style scoped>\n",
              "    .dataframe tbody tr th:only-of-type {\n",
              "        vertical-align: middle;\n",
              "    }\n",
              "\n",
              "    .dataframe tbody tr th {\n",
              "        vertical-align: top;\n",
              "    }\n",
              "\n",
              "    .dataframe thead th {\n",
              "        text-align: right;\n",
              "    }\n",
              "</style>\n",
              "<table border=\"1\" class=\"dataframe\">\n",
              "  <thead>\n",
              "    <tr style=\"text-align: right;\">\n",
              "      <th></th>\n",
              "      <th>day</th>\n",
              "      <th>attend</th>\n",
              "      <th>temp</th>\n",
              "    </tr>\n",
              "  </thead>\n",
              "  <tbody>\n",
              "    <tr>\n",
              "      <th>count</th>\n",
              "      <td>81.00</td>\n",
              "      <td>81.00</td>\n",
              "      <td>81.00</td>\n",
              "    </tr>\n",
              "    <tr>\n",
              "      <th>mean</th>\n",
              "      <td>16.14</td>\n",
              "      <td>41040.07</td>\n",
              "      <td>73.15</td>\n",
              "    </tr>\n",
              "    <tr>\n",
              "      <th>std</th>\n",
              "      <td>9.61</td>\n",
              "      <td>8297.54</td>\n",
              "      <td>8.32</td>\n",
              "    </tr>\n",
              "    <tr>\n",
              "      <th>min</th>\n",
              "      <td>1.00</td>\n",
              "      <td>24312.00</td>\n",
              "      <td>54.00</td>\n",
              "    </tr>\n",
              "    <tr>\n",
              "      <th>25%</th>\n",
              "      <td>8.00</td>\n",
              "      <td>34493.00</td>\n",
              "      <td>67.00</td>\n",
              "    </tr>\n",
              "    <tr>\n",
              "      <th>50%</th>\n",
              "      <td>15.00</td>\n",
              "      <td>40284.00</td>\n",
              "      <td>73.00</td>\n",
              "    </tr>\n",
              "    <tr>\n",
              "      <th>75%</th>\n",
              "      <td>25.00</td>\n",
              "      <td>46588.00</td>\n",
              "      <td>79.00</td>\n",
              "    </tr>\n",
              "    <tr>\n",
              "      <th>max</th>\n",
              "      <td>31.00</td>\n",
              "      <td>56000.00</td>\n",
              "      <td>95.00</td>\n",
              "    </tr>\n",
              "  </tbody>\n",
              "</table>\n",
              "</div>"
            ],
            "text/plain": [
              "         day    attend   temp\n",
              "count  81.00     81.00  81.00\n",
              "mean   16.14  41040.07  73.15\n",
              "std     9.61   8297.54   8.32\n",
              "min     1.00  24312.00  54.00\n",
              "25%     8.00  34493.00  67.00\n",
              "50%    15.00  40284.00  73.00\n",
              "75%    25.00  46588.00  79.00\n",
              "max    31.00  56000.00  95.00"
            ]
          },
          "metadata": {},
          "execution_count": 6
        }
      ]
    },
    {
      "cell_type": "markdown",
      "metadata": {
        "id": "jr-Ogola5XHv"
      },
      "source": [
        "I notice, since day of the month integer value, it is considered as nominal value. However in reality it is ordinal value.\n",
        "\n",
        "Simple way to fix this could be to covert day of month field from integer to string."
      ]
    },
    {
      "cell_type": "code",
      "metadata": {
        "colab": {
          "base_uri": "https://localhost:8080/",
          "height": 293
        },
        "id": "5brcZgEeBZUg",
        "outputId": "b7fce60f-eca8-403b-b981-84626744a526"
      },
      "source": [
        "df['day'] = df['day'].astype(str)\n",
        "df.describe()"
      ],
      "execution_count": 7,
      "outputs": [
        {
          "output_type": "execute_result",
          "data": {
            "text/html": [
              "<div>\n",
              "<style scoped>\n",
              "    .dataframe tbody tr th:only-of-type {\n",
              "        vertical-align: middle;\n",
              "    }\n",
              "\n",
              "    .dataframe tbody tr th {\n",
              "        vertical-align: top;\n",
              "    }\n",
              "\n",
              "    .dataframe thead th {\n",
              "        text-align: right;\n",
              "    }\n",
              "</style>\n",
              "<table border=\"1\" class=\"dataframe\">\n",
              "  <thead>\n",
              "    <tr style=\"text-align: right;\">\n",
              "      <th></th>\n",
              "      <th>attend</th>\n",
              "      <th>temp</th>\n",
              "    </tr>\n",
              "  </thead>\n",
              "  <tbody>\n",
              "    <tr>\n",
              "      <th>count</th>\n",
              "      <td>81.00</td>\n",
              "      <td>81.00</td>\n",
              "    </tr>\n",
              "    <tr>\n",
              "      <th>mean</th>\n",
              "      <td>41040.07</td>\n",
              "      <td>73.15</td>\n",
              "    </tr>\n",
              "    <tr>\n",
              "      <th>std</th>\n",
              "      <td>8297.54</td>\n",
              "      <td>8.32</td>\n",
              "    </tr>\n",
              "    <tr>\n",
              "      <th>min</th>\n",
              "      <td>24312.00</td>\n",
              "      <td>54.00</td>\n",
              "    </tr>\n",
              "    <tr>\n",
              "      <th>25%</th>\n",
              "      <td>34493.00</td>\n",
              "      <td>67.00</td>\n",
              "    </tr>\n",
              "    <tr>\n",
              "      <th>50%</th>\n",
              "      <td>40284.00</td>\n",
              "      <td>73.00</td>\n",
              "    </tr>\n",
              "    <tr>\n",
              "      <th>75%</th>\n",
              "      <td>46588.00</td>\n",
              "      <td>79.00</td>\n",
              "    </tr>\n",
              "    <tr>\n",
              "      <th>max</th>\n",
              "      <td>56000.00</td>\n",
              "      <td>95.00</td>\n",
              "    </tr>\n",
              "  </tbody>\n",
              "</table>\n",
              "</div>"
            ],
            "text/plain": [
              "         attend   temp\n",
              "count     81.00  81.00\n",
              "mean   41040.07  73.15\n",
              "std     8297.54   8.32\n",
              "min    24312.00  54.00\n",
              "25%    34493.00  67.00\n",
              "50%    40284.00  73.00\n",
              "75%    46588.00  79.00\n",
              "max    56000.00  95.00"
            ]
          },
          "metadata": {},
          "execution_count": 7
        }
      ]
    },
    {
      "cell_type": "markdown",
      "metadata": {
        "id": "lORzf81LBHX2"
      },
      "source": [
        "Lets check the basic statistics of \n",
        "* ordinal fields\n",
        "* categorical fields"
      ]
    },
    {
      "cell_type": "code",
      "metadata": {
        "colab": {
          "base_uri": "https://localhost:8080/",
          "height": 170
        },
        "id": "JQywnGICtUkA",
        "outputId": "0b53a9a5-3963-4a04-9e30-c804034daeed"
      },
      "source": [
        "df.describe(include=['O'])"
      ],
      "execution_count": 8,
      "outputs": [
        {
          "output_type": "execute_result",
          "data": {
            "text/html": [
              "<div>\n",
              "<style scoped>\n",
              "    .dataframe tbody tr th:only-of-type {\n",
              "        vertical-align: middle;\n",
              "    }\n",
              "\n",
              "    .dataframe tbody tr th {\n",
              "        vertical-align: top;\n",
              "    }\n",
              "\n",
              "    .dataframe thead th {\n",
              "        text-align: right;\n",
              "    }\n",
              "</style>\n",
              "<table border=\"1\" class=\"dataframe\">\n",
              "  <thead>\n",
              "    <tr style=\"text-align: right;\">\n",
              "      <th></th>\n",
              "      <th>month</th>\n",
              "      <th>day</th>\n",
              "      <th>day_of_week</th>\n",
              "      <th>opponent</th>\n",
              "      <th>skies</th>\n",
              "      <th>day_night</th>\n",
              "      <th>cap</th>\n",
              "      <th>shirt</th>\n",
              "      <th>fireworks</th>\n",
              "      <th>bobblehead</th>\n",
              "    </tr>\n",
              "  </thead>\n",
              "  <tbody>\n",
              "    <tr>\n",
              "      <th>count</th>\n",
              "      <td>81</td>\n",
              "      <td>81</td>\n",
              "      <td>81</td>\n",
              "      <td>81</td>\n",
              "      <td>81</td>\n",
              "      <td>81</td>\n",
              "      <td>81</td>\n",
              "      <td>81</td>\n",
              "      <td>81</td>\n",
              "      <td>81</td>\n",
              "    </tr>\n",
              "    <tr>\n",
              "      <th>unique</th>\n",
              "      <td>7</td>\n",
              "      <td>31</td>\n",
              "      <td>7</td>\n",
              "      <td>17</td>\n",
              "      <td>2</td>\n",
              "      <td>2</td>\n",
              "      <td>2</td>\n",
              "      <td>2</td>\n",
              "      <td>2</td>\n",
              "      <td>2</td>\n",
              "    </tr>\n",
              "    <tr>\n",
              "      <th>top</th>\n",
              "      <td>MAY</td>\n",
              "      <td>15</td>\n",
              "      <td>Saturday</td>\n",
              "      <td>Padres</td>\n",
              "      <td>Clear</td>\n",
              "      <td>Night</td>\n",
              "      <td>NO</td>\n",
              "      <td>NO</td>\n",
              "      <td>NO</td>\n",
              "      <td>NO</td>\n",
              "    </tr>\n",
              "    <tr>\n",
              "      <th>freq</th>\n",
              "      <td>18</td>\n",
              "      <td>5</td>\n",
              "      <td>13</td>\n",
              "      <td>9</td>\n",
              "      <td>62</td>\n",
              "      <td>66</td>\n",
              "      <td>79</td>\n",
              "      <td>78</td>\n",
              "      <td>67</td>\n",
              "      <td>70</td>\n",
              "    </tr>\n",
              "  </tbody>\n",
              "</table>\n",
              "</div>"
            ],
            "text/plain": [
              "       month day day_of_week opponent  ... cap shirt fireworks bobblehead\n",
              "count     81  81          81       81  ...  81    81        81         81\n",
              "unique     7  31           7       17  ...   2     2         2          2\n",
              "top      MAY  15    Saturday   Padres  ...  NO    NO        NO         NO\n",
              "freq      18   5          13        9  ...  79    78        67         70\n",
              "\n",
              "[4 rows x 10 columns]"
            ]
          },
          "metadata": {},
          "execution_count": 8
        }
      ]
    },
    {
      "cell_type": "markdown",
      "metadata": {
        "id": "kokEnjrwD9MQ"
      },
      "source": [
        "Now lets plot the distribution of nominal fields"
      ]
    },
    {
      "cell_type": "code",
      "metadata": {
        "colab": {
          "base_uri": "https://localhost:8080/",
          "height": 624
        },
        "id": "HNPogdpHH8ja",
        "outputId": "3e7977b4-1e85-41b7-f9f1-756ab7fbbf02"
      },
      "source": [
        "fig, (ax1, ax2) = plt.subplots(nrows=1, ncols=2, figsize=(10, 10))\n",
        "sns.histplot(data=df, x=\"attend\", color=\"skyblue\", label=\"Attendance for Game\", kde=True,ax=ax1)\n",
        "plt.legend()\n",
        "sns.histplot(data=df, x=\"temp\", color=\"red\", label=\"Temperature on the day of Game\", kde=True,ax=ax2)\n",
        "plt.legend() \n",
        "plt.show()"
      ],
      "execution_count": 12,
      "outputs": [
        {
          "output_type": "stream",
          "name": "stderr",
          "text": [
            "No handles with labels found to put in legend.\n"
          ]
        },
        {
          "output_type": "display_data",
          "data": {
            "image/png": "[encoded data removed]",
            "text/plain": [
              "<Figure size 720x720 with 2 Axes>"
            ]
          },
          "metadata": {
            "needs_background": "light"
          }
        }
      ]
    },
    {
      "cell_type": "code",
      "metadata": {
        "id": "g_gFXF-2EHSE"
      },
      "source": [
        ""
      ],
      "execution_count": null,
      "outputs": []
    },
    {
      "cell_type": "code",
      "metadata": {
        "id": "9lDVgDTZEmku"
      },
      "source": [
        "sns.histplot(data=df, x=\"temp\", color=\"red\", label=\"Temperature on the day of Game\", kde=True)"
      ],
      "execution_count": null,
      "outputs": []
    }
  ]
}