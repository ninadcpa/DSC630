{
  "nbformat": 4,
  "nbformat_minor": 0,
  "metadata": {
    "colab": {
      "name": "Week1_assignment.ipynb",
      "provenance": [],
      "collapsed_sections": [],
      "authorship_tag": "ABX9TyP0nbUG3LP5p9dXx75JBY70",
      "include_colab_link": true
    },
    "kernelspec": {
      "name": "python3",
      "display_name": "Python 3"
    },
    "language_info": {
      "name": "python"
    }
  },
  "cells": [
    {
      "cell_type": "markdown",
      "metadata": {
        "id": "view-in-github",
        "colab_type": "text"
      },
      "source": [
        "<a href=\"https://colab.research.google.com/github/ninadcpa/DSC630/blob/main/Week1_assignment.ipynb\" target=\"_parent\"><img src=\"https://colab.research.google.com/assets/colab-badge.svg\" alt=\"Open In Colab\"/></a>"
      ]
    },
    {
      "cell_type": "markdown",
      "metadata": {
        "id": "By1u1xNJ9lo2"
      },
      "source": [
        "# Week-1 Assignment\n",
        "\n",
        "@author - Ninad Patkhedkar"
      ]
    },
    {
      "cell_type": "code",
      "metadata": {
        "colab": {
          "base_uri": "https://localhost:8080/"
        },
        "id": "U9f_Njyk8rlS",
        "outputId": "ea6ac813-4ea5-4de6-d2dd-2f0e2c009d3c"
      },
      "source": [
        "# This code is written for mounting code folder checked out from github on google drive\n",
        "# All assignment code will be maintained inside folder \"DSC550\"\n",
        "\n",
        "from google.colab import drive\n",
        "import sys\n",
        "import os\n",
        "\n",
        "drive.mount('/content/drive')\n",
        "sys.path.append('/content/drive/MyDrive/Colab Notebooks/DSC630')\n",
        "os.chdir('/content/drive/MyDrive/Colab Notebooks/DSC630')"
      ],
      "execution_count": 1,
      "outputs": [
        {
          "output_type": "stream",
          "name": "stdout",
          "text": [
            "Mounted at /content/drive\n"
          ]
        }
      ]
    },
    {
      "cell_type": "markdown",
      "metadata": {
        "id": "Fo3m21LF-EeE"
      },
      "source": [
        "1. Import, Plot, Summarize, and Save Data\n",
        "Using the US Bureau of Labor Statistics data, choose a dataset that interests you. Then generate summary statistics for 2 variables, plot some of the features (e.g., histograms, box plots, density plots, etc.) of several variables, and save the data locally as CSV files."
      ]
    },
    {
      "cell_type": "markdown",
      "metadata": {
        "id": "-Ck6Csaw-gH7"
      },
      "source": [
        "I mostly found only TimeSeries datasetes on BLS site with only one feature/variable. I was looking for dataset with multiple variables.\n",
        "\n",
        "I downloaded current umemployment rate csv file from BLS site. - COVID dashboard page\n",
        "\n",
        "https://beta.bls.gov/covid-dashboard/home.htm\n",
        "\n",
        "and stored that data locally on Google Drive at /content/drive/MyDrive/Colab Notebooks/DSC630."
      ]
    },
    {
      "cell_type": "code",
      "metadata": {
        "id": "PbyM1ULz_aWO"
      },
      "source": [
        "# Reading csv file and loading data into dataframe\n",
        "from __future__ import print_function\n",
        "\n",
        "import pandas as pd\n",
        "import numpy as np\n",
        "import matplotlib.pyplot as plt\n",
        "import seaborn as sns\n",
        "%matplotlib inline\n",
        "\n",
        "import warnings\n",
        "warnings.filterwarnings('ignore', category=FutureWarning)\n",
        "\n",
        "pd.set_option(\"display.precision\", 2)\n",
        "# Substitute values used for missing values in dataset\n",
        "missing_values = [\"n/a\", \"na\", \"--\",\"\"]\n",
        "# Load the data in pandas dataframe with missing values set to NaN\n",
        "df = pd.read_csv('Civil_unemployment_rate.csv',na_values = missing_values)"
      ],
      "execution_count": 2,
      "outputs": []
    },
    {
      "cell_type": "code",
      "metadata": {
        "colab": {
          "base_uri": "https://localhost:8080/"
        },
        "id": "IVf-lQxgJh1r",
        "outputId": "45333b13-7be4-44a5-a246-0d7e31884b29"
      },
      "source": [
        "# Check the features in dataset\n",
        "df.info()"
      ],
      "execution_count": 25,
      "outputs": [
        {
          "output_type": "stream",
          "name": "stdout",
          "text": [
            "<class 'pandas.core.frame.DataFrame'>\n",
            "RangeIndex: 80 entries, 0 to 79\n",
            "Data columns (total 10 columns):\n",
            " #   Column                     Non-Null Count  Dtype  \n",
            "---  ------                     --------------  -----  \n",
            " 0   Date                       80 non-null     object \n",
            " 1   Total                      80 non-null     float64\n",
            " 2   Men, 20 years and over     80 non-null     float64\n",
            " 3   Women, 20 years and over   80 non-null     float64\n",
            " 4   16 to 19 years old         80 non-null     float64\n",
            " 5   White                      80 non-null     float64\n",
            " 6   Black or African American  80 non-null     float64\n",
            " 7   Asian                      80 non-null     float64\n",
            " 8   Hispanic or Latino         80 non-null     float64\n",
            " 9   Unnamed: 9                 0 non-null      float64\n",
            "dtypes: float64(9), object(1)\n",
            "memory usage: 6.4+ KB\n"
          ]
        }
      ]
    },
    {
      "cell_type": "code",
      "metadata": {
        "colab": {
          "base_uri": "https://localhost:8080/",
          "height": 300
        },
        "id": "Li8OiQMYAMw8",
        "outputId": "b320502e-a0f3-45da-8227-92aa17c501dc"
      },
      "source": [
        "df.sample(5)"
      ],
      "execution_count": 5,
      "outputs": [
        {
          "output_type": "execute_result",
          "data": {
            "text/html": [
              "<div>\n",
              "<style scoped>\n",
              "    .dataframe tbody tr th:only-of-type {\n",
              "        vertical-align: middle;\n",
              "    }\n",
              "\n",
              "    .dataframe tbody tr th {\n",
              "        vertical-align: top;\n",
              "    }\n",
              "\n",
              "    .dataframe thead th {\n",
              "        text-align: right;\n",
              "    }\n",
              "</style>\n",
              "<table border=\"1\" class=\"dataframe\">\n",
              "  <thead>\n",
              "    <tr style=\"text-align: right;\">\n",
              "      <th></th>\n",
              "      <th>Date</th>\n",
              "      <th>Total</th>\n",
              "      <th>Men, 20 years and over</th>\n",
              "      <th>Women, 20 years and over</th>\n",
              "      <th>16 to 19 years old</th>\n",
              "      <th>White</th>\n",
              "      <th>Black or African American</th>\n",
              "      <th>Asian</th>\n",
              "      <th>Hispanic or Latino</th>\n",
              "      <th>Unnamed: 9</th>\n",
              "    </tr>\n",
              "  </thead>\n",
              "  <tbody>\n",
              "    <tr>\n",
              "      <th>57</th>\n",
              "      <td>Oct 2019</td>\n",
              "      <td>3.6</td>\n",
              "      <td>3.3</td>\n",
              "      <td>3.2</td>\n",
              "      <td>12.6</td>\n",
              "      <td>3.3</td>\n",
              "      <td>5.6</td>\n",
              "      <td>2.9</td>\n",
              "      <td>4.2</td>\n",
              "      <td>NaN</td>\n",
              "    </tr>\n",
              "    <tr>\n",
              "      <th>41</th>\n",
              "      <td>Jun 2018</td>\n",
              "      <td>4.0</td>\n",
              "      <td>3.7</td>\n",
              "      <td>3.7</td>\n",
              "      <td>11.2</td>\n",
              "      <td>3.5</td>\n",
              "      <td>6.5</td>\n",
              "      <td>3.3</td>\n",
              "      <td>4.6</td>\n",
              "      <td>NaN</td>\n",
              "    </tr>\n",
              "    <tr>\n",
              "      <th>53</th>\n",
              "      <td>Jun 2019</td>\n",
              "      <td>3.6</td>\n",
              "      <td>3.3</td>\n",
              "      <td>3.3</td>\n",
              "      <td>11.4</td>\n",
              "      <td>3.3</td>\n",
              "      <td>6.0</td>\n",
              "      <td>2.2</td>\n",
              "      <td>4.3</td>\n",
              "      <td>NaN</td>\n",
              "    </tr>\n",
              "    <tr>\n",
              "      <th>58</th>\n",
              "      <td>Nov 2019</td>\n",
              "      <td>3.6</td>\n",
              "      <td>3.2</td>\n",
              "      <td>3.3</td>\n",
              "      <td>12.5</td>\n",
              "      <td>3.3</td>\n",
              "      <td>5.7</td>\n",
              "      <td>2.6</td>\n",
              "      <td>4.3</td>\n",
              "      <td>NaN</td>\n",
              "    </tr>\n",
              "    <tr>\n",
              "      <th>55</th>\n",
              "      <td>Aug 2019</td>\n",
              "      <td>3.7</td>\n",
              "      <td>3.4</td>\n",
              "      <td>3.3</td>\n",
              "      <td>12.4</td>\n",
              "      <td>3.4</td>\n",
              "      <td>5.2</td>\n",
              "      <td>2.8</td>\n",
              "      <td>4.2</td>\n",
              "      <td>NaN</td>\n",
              "    </tr>\n",
              "  </tbody>\n",
              "</table>\n",
              "</div>"
            ],
            "text/plain": [
              "        Date  Total  ...  Hispanic or Latino  Unnamed: 9\n",
              "57  Oct 2019    3.6  ...                 4.2         NaN\n",
              "41  Jun 2018    4.0  ...                 4.6         NaN\n",
              "53  Jun 2019    3.6  ...                 4.3         NaN\n",
              "58  Nov 2019    3.6  ...                 4.3         NaN\n",
              "55  Aug 2019    3.7  ...                 4.2         NaN\n",
              "\n",
              "[5 rows x 10 columns]"
            ]
          },
          "metadata": {},
          "execution_count": 5
        }
      ]
    },
    {
      "cell_type": "markdown",
      "metadata": {
        "id": "Gouvb0W_BG8N"
      },
      "source": [
        "Lets generate Summary Statistics for 2 variables\n",
        "1. White\n",
        "2. Asian "
      ]
    },
    {
      "cell_type": "code",
      "metadata": {
        "colab": {
          "base_uri": "https://localhost:8080/",
          "height": 293
        },
        "id": "Tb_pwni4BlJ0",
        "outputId": "4b3f624a-29ef-4a46-e123-eab12611493e"
      },
      "source": [
        "df[['White','Asian']].describe()"
      ],
      "execution_count": 7,
      "outputs": [
        {
          "output_type": "execute_result",
          "data": {
            "text/html": [
              "<div>\n",
              "<style scoped>\n",
              "    .dataframe tbody tr th:only-of-type {\n",
              "        vertical-align: middle;\n",
              "    }\n",
              "\n",
              "    .dataframe tbody tr th {\n",
              "        vertical-align: top;\n",
              "    }\n",
              "\n",
              "    .dataframe thead th {\n",
              "        text-align: right;\n",
              "    }\n",
              "</style>\n",
              "<table border=\"1\" class=\"dataframe\">\n",
              "  <thead>\n",
              "    <tr style=\"text-align: right;\">\n",
              "      <th></th>\n",
              "      <th>White</th>\n",
              "      <th>Asian</th>\n",
              "    </tr>\n",
              "  </thead>\n",
              "  <tbody>\n",
              "    <tr>\n",
              "      <th>count</th>\n",
              "      <td>80.00</td>\n",
              "      <td>80.00</td>\n",
              "    </tr>\n",
              "    <tr>\n",
              "      <th>mean</th>\n",
              "      <td>4.53</td>\n",
              "      <td>4.35</td>\n",
              "    </tr>\n",
              "    <tr>\n",
              "      <th>std</th>\n",
              "      <td>1.87</td>\n",
              "      <td>2.62</td>\n",
              "    </tr>\n",
              "    <tr>\n",
              "      <th>min</th>\n",
              "      <td>3.00</td>\n",
              "      <td>2.20</td>\n",
              "    </tr>\n",
              "    <tr>\n",
              "      <th>25%</th>\n",
              "      <td>3.50</td>\n",
              "      <td>3.00</td>\n",
              "    </tr>\n",
              "    <tr>\n",
              "      <th>50%</th>\n",
              "      <td>4.20</td>\n",
              "      <td>3.60</td>\n",
              "    </tr>\n",
              "    <tr>\n",
              "      <th>75%</th>\n",
              "      <td>4.70</td>\n",
              "      <td>4.10</td>\n",
              "    </tr>\n",
              "    <tr>\n",
              "      <th>max</th>\n",
              "      <td>14.10</td>\n",
              "      <td>14.90</td>\n",
              "    </tr>\n",
              "  </tbody>\n",
              "</table>\n",
              "</div>"
            ],
            "text/plain": [
              "       White  Asian\n",
              "count  80.00  80.00\n",
              "mean    4.53   4.35\n",
              "std     1.87   2.62\n",
              "min     3.00   2.20\n",
              "25%     3.50   3.00\n",
              "50%     4.20   3.60\n",
              "75%     4.70   4.10\n",
              "max    14.10  14.90"
            ]
          },
          "metadata": {},
          "execution_count": 7
        }
      ]
    },
    {
      "cell_type": "markdown",
      "metadata": {
        "id": "rKiHy2W7B2AJ"
      },
      "source": [
        "Lets plot Histogram for same 2 variables."
      ]
    },
    {
      "cell_type": "code",
      "metadata": {
        "colab": {
          "base_uri": "https://localhost:8080/",
          "height": 640
        },
        "id": "tTlQUDq7B_Cm",
        "outputId": "eebb6cb5-13fa-4bbe-db78-b3ff1be1cc22"
      },
      "source": [
        "# set up the figure size\n",
        "plt.rcParams['figure.figsize'] = (20, 10)\n",
        "\n",
        "# make subplots\n",
        "fig, axes = plt.subplots(nrows = 1, ncols = 2)\n",
        "\n",
        "# Specify the features of interest\n",
        "num_features = ['White','Asian']\n",
        "\n",
        "xaxes = num_features\n",
        "yaxes = ['Counts', 'Counts']\n",
        "\n",
        "# draw histograms\n",
        "axes = axes.ravel()\n",
        "\n",
        "for idx, ax in enumerate(axes):\n",
        "    ax.hist(df[num_features[idx]].dropna(), bins=40)\n",
        "    ax.set_xlabel(xaxes[idx], fontsize=20)\n",
        "    ax.set_ylabel(yaxes[idx], fontsize=20)\n",
        "    ax.tick_params(axis='both', labelsize=15)"
      ],
      "execution_count": 9,
      "outputs": [
        {
          "output_type": "display_data",
          "data": {
            "image/png": "[encoded data removed]",
            "text/plain": [
              "<Figure size 1440x720 with 2 Axes>"
            ]
          },
          "metadata": {
            "needs_background": "light"
          }
        }
      ]
    },
    {
      "cell_type": "markdown",
      "metadata": {
        "id": "t_Bq-76wDooY"
      },
      "source": [
        "Histograms doesn't have normal curve. Both histograms are rightly skewed. It means though majority of records have values in the range 2 to 6, there are some records with higher values."
      ]
    },
    {
      "cell_type": "markdown",
      "metadata": {
        "id": "pWSAkpD5CwSa"
      },
      "source": [
        "Now lets plot Boxplots to check any outliers"
      ]
    },
    {
      "cell_type": "code",
      "metadata": {
        "colab": {
          "base_uri": "https://localhost:8080/",
          "height": 569
        },
        "id": "q6W3J6hiC8bB",
        "outputId": "2272d296-1d6a-40df-a042-45be12b4f777"
      },
      "source": [
        "df[['White','Asian']].boxplot()"
      ],
      "execution_count": 10,
      "outputs": [
        {
          "output_type": "execute_result",
          "data": {
            "text/plain": [
              "<matplotlib.axes._subplots.AxesSubplot at 0x7f55d0935250>"
            ]
          },
          "metadata": {},
          "execution_count": 10
        },
        {
          "output_type": "display_data",
          "data": {
            "image/png": "[encoded data removed]",
            "text/plain": [
              "<Figure size 1440x720 with 1 Axes>"
            ]
          },
          "metadata": {
            "needs_background": "light"
          }
        }
      ]
    },
    {
      "cell_type": "markdown",
      "metadata": {
        "id": "JMFYEsQpDQC4"
      },
      "source": [
        "Boxplot shows there are number of outliers for unemployment % for White and Asian population. \n",
        "\n",
        "Now lets plot Density plot. I will use sns library for denisty plot."
      ]
    },
    {
      "cell_type": "code",
      "metadata": {
        "colab": {
          "base_uri": "https://localhost:8080/",
          "height": 570
        },
        "id": "zpimgKSgE8Vl",
        "outputId": "ae52800e-2b6e-4c0f-cb31-0c0c2ad3b03f"
      },
      "source": [
        "sns.set_style('whitegrid')\n",
        "sns.kdeplot(df['White'], bw=0.5)"
      ],
      "execution_count": 12,
      "outputs": [
        {
          "output_type": "execute_result",
          "data": {
            "text/plain": [
              "<matplotlib.axes._subplots.AxesSubplot at 0x7f55d0876190>"
            ]
          },
          "metadata": {},
          "execution_count": 12
        },
        {
          "output_type": "display_data",
          "data": {
            "image/png": "[encoded data removed]",
            "text/plain": [
              "<Figure size 1440x720 with 1 Axes>"
            ]
          },
          "metadata": {}
        }
      ]
    },
    {
      "cell_type": "code",
      "metadata": {
        "colab": {
          "base_uri": "https://localhost:8080/",
          "height": 570
        },
        "id": "qwl7a92WFK3K",
        "outputId": "48b83874-a9e5-4261-b099-b74eac15968b"
      },
      "source": [
        "sns.set_style('whitegrid')\n",
        "sns.kdeplot(df['Asian'], bw=0.5)"
      ],
      "execution_count": 13,
      "outputs": [
        {
          "output_type": "execute_result",
          "data": {
            "text/plain": [
              "<matplotlib.axes._subplots.AxesSubplot at 0x7f55cd4c92d0>"
            ]
          },
          "metadata": {},
          "execution_count": 13
        },
        {
          "output_type": "display_data",
          "data": {
            "image/png": "[encoded data removed]",
            "text/plain": [
              "<Figure size 1440x720 with 1 Axes>"
            ]
          },
          "metadata": {}
        }
      ]
    },
    {
      "cell_type": "markdown",
      "metadata": {
        "id": "1flYc0IBFQ-s"
      },
      "source": [
        "Density plot almost look same for both features. "
      ]
    },
    {
      "cell_type": "markdown",
      "metadata": {
        "id": "ee6W-HHwFdLI"
      },
      "source": [
        "2. Explore Some Bivariate Relations\n",
        "Use the same dataset within the same website to explore some bivariate relations (e.g. bivariate plot, correlation, table cross table etc.)\n"
      ]
    },
    {
      "cell_type": "markdown",
      "metadata": {
        "id": "HA0nmynnK4o_"
      },
      "source": [
        "Looking at values its really difficult to say any correlation between features exist. In such case prefer to plot a HeatMap to get correlation values"
      ]
    },
    {
      "cell_type": "code",
      "metadata": {
        "id": "6ZQyFMEPLI9x"
      },
      "source": [
        "heat_df = df.drop(columns='Date',axis=1)"
      ],
      "execution_count": 26,
      "outputs": []
    },
    {
      "cell_type": "code",
      "metadata": {
        "colab": {
          "base_uri": "https://localhost:8080/",
          "height": 217
        },
        "id": "c6MlJRLgLVYA",
        "outputId": "03b871b1-fe3c-4995-8d31-2fb54e925e53"
      },
      "source": [
        "heat_df.sample(5)"
      ],
      "execution_count": 27,
      "outputs": [
        {
          "output_type": "execute_result",
          "data": {
            "text/html": [
              "<div>\n",
              "<style scoped>\n",
              "    .dataframe tbody tr th:only-of-type {\n",
              "        vertical-align: middle;\n",
              "    }\n",
              "\n",
              "    .dataframe tbody tr th {\n",
              "        vertical-align: top;\n",
              "    }\n",
              "\n",
              "    .dataframe thead th {\n",
              "        text-align: right;\n",
              "    }\n",
              "</style>\n",
              "<table border=\"1\" class=\"dataframe\">\n",
              "  <thead>\n",
              "    <tr style=\"text-align: right;\">\n",
              "      <th></th>\n",
              "      <th>Total</th>\n",
              "      <th>Men, 20 years and over</th>\n",
              "      <th>Women, 20 years and over</th>\n",
              "      <th>16 to 19 years old</th>\n",
              "      <th>White</th>\n",
              "      <th>Black or African American</th>\n",
              "      <th>Asian</th>\n",
              "      <th>Hispanic or Latino</th>\n",
              "      <th>Unnamed: 9</th>\n",
              "    </tr>\n",
              "  </thead>\n",
              "  <tbody>\n",
              "    <tr>\n",
              "      <th>39</th>\n",
              "      <td>4.0</td>\n",
              "      <td>3.8</td>\n",
              "      <td>3.6</td>\n",
              "      <td>13.3</td>\n",
              "      <td>3.6</td>\n",
              "      <td>6.5</td>\n",
              "      <td>2.9</td>\n",
              "      <td>4.8</td>\n",
              "      <td>NaN</td>\n",
              "    </tr>\n",
              "    <tr>\n",
              "      <th>63</th>\n",
              "      <td>14.8</td>\n",
              "      <td>13.1</td>\n",
              "      <td>15.5</td>\n",
              "      <td>32.1</td>\n",
              "      <td>14.1</td>\n",
              "      <td>16.7</td>\n",
              "      <td>14.5</td>\n",
              "      <td>18.9</td>\n",
              "      <td>NaN</td>\n",
              "    </tr>\n",
              "    <tr>\n",
              "      <th>74</th>\n",
              "      <td>6.0</td>\n",
              "      <td>5.8</td>\n",
              "      <td>5.7</td>\n",
              "      <td>13.0</td>\n",
              "      <td>5.4</td>\n",
              "      <td>9.6</td>\n",
              "      <td>6.0</td>\n",
              "      <td>7.9</td>\n",
              "      <td>NaN</td>\n",
              "    </tr>\n",
              "    <tr>\n",
              "      <th>72</th>\n",
              "      <td>6.3</td>\n",
              "      <td>6.0</td>\n",
              "      <td>6.0</td>\n",
              "      <td>14.8</td>\n",
              "      <td>5.7</td>\n",
              "      <td>9.2</td>\n",
              "      <td>6.6</td>\n",
              "      <td>8.6</td>\n",
              "      <td>NaN</td>\n",
              "    </tr>\n",
              "    <tr>\n",
              "      <th>11</th>\n",
              "      <td>5.0</td>\n",
              "      <td>4.6</td>\n",
              "      <td>4.5</td>\n",
              "      <td>16.2</td>\n",
              "      <td>4.4</td>\n",
              "      <td>8.5</td>\n",
              "      <td>4.1</td>\n",
              "      <td>6.2</td>\n",
              "      <td>NaN</td>\n",
              "    </tr>\n",
              "  </tbody>\n",
              "</table>\n",
              "</div>"
            ],
            "text/plain": [
              "    Total  Men, 20 years and over  ...  Hispanic or Latino  Unnamed: 9\n",
              "39    4.0                     3.8  ...                 4.8         NaN\n",
              "63   14.8                    13.1  ...                18.9         NaN\n",
              "74    6.0                     5.8  ...                 7.9         NaN\n",
              "72    6.3                     6.0  ...                 8.6         NaN\n",
              "11    5.0                     4.6  ...                 6.2         NaN\n",
              "\n",
              "[5 rows x 9 columns]"
            ]
          },
          "metadata": {},
          "execution_count": 27
        }
      ]
    },
    {
      "cell_type": "code",
      "metadata": {
        "colab": {
          "base_uri": "https://localhost:8080/",
          "height": 520
        },
        "id": "HCt6ND7tLb06",
        "outputId": "6ad814c5-81db-4b74-df83-82d70e7485da"
      },
      "source": [
        "plt.figure(figsize=(8,6))\n",
        "#sns.heatmap(df.corr(), annot = True, fmt='.1g', cmap= 'coolwarm')\n",
        "sns.heatmap(heat_df.corr(), annot = True, fmt='.1g', cmap= 'coolwarm')"
      ],
      "execution_count": 28,
      "outputs": [
        {
          "output_type": "execute_result",
          "data": {
            "text/plain": [
              "<matplotlib.axes._subplots.AxesSubplot at 0x7f55c4830d50>"
            ]
          },
          "metadata": {},
          "execution_count": 28
        },
        {
          "output_type": "display_data",
          "data": {
            "image/png": "[encoded data removed]",
            "text/plain": [
              "<Figure size 576x432 with 2 Axes>"
            ]
          },
          "metadata": {}
        }
      ]
    },
    {
      "cell_type": "markdown",
      "metadata": {
        "id": "MVniM99cLsla"
      },
      "source": [
        "It shows lot of correlation. Such a high corelation values are sign of something else like COVID-19 impacted everyone's employment status rather than any individual feature like White or Asian population.\n",
        "\n",
        "I think bivariate analysis won't make more sense for this timeseries dataset."
      ]
    },
    {
      "cell_type": "markdown",
      "metadata": {
        "id": "aWMTwZvcNWXw"
      },
      "source": [
        "3. Organize a Data Report\n",
        "Generate a summary report. Make sure to include: summary for every variable, structure and type of data elements, discuss four results of your data."
      ]
    },
    {
      "cell_type": "code",
      "metadata": {
        "colab": {
          "base_uri": "https://localhost:8080/"
        },
        "id": "Hs9DHQEGNgrH",
        "outputId": "0ed495b7-f18f-48aa-8e03-d010dcb345af"
      },
      "source": [
        "df.info()"
      ],
      "execution_count": 29,
      "outputs": [
        {
          "output_type": "stream",
          "name": "stdout",
          "text": [
            "<class 'pandas.core.frame.DataFrame'>\n",
            "RangeIndex: 80 entries, 0 to 79\n",
            "Data columns (total 10 columns):\n",
            " #   Column                     Non-Null Count  Dtype  \n",
            "---  ------                     --------------  -----  \n",
            " 0   Date                       80 non-null     object \n",
            " 1   Total                      80 non-null     float64\n",
            " 2   Men, 20 years and over     80 non-null     float64\n",
            " 3   Women, 20 years and over   80 non-null     float64\n",
            " 4   16 to 19 years old         80 non-null     float64\n",
            " 5   White                      80 non-null     float64\n",
            " 6   Black or African American  80 non-null     float64\n",
            " 7   Asian                      80 non-null     float64\n",
            " 8   Hispanic or Latino         80 non-null     float64\n",
            " 9   Unnamed: 9                 0 non-null      float64\n",
            "dtypes: float64(9), object(1)\n",
            "memory usage: 6.4+ KB\n"
          ]
        }
      ]
    },
    {
      "cell_type": "markdown",
      "metadata": {
        "id": "YLIBIvQ5Njbr"
      },
      "source": [
        "The Dataset is timeseries data on unemployment status for each demographics. The dataset contains 9 features.\n",
        "\n",
        "* Date - Represents month and year ranging from Apr-2015 to Sep-2020\n",
        "* Total - Total unemployment index value of all Demographics population\n",
        "* Men, 20 years and over - Unemployment index value of Men with age 20 years plus\n",
        "* Women, 20 years and over  - Unemployment index value of Women age 20 years plus\n",
        "* 16 to 19 years old - Unemplument index value of Men and Women included having age between 16 to 19 years\n",
        "* White - Unemployment index value of white population\n",
        "* Black or African American - Unemployment index value of Black/African-American population\n",
        "* Asian - Unemployment index value of Asian population\n",
        "* Hispanic or Latino - Unemployment index value of Hispanic or Latino poulation\n",
        "* Unnamed - Unemploymment index value of All other (Unnamed) demographics population\n",
        "\n",
        "All the features except data are having numerical values. Data type is float."
      ]
    },
    {
      "cell_type": "code",
      "metadata": {
        "colab": {
          "base_uri": "https://localhost:8080/",
          "height": 310
        },
        "id": "ZB1uo8GzOC-q",
        "outputId": "e4b717b8-1ab9-4c23-9b27-75024891fc67"
      },
      "source": [
        "df.describe()"
      ],
      "execution_count": 32,
      "outputs": [
        {
          "output_type": "execute_result",
          "data": {
            "text/html": [
              "<div>\n",
              "<style scoped>\n",
              "    .dataframe tbody tr th:only-of-type {\n",
              "        vertical-align: middle;\n",
              "    }\n",
              "\n",
              "    .dataframe tbody tr th {\n",
              "        vertical-align: top;\n",
              "    }\n",
              "\n",
              "    .dataframe thead th {\n",
              "        text-align: right;\n",
              "    }\n",
              "</style>\n",
              "<table border=\"1\" class=\"dataframe\">\n",
              "  <thead>\n",
              "    <tr style=\"text-align: right;\">\n",
              "      <th></th>\n",
              "      <th>Total</th>\n",
              "      <th>Men, 20 years and over</th>\n",
              "      <th>Women, 20 years and over</th>\n",
              "      <th>16 to 19 years old</th>\n",
              "      <th>White</th>\n",
              "      <th>Black or African American</th>\n",
              "      <th>Asian</th>\n",
              "      <th>Hispanic or Latino</th>\n",
              "      <th>Unnamed: 9</th>\n",
              "    </tr>\n",
              "  </thead>\n",
              "  <tbody>\n",
              "    <tr>\n",
              "      <th>count</th>\n",
              "      <td>80.00</td>\n",
              "      <td>80.00</td>\n",
              "      <td>80.00</td>\n",
              "      <td>80.00</td>\n",
              "      <td>80.00</td>\n",
              "      <td>80.00</td>\n",
              "      <td>80.00</td>\n",
              "      <td>80.00</td>\n",
              "      <td>0.0</td>\n",
              "    </tr>\n",
              "    <tr>\n",
              "      <th>mean</th>\n",
              "      <td>5.11</td>\n",
              "      <td>4.75</td>\n",
              "      <td>4.75</td>\n",
              "      <td>14.74</td>\n",
              "      <td>4.53</td>\n",
              "      <td>8.35</td>\n",
              "      <td>4.35</td>\n",
              "      <td>6.31</td>\n",
              "      <td>NaN</td>\n",
              "    </tr>\n",
              "    <tr>\n",
              "      <th>std</th>\n",
              "      <td>1.99</td>\n",
              "      <td>1.81</td>\n",
              "      <td>2.16</td>\n",
              "      <td>3.43</td>\n",
              "      <td>1.87</td>\n",
              "      <td>2.34</td>\n",
              "      <td>2.62</td>\n",
              "      <td>2.70</td>\n",
              "      <td>NaN</td>\n",
              "    </tr>\n",
              "    <tr>\n",
              "      <th>min</th>\n",
              "      <td>3.50</td>\n",
              "      <td>3.10</td>\n",
              "      <td>3.00</td>\n",
              "      <td>9.60</td>\n",
              "      <td>3.00</td>\n",
              "      <td>5.20</td>\n",
              "      <td>2.20</td>\n",
              "      <td>4.00</td>\n",
              "      <td>NaN</td>\n",
              "    </tr>\n",
              "    <tr>\n",
              "      <th>25%</th>\n",
              "      <td>3.98</td>\n",
              "      <td>3.60</td>\n",
              "      <td>3.58</td>\n",
              "      <td>12.60</td>\n",
              "      <td>3.50</td>\n",
              "      <td>6.60</td>\n",
              "      <td>3.00</td>\n",
              "      <td>4.77</td>\n",
              "      <td>NaN</td>\n",
              "    </tr>\n",
              "    <tr>\n",
              "      <th>50%</th>\n",
              "      <td>4.70</td>\n",
              "      <td>4.35</td>\n",
              "      <td>4.30</td>\n",
              "      <td>14.05</td>\n",
              "      <td>4.20</td>\n",
              "      <td>8.00</td>\n",
              "      <td>3.60</td>\n",
              "      <td>5.60</td>\n",
              "      <td>NaN</td>\n",
              "    </tr>\n",
              "    <tr>\n",
              "      <th>75%</th>\n",
              "      <td>5.40</td>\n",
              "      <td>5.10</td>\n",
              "      <td>4.90</td>\n",
              "      <td>16.00</td>\n",
              "      <td>4.70</td>\n",
              "      <td>9.33</td>\n",
              "      <td>4.10</td>\n",
              "      <td>6.73</td>\n",
              "      <td>NaN</td>\n",
              "    </tr>\n",
              "    <tr>\n",
              "      <th>max</th>\n",
              "      <td>14.80</td>\n",
              "      <td>13.10</td>\n",
              "      <td>15.50</td>\n",
              "      <td>32.10</td>\n",
              "      <td>14.10</td>\n",
              "      <td>16.70</td>\n",
              "      <td>14.90</td>\n",
              "      <td>18.90</td>\n",
              "      <td>NaN</td>\n",
              "    </tr>\n",
              "  </tbody>\n",
              "</table>\n",
              "</div>"
            ],
            "text/plain": [
              "       Total  Men, 20 years and over  ...  Hispanic or Latino  Unnamed: 9\n",
              "count  80.00                   80.00  ...               80.00         0.0\n",
              "mean    5.11                    4.75  ...                6.31         NaN\n",
              "std     1.99                    1.81  ...                2.70         NaN\n",
              "min     3.50                    3.10  ...                4.00         NaN\n",
              "25%     3.98                    3.60  ...                4.77         NaN\n",
              "50%     4.70                    4.35  ...                5.60         NaN\n",
              "75%     5.40                    5.10  ...                6.73         NaN\n",
              "max    14.80                   13.10  ...               18.90         NaN\n",
              "\n",
              "[8 rows x 9 columns]"
            ]
          },
          "metadata": {},
          "execution_count": 32
        }
      ]
    },
    {
      "cell_type": "markdown",
      "metadata": {
        "id": "ScnVNJpzNX0R"
      },
      "source": [
        "Mean unemployment index value is very high for African-American i.e. 8.35 followed by for Hispanic/Latino 6.31. It means COVID-19 has impacted those 2 demographics more than White and Asians.\n",
        "\n",
        "Also 16-19 age group population which generally enters job market at this age is having trouble finding employment."
      ]
    }
  ]
}