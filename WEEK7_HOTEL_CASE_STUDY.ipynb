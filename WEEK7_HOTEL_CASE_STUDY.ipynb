{
  "nbformat": 4,
  "nbformat_minor": 0,
  "metadata": {
    "kernelspec": {
      "display_name": "Python 3",
      "language": "python",
      "name": "python3"
    },
    "language_info": {
      "codemirror_mode": {
        "name": "ipython",
        "version": 3
      },
      "file_extension": ".py",
      "mimetype": "text/x-python",
      "name": "python",
      "nbconvert_exporter": "python",
      "pygments_lexer": "ipython3",
      "version": "3.7.4"
    },
    "colab": {
      "name": "WEEK7_HOTEL_CASE_STUDY.ipynb",
      "provenance": [],
      "include_colab_link": true
    }
  },
  "cells": [
    {
      "cell_type": "markdown",
      "metadata": {
        "id": "view-in-github",
        "colab_type": "text"
      },
      "source": [
        "<a href=\"https://colab.research.google.com/github/ninadcpa/DSC630/blob/main/WEEK7_HOTEL_CASE_STUDY.ipynb\" target=\"_parent\"><img src=\"https://colab.research.google.com/assets/colab-badge.svg\" alt=\"Open In Colab\"/></a>"
      ]
    },
    {
      "cell_type": "markdown",
      "metadata": {
        "id": "uXfOXo18TOeg"
      },
      "source": [
        "# Week 7 Assignment - Create Optimal Hotel Recommendations\n",
        "\n",
        "@author - Ninad Patkhedkar"
      ]
    },
    {
      "cell_type": "code",
      "metadata": {
        "colab": {
          "base_uri": "https://localhost:8080/"
        },
        "id": "UcVrtNJuT3Ni",
        "outputId": "da7d200e-f405-4716-d16d-5663bd20c24a"
      },
      "source": [
        "# This code is written for mounting code folder checked out from github on google drive\n",
        "# All assignment code will be maintained inside folder \"DSC630\"\n",
        "\n",
        "from google.colab import drive\n",
        "import sys\n",
        "import os\n",
        "\n",
        "drive.mount('/content/drive')\n",
        "sys.path.append('/content/drive/MyDrive/Colab Notebooks/DSC630')\n",
        "os.chdir('/content/drive/MyDrive/Colab Notebooks/DSC630')"
      ],
      "execution_count": 1,
      "outputs": [
        {
          "output_type": "stream",
          "name": "stdout",
          "text": [
            "Drive already mounted at /content/drive; to attempt to forcibly remount, call drive.mount(\"/content/drive\", force_remount=True).\n"
          ]
        }
      ]
    },
    {
      "cell_type": "markdown",
      "metadata": {
        "id": "Ld5PdkgseIXi"
      },
      "source": [
        "Online travel agencies are scrambling to meet the artificial intelligence driven personalization standard set by companies like Amazon and Netflix. In addition, the world of online travel has become a highly competitive space where brands try to capture our attention (and wallet) with recommending, comparing, matching, and sharing. For this assignment, we would like to create the optimal hotel recommendations for Expedia’s users that are searching for a hotel to book. For this assignment, you need to predict which “hotel cluster” the user is likely to book, given his (or her) search details.  \n",
        "\n",
        "The data set can be found at Kaggle: Expedia Hotel Recommendations. To get started, I would suggest exploring the file train.csv, which contains the logs of user behavior.  There is another file named destinations.csv, which contains information related to hotel reviews made by users. There is a lot of data here, and making an accurate prediction is rather difficult, e.g., simply running a standard prediction algorithm will probably yield below 10% accuracy. Stary by doing some exploratory analysis of this data to help understand how to make a prediction on the hotel cluster the user is likely to select. Then, split train.csv into a training and test set (feel free to select a smaller random subset of train.csv). Then, build at least two prediction models from the training set, and report the accuracies on the test set. As I mentioned, this is a difficult problem, so be creative with your solutions. You might want to try building your own predictor rather than a standard predictor model, e.g., a random forest.  The purpose of this project is not necessarily to get great results but to understand the nuances and challenges of such problems."
      ]
    },
    {
      "cell_type": "code",
      "metadata": {
        "colab": {
          "base_uri": "https://localhost:8080/"
        },
        "id": "2wnYUIFeUVSj",
        "outputId": "ebdb5480-ffa4-4bfd-933b-a9cd62031755"
      },
      "source": [
        "!pip install datatable"
      ],
      "execution_count": 2,
      "outputs": [
        {
          "output_type": "stream",
          "name": "stdout",
          "text": [
            "Requirement already satisfied: datatable in /usr/local/lib/python3.7/dist-packages (1.0.0)\n"
          ]
        }
      ]
    },
    {
      "cell_type": "code",
      "metadata": {
        "id": "UP-RA9E2fBe7",
        "colab": {
          "base_uri": "https://localhost:8080/",
          "height": 17
        },
        "outputId": "88329fbe-bcaa-46b4-f688-5a748942b2da"
      },
      "source": [
        "import pandas as pd\n",
        "#!pip install datatable\n",
        "import datatable as dt\n",
        "import gc\n",
        "import seaborn as sns\n",
        "import matplotlib.pyplot as plt\n",
        "import numpy as np\n",
        "import warnings\n",
        "warnings.filterwarnings(\"ignore\") \n",
        "import random"
      ],
      "execution_count": 3,
      "outputs": [
        {
          "output_type": "display_data",
          "data": {
            "text/html": [
              "<style type='text/css'>\n",
              ".datatable table.frame { margin-bottom: 0; }\n",
              ".datatable table.frame thead { border-bottom: none; }\n",
              ".datatable table.frame tr.coltypes td {  color: #FFFFFF;  line-height: 6px;  padding: 0 0.5em;}\n",
              ".datatable .bool    { background: #DDDD99; }\n",
              ".datatable .object  { background: #565656; }\n",
              ".datatable .int     { background: #5D9E5D; }\n",
              ".datatable .float   { background: #4040CC; }\n",
              ".datatable .str     { background: #CC4040; }\n",
              ".datatable .time    { background: #40CC40; }\n",
              ".datatable .row_index {  background: var(--jp-border-color3);  border-right: 1px solid var(--jp-border-color0);  color: var(--jp-ui-font-color3);  font-size: 9px;}\n",
              ".datatable .frame tbody td { text-align: left; }\n",
              ".datatable .frame tr.coltypes .row_index {  background: var(--jp-border-color0);}\n",
              ".datatable th:nth-child(2) { padding-left: 12px; }\n",
              ".datatable .hellipsis {  color: var(--jp-cell-editor-border-color);}\n",
              ".datatable .vellipsis {  background: var(--jp-layout-color0);  color: var(--jp-cell-editor-border-color);}\n",
              ".datatable .na {  color: var(--jp-cell-editor-border-color);  font-size: 80%;}\n",
              ".datatable .sp {  opacity: 0.25;}\n",
              ".datatable .footer { font-size: 9px; }\n",
              ".datatable .frame_dimensions {  background: var(--jp-border-color3);  border-top: 1px solid var(--jp-border-color0);  color: var(--jp-ui-font-color3);  display: inline-block;  opacity: 0.6;  padding: 1px 10px 1px 5px;}\n",
              "</style>\n"
            ],
            "text/plain": [
              "<IPython.core.display.HTML object>"
            ]
          },
          "metadata": {}
        }
      ]
    },
    {
      "cell_type": "markdown",
      "metadata": {
        "id": "pDbebF3vfHIs"
      },
      "source": [
        "Dataset is very large in size. I am using free edition of cloud notebook which crashes for such large dataset.\n",
        "\n",
        "I will pick random set of 10000 records for analysis."
      ]
    },
    {
      "cell_type": "code",
      "metadata": {
        "colab": {
          "base_uri": "https://localhost:8080/"
        },
        "id": "KPS_DKNPffxs",
        "outputId": "3bb626cd-6295-47fd-a919-cdd6261ff351"
      },
      "source": [
        "################### Read train.csv file ###############################################\n",
        "file = 'expedia/train.csv'\n",
        "n = 37670293 # number of records in file\n",
        "s = 100000 # desired sample size\n",
        "skip = sorted(random.sample(range(n), n-s))\n",
        "colNames = pd.read_csv(file, nrows=1).columns\n",
        "train = pd.read_csv(file, skiprows=skip, names=colNames).dropna()\n",
        "#train = pd.read_csv('expedia/train.csv', sep=',').dropna()\n",
        "#train = train.sample(frac=0.01, random_state=99)\n",
        "print('The shape of train dataset is:',train.shape,'\\n')"
      ],
      "execution_count": 4,
      "outputs": [
        {
          "output_type": "stream",
          "name": "stdout",
          "text": [
            "The shape of train dataset is: (64100, 24) \n",
            "\n"
          ]
        }
      ]
    },
    {
      "cell_type": "markdown",
      "metadata": {
        "id": "PPrVG5pRgslB"
      },
      "source": [
        "Data contains 64093 observations and 24 features.\n",
        "Lets explore and summerize the data"
      ]
    },
    {
      "cell_type": "code",
      "metadata": {
        "colab": {
          "base_uri": "https://localhost:8080/",
          "height": 539
        },
        "id": "zyH4yZvLhFan",
        "outputId": "0158955e-dea0-47c6-ab21-ca0bab3c9ec3"
      },
      "source": [
        "train.sample(10)"
      ],
      "execution_count": 5,
      "outputs": [
        {
          "output_type": "execute_result",
          "data": {
            "text/html": [
              "<div>\n",
              "<style scoped>\n",
              "    .dataframe tbody tr th:only-of-type {\n",
              "        vertical-align: middle;\n",
              "    }\n",
              "\n",
              "    .dataframe tbody tr th {\n",
              "        vertical-align: top;\n",
              "    }\n",
              "\n",
              "    .dataframe thead th {\n",
              "        text-align: right;\n",
              "    }\n",
              "</style>\n",
              "<table border=\"1\" class=\"dataframe\">\n",
              "  <thead>\n",
              "    <tr style=\"text-align: right;\">\n",
              "      <th></th>\n",
              "      <th>date_time</th>\n",
              "      <th>site_name</th>\n",
              "      <th>posa_continent</th>\n",
              "      <th>user_location_country</th>\n",
              "      <th>user_location_region</th>\n",
              "      <th>user_location_city</th>\n",
              "      <th>orig_destination_distance</th>\n",
              "      <th>user_id</th>\n",
              "      <th>is_mobile</th>\n",
              "      <th>is_package</th>\n",
              "      <th>channel</th>\n",
              "      <th>srch_ci</th>\n",
              "      <th>srch_co</th>\n",
              "      <th>srch_adults_cnt</th>\n",
              "      <th>srch_children_cnt</th>\n",
              "      <th>srch_rm_cnt</th>\n",
              "      <th>srch_destination_id</th>\n",
              "      <th>srch_destination_type_id</th>\n",
              "      <th>is_booking</th>\n",
              "      <th>cnt</th>\n",
              "      <th>hotel_continent</th>\n",
              "      <th>hotel_country</th>\n",
              "      <th>hotel_market</th>\n",
              "      <th>hotel_cluster</th>\n",
              "    </tr>\n",
              "  </thead>\n",
              "  <tbody>\n",
              "    <tr>\n",
              "      <th>21596</th>\n",
              "      <td>2014-02-26 13:36:25</td>\n",
              "      <td>2</td>\n",
              "      <td>3</td>\n",
              "      <td>66</td>\n",
              "      <td>331</td>\n",
              "      <td>54953</td>\n",
              "      <td>135.7212</td>\n",
              "      <td>1107247</td>\n",
              "      <td>0</td>\n",
              "      <td>0</td>\n",
              "      <td>9</td>\n",
              "      <td>2014-02-27</td>\n",
              "      <td>2014-02-28</td>\n",
              "      <td>1</td>\n",
              "      <td>0</td>\n",
              "      <td>1</td>\n",
              "      <td>25256</td>\n",
              "      <td>1</td>\n",
              "      <td>0</td>\n",
              "      <td>1</td>\n",
              "      <td>2</td>\n",
              "      <td>50</td>\n",
              "      <td>440</td>\n",
              "      <td>91</td>\n",
              "    </tr>\n",
              "    <tr>\n",
              "      <th>34103</th>\n",
              "      <td>2014-06-02 08:53:04</td>\n",
              "      <td>2</td>\n",
              "      <td>3</td>\n",
              "      <td>66</td>\n",
              "      <td>220</td>\n",
              "      <td>5686</td>\n",
              "      <td>24.6512</td>\n",
              "      <td>1197424</td>\n",
              "      <td>0</td>\n",
              "      <td>0</td>\n",
              "      <td>9</td>\n",
              "      <td>2014-12-22</td>\n",
              "      <td>2014-12-29</td>\n",
              "      <td>4</td>\n",
              "      <td>0</td>\n",
              "      <td>1</td>\n",
              "      <td>8268</td>\n",
              "      <td>1</td>\n",
              "      <td>0</td>\n",
              "      <td>1</td>\n",
              "      <td>2</td>\n",
              "      <td>50</td>\n",
              "      <td>682</td>\n",
              "      <td>18</td>\n",
              "    </tr>\n",
              "    <tr>\n",
              "      <th>15752</th>\n",
              "      <td>2014-04-24 17:56:38</td>\n",
              "      <td>2</td>\n",
              "      <td>3</td>\n",
              "      <td>66</td>\n",
              "      <td>351</td>\n",
              "      <td>36508</td>\n",
              "      <td>8000.9863</td>\n",
              "      <td>1051038</td>\n",
              "      <td>1</td>\n",
              "      <td>0</td>\n",
              "      <td>2</td>\n",
              "      <td>2014-05-12</td>\n",
              "      <td>2014-05-14</td>\n",
              "      <td>2</td>\n",
              "      <td>0</td>\n",
              "      <td>1</td>\n",
              "      <td>6581</td>\n",
              "      <td>6</td>\n",
              "      <td>0</td>\n",
              "      <td>1</td>\n",
              "      <td>3</td>\n",
              "      <td>171</td>\n",
              "      <td>61</td>\n",
              "      <td>21</td>\n",
              "    </tr>\n",
              "    <tr>\n",
              "      <th>9619</th>\n",
              "      <td>2014-03-14 06:32:13</td>\n",
              "      <td>2</td>\n",
              "      <td>3</td>\n",
              "      <td>66</td>\n",
              "      <td>351</td>\n",
              "      <td>44304</td>\n",
              "      <td>3930.7384</td>\n",
              "      <td>985396</td>\n",
              "      <td>0</td>\n",
              "      <td>1</td>\n",
              "      <td>4</td>\n",
              "      <td>2014-03-18</td>\n",
              "      <td>2014-03-21</td>\n",
              "      <td>1</td>\n",
              "      <td>0</td>\n",
              "      <td>1</td>\n",
              "      <td>8745</td>\n",
              "      <td>1</td>\n",
              "      <td>0</td>\n",
              "      <td>1</td>\n",
              "      <td>6</td>\n",
              "      <td>204</td>\n",
              "      <td>27</td>\n",
              "      <td>86</td>\n",
              "    </tr>\n",
              "    <tr>\n",
              "      <th>85085</th>\n",
              "      <td>2014-06-02 12:50:59</td>\n",
              "      <td>8</td>\n",
              "      <td>4</td>\n",
              "      <td>77</td>\n",
              "      <td>824</td>\n",
              "      <td>15015</td>\n",
              "      <td>7508.7798</td>\n",
              "      <td>1161409</td>\n",
              "      <td>0</td>\n",
              "      <td>0</td>\n",
              "      <td>0</td>\n",
              "      <td>2014-10-23</td>\n",
              "      <td>2014-10-27</td>\n",
              "      <td>2</td>\n",
              "      <td>0</td>\n",
              "      <td>1</td>\n",
              "      <td>8254</td>\n",
              "      <td>1</td>\n",
              "      <td>0</td>\n",
              "      <td>2</td>\n",
              "      <td>2</td>\n",
              "      <td>50</td>\n",
              "      <td>365</td>\n",
              "      <td>37</td>\n",
              "    </tr>\n",
              "    <tr>\n",
              "      <th>13485</th>\n",
              "      <td>2014-10-21 07:57:55</td>\n",
              "      <td>2</td>\n",
              "      <td>3</td>\n",
              "      <td>66</td>\n",
              "      <td>220</td>\n",
              "      <td>14656</td>\n",
              "      <td>188.1665</td>\n",
              "      <td>18153</td>\n",
              "      <td>0</td>\n",
              "      <td>0</td>\n",
              "      <td>9</td>\n",
              "      <td>2014-11-01</td>\n",
              "      <td>2014-11-02</td>\n",
              "      <td>3</td>\n",
              "      <td>0</td>\n",
              "      <td>1</td>\n",
              "      <td>13441</td>\n",
              "      <td>4</td>\n",
              "      <td>0</td>\n",
              "      <td>3</td>\n",
              "      <td>2</td>\n",
              "      <td>50</td>\n",
              "      <td>682</td>\n",
              "      <td>77</td>\n",
              "    </tr>\n",
              "    <tr>\n",
              "      <th>71050</th>\n",
              "      <td>2014-05-31 23:03:03</td>\n",
              "      <td>2</td>\n",
              "      <td>3</td>\n",
              "      <td>66</td>\n",
              "      <td>174</td>\n",
              "      <td>35675</td>\n",
              "      <td>66.8354</td>\n",
              "      <td>640271</td>\n",
              "      <td>0</td>\n",
              "      <td>0</td>\n",
              "      <td>9</td>\n",
              "      <td>2014-06-02</td>\n",
              "      <td>2014-06-05</td>\n",
              "      <td>1</td>\n",
              "      <td>0</td>\n",
              "      <td>1</td>\n",
              "      <td>12002</td>\n",
              "      <td>1</td>\n",
              "      <td>0</td>\n",
              "      <td>1</td>\n",
              "      <td>2</td>\n",
              "      <td>50</td>\n",
              "      <td>967</td>\n",
              "      <td>13</td>\n",
              "    </tr>\n",
              "    <tr>\n",
              "      <th>73317</th>\n",
              "      <td>2014-06-13 07:52:22</td>\n",
              "      <td>2</td>\n",
              "      <td>3</td>\n",
              "      <td>66</td>\n",
              "      <td>220</td>\n",
              "      <td>40105</td>\n",
              "      <td>236.2593</td>\n",
              "      <td>550251</td>\n",
              "      <td>0</td>\n",
              "      <td>0</td>\n",
              "      <td>1</td>\n",
              "      <td>2014-07-05</td>\n",
              "      <td>2014-07-06</td>\n",
              "      <td>2</td>\n",
              "      <td>0</td>\n",
              "      <td>1</td>\n",
              "      <td>19363</td>\n",
              "      <td>1</td>\n",
              "      <td>0</td>\n",
              "      <td>1</td>\n",
              "      <td>2</td>\n",
              "      <td>50</td>\n",
              "      <td>585</td>\n",
              "      <td>32</td>\n",
              "    </tr>\n",
              "    <tr>\n",
              "      <th>93883</th>\n",
              "      <td>2014-03-31 17:48:11</td>\n",
              "      <td>2</td>\n",
              "      <td>3</td>\n",
              "      <td>66</td>\n",
              "      <td>174</td>\n",
              "      <td>30698</td>\n",
              "      <td>1214.0368</td>\n",
              "      <td>1081084</td>\n",
              "      <td>1</td>\n",
              "      <td>1</td>\n",
              "      <td>0</td>\n",
              "      <td>2014-06-10</td>\n",
              "      <td>2014-06-17</td>\n",
              "      <td>2</td>\n",
              "      <td>0</td>\n",
              "      <td>1</td>\n",
              "      <td>8824</td>\n",
              "      <td>1</td>\n",
              "      <td>0</td>\n",
              "      <td>1</td>\n",
              "      <td>4</td>\n",
              "      <td>8</td>\n",
              "      <td>118</td>\n",
              "      <td>17</td>\n",
              "    </tr>\n",
              "    <tr>\n",
              "      <th>83451</th>\n",
              "      <td>2013-08-19 17:29:33</td>\n",
              "      <td>2</td>\n",
              "      <td>3</td>\n",
              "      <td>66</td>\n",
              "      <td>351</td>\n",
              "      <td>36508</td>\n",
              "      <td>1707.7704</td>\n",
              "      <td>721592</td>\n",
              "      <td>1</td>\n",
              "      <td>1</td>\n",
              "      <td>0</td>\n",
              "      <td>2013-11-29</td>\n",
              "      <td>2013-12-06</td>\n",
              "      <td>2</td>\n",
              "      <td>0</td>\n",
              "      <td>1</td>\n",
              "      <td>11439</td>\n",
              "      <td>1</td>\n",
              "      <td>0</td>\n",
              "      <td>2</td>\n",
              "      <td>4</td>\n",
              "      <td>163</td>\n",
              "      <td>1503</td>\n",
              "      <td>52</td>\n",
              "    </tr>\n",
              "  </tbody>\n",
              "</table>\n",
              "</div>"
            ],
            "text/plain": [
              "                 date_time  site_name  ...  hotel_market  hotel_cluster\n",
              "21596  2014-02-26 13:36:25          2  ...           440             91\n",
              "34103  2014-06-02 08:53:04          2  ...           682             18\n",
              "15752  2014-04-24 17:56:38          2  ...            61             21\n",
              "9619   2014-03-14 06:32:13          2  ...            27             86\n",
              "85085  2014-06-02 12:50:59          8  ...           365             37\n",
              "13485  2014-10-21 07:57:55          2  ...           682             77\n",
              "71050  2014-05-31 23:03:03          2  ...           967             13\n",
              "73317  2014-06-13 07:52:22          2  ...           585             32\n",
              "93883  2014-03-31 17:48:11          2  ...           118             17\n",
              "83451  2013-08-19 17:29:33          2  ...          1503             52\n",
              "\n",
              "[10 rows x 24 columns]"
            ]
          },
          "metadata": {},
          "execution_count": 5
        }
      ]
    },
    {
      "cell_type": "code",
      "metadata": {
        "colab": {
          "base_uri": "https://localhost:8080/"
        },
        "id": "FiBT6S8uwQRa",
        "outputId": "eb136c04-285c-4827-a248-af048078b9cd"
      },
      "source": [
        "train.info()"
      ],
      "execution_count": 6,
      "outputs": [
        {
          "output_type": "stream",
          "name": "stdout",
          "text": [
            "<class 'pandas.core.frame.DataFrame'>\n",
            "Int64Index: 64100 entries, 0 to 100000\n",
            "Data columns (total 24 columns):\n",
            " #   Column                     Non-Null Count  Dtype  \n",
            "---  ------                     --------------  -----  \n",
            " 0   date_time                  64100 non-null  object \n",
            " 1   site_name                  64100 non-null  int64  \n",
            " 2   posa_continent             64100 non-null  int64  \n",
            " 3   user_location_country      64100 non-null  int64  \n",
            " 4   user_location_region       64100 non-null  int64  \n",
            " 5   user_location_city         64100 non-null  int64  \n",
            " 6   orig_destination_distance  64100 non-null  float64\n",
            " 7   user_id                    64100 non-null  int64  \n",
            " 8   is_mobile                  64100 non-null  int64  \n",
            " 9   is_package                 64100 non-null  int64  \n",
            " 10  channel                    64100 non-null  int64  \n",
            " 11  srch_ci                    64100 non-null  object \n",
            " 12  srch_co                    64100 non-null  object \n",
            " 13  srch_adults_cnt            64100 non-null  int64  \n",
            " 14  srch_children_cnt          64100 non-null  int64  \n",
            " 15  srch_rm_cnt                64100 non-null  int64  \n",
            " 16  srch_destination_id        64100 non-null  int64  \n",
            " 17  srch_destination_type_id   64100 non-null  int64  \n",
            " 18  is_booking                 64100 non-null  int64  \n",
            " 19  cnt                        64100 non-null  int64  \n",
            " 20  hotel_continent            64100 non-null  int64  \n",
            " 21  hotel_country              64100 non-null  int64  \n",
            " 22  hotel_market               64100 non-null  int64  \n",
            " 23  hotel_cluster              64100 non-null  int64  \n",
            "dtypes: float64(1), int64(20), object(3)\n",
            "memory usage: 12.2+ MB\n"
          ]
        }
      ]
    },
    {
      "cell_type": "markdown",
      "metadata": {
        "id": "7deagDrnwXfY"
      },
      "source": [
        "Most of the fields are numeric.\n",
        "Lets descrivbe the data."
      ]
    },
    {
      "cell_type": "code",
      "metadata": {
        "colab": {
          "base_uri": "https://localhost:8080/",
          "height": 313
        },
        "id": "Q6Um6K2swgYh",
        "outputId": "6bdee28e-cbfe-4a35-b104-838eb1ac3667"
      },
      "source": [
        "train.describe()"
      ],
      "execution_count": 7,
      "outputs": [
        {
          "output_type": "execute_result",
          "data": {
            "text/html": [
              "<div>\n",
              "<style scoped>\n",
              "    .dataframe tbody tr th:only-of-type {\n",
              "        vertical-align: middle;\n",
              "    }\n",
              "\n",
              "    .dataframe tbody tr th {\n",
              "        vertical-align: top;\n",
              "    }\n",
              "\n",
              "    .dataframe thead th {\n",
              "        text-align: right;\n",
              "    }\n",
              "</style>\n",
              "<table border=\"1\" class=\"dataframe\">\n",
              "  <thead>\n",
              "    <tr style=\"text-align: right;\">\n",
              "      <th></th>\n",
              "      <th>site_name</th>\n",
              "      <th>posa_continent</th>\n",
              "      <th>user_location_country</th>\n",
              "      <th>user_location_region</th>\n",
              "      <th>user_location_city</th>\n",
              "      <th>orig_destination_distance</th>\n",
              "      <th>user_id</th>\n",
              "      <th>is_mobile</th>\n",
              "      <th>is_package</th>\n",
              "      <th>channel</th>\n",
              "      <th>srch_adults_cnt</th>\n",
              "      <th>srch_children_cnt</th>\n",
              "      <th>srch_rm_cnt</th>\n",
              "      <th>srch_destination_id</th>\n",
              "      <th>srch_destination_type_id</th>\n",
              "      <th>is_booking</th>\n",
              "      <th>cnt</th>\n",
              "      <th>hotel_continent</th>\n",
              "      <th>hotel_country</th>\n",
              "      <th>hotel_market</th>\n",
              "      <th>hotel_cluster</th>\n",
              "    </tr>\n",
              "  </thead>\n",
              "  <tbody>\n",
              "    <tr>\n",
              "      <th>count</th>\n",
              "      <td>64100.000000</td>\n",
              "      <td>64100.000000</td>\n",
              "      <td>64100.000000</td>\n",
              "      <td>64100.000000</td>\n",
              "      <td>64100.000000</td>\n",
              "      <td>64100.000000</td>\n",
              "      <td>6.410000e+04</td>\n",
              "      <td>64100.000000</td>\n",
              "      <td>64100.000000</td>\n",
              "      <td>64100.000000</td>\n",
              "      <td>64100.000000</td>\n",
              "      <td>64100.000000</td>\n",
              "      <td>64100.000000</td>\n",
              "      <td>64100.000000</td>\n",
              "      <td>64100.000000</td>\n",
              "      <td>64100.000000</td>\n",
              "      <td>64100.000000</td>\n",
              "      <td>64100.000000</td>\n",
              "      <td>64100.000000</td>\n",
              "      <td>64100.000000</td>\n",
              "      <td>64100.000000</td>\n",
              "    </tr>\n",
              "    <tr>\n",
              "      <th>mean</th>\n",
              "      <td>6.209672</td>\n",
              "      <td>2.903167</td>\n",
              "      <td>88.033432</td>\n",
              "      <td>310.806193</td>\n",
              "      <td>28049.239594</td>\n",
              "      <td>1979.080195</td>\n",
              "      <td>5.961939e+05</td>\n",
              "      <td>0.139173</td>\n",
              "      <td>0.245445</td>\n",
              "      <td>5.991856</td>\n",
              "      <td>2.036100</td>\n",
              "      <td>0.347348</td>\n",
              "      <td>1.100047</td>\n",
              "      <td>14366.092590</td>\n",
              "      <td>2.621076</td>\n",
              "      <td>0.083994</td>\n",
              "      <td>1.471981</td>\n",
              "      <td>2.897660</td>\n",
              "      <td>74.143354</td>\n",
              "      <td>618.709922</td>\n",
              "      <td>49.840296</td>\n",
              "    </tr>\n",
              "    <tr>\n",
              "      <th>std</th>\n",
              "      <td>8.988494</td>\n",
              "      <td>0.537636</td>\n",
              "      <td>54.669241</td>\n",
              "      <td>144.429626</td>\n",
              "      <td>16530.739081</td>\n",
              "      <td>2235.803718</td>\n",
              "      <td>3.428237e+05</td>\n",
              "      <td>0.346130</td>\n",
              "      <td>0.430354</td>\n",
              "      <td>3.737168</td>\n",
              "      <td>0.894979</td>\n",
              "      <td>0.751118</td>\n",
              "      <td>0.420118</td>\n",
              "      <td>10739.993786</td>\n",
              "      <td>2.165781</td>\n",
              "      <td>0.277381</td>\n",
              "      <td>1.163928</td>\n",
              "      <td>1.498105</td>\n",
              "      <td>53.847556</td>\n",
              "      <td>473.890122</td>\n",
              "      <td>29.094798</td>\n",
              "    </tr>\n",
              "    <tr>\n",
              "      <th>min</th>\n",
              "      <td>2.000000</td>\n",
              "      <td>0.000000</td>\n",
              "      <td>0.000000</td>\n",
              "      <td>135.000000</td>\n",
              "      <td>0.000000</td>\n",
              "      <td>0.025300</td>\n",
              "      <td>4.000000e+00</td>\n",
              "      <td>0.000000</td>\n",
              "      <td>0.000000</td>\n",
              "      <td>0.000000</td>\n",
              "      <td>0.000000</td>\n",
              "      <td>0.000000</td>\n",
              "      <td>1.000000</td>\n",
              "      <td>8.000000</td>\n",
              "      <td>1.000000</td>\n",
              "      <td>0.000000</td>\n",
              "      <td>1.000000</td>\n",
              "      <td>0.000000</td>\n",
              "      <td>0.000000</td>\n",
              "      <td>0.000000</td>\n",
              "      <td>0.000000</td>\n",
              "    </tr>\n",
              "    <tr>\n",
              "      <th>25%</th>\n",
              "      <td>2.000000</td>\n",
              "      <td>3.000000</td>\n",
              "      <td>66.000000</td>\n",
              "      <td>174.000000</td>\n",
              "      <td>14656.000000</td>\n",
              "      <td>312.823950</td>\n",
              "      <td>3.004685e+05</td>\n",
              "      <td>0.000000</td>\n",
              "      <td>0.000000</td>\n",
              "      <td>2.000000</td>\n",
              "      <td>2.000000</td>\n",
              "      <td>0.000000</td>\n",
              "      <td>1.000000</td>\n",
              "      <td>8267.000000</td>\n",
              "      <td>1.000000</td>\n",
              "      <td>0.000000</td>\n",
              "      <td>1.000000</td>\n",
              "      <td>2.000000</td>\n",
              "      <td>50.000000</td>\n",
              "      <td>245.000000</td>\n",
              "      <td>25.000000</td>\n",
              "    </tr>\n",
              "    <tr>\n",
              "      <th>50%</th>\n",
              "      <td>2.000000</td>\n",
              "      <td>3.000000</td>\n",
              "      <td>66.000000</td>\n",
              "      <td>318.000000</td>\n",
              "      <td>27655.000000</td>\n",
              "      <td>1156.988550</td>\n",
              "      <td>5.926710e+05</td>\n",
              "      <td>0.000000</td>\n",
              "      <td>0.000000</td>\n",
              "      <td>9.000000</td>\n",
              "      <td>2.000000</td>\n",
              "      <td>0.000000</td>\n",
              "      <td>1.000000</td>\n",
              "      <td>11334.000000</td>\n",
              "      <td>1.000000</td>\n",
              "      <td>0.000000</td>\n",
              "      <td>1.000000</td>\n",
              "      <td>2.000000</td>\n",
              "      <td>50.000000</td>\n",
              "      <td>628.000000</td>\n",
              "      <td>48.000000</td>\n",
              "    </tr>\n",
              "    <tr>\n",
              "      <th>75%</th>\n",
              "      <td>2.000000</td>\n",
              "      <td>3.000000</td>\n",
              "      <td>66.000000</td>\n",
              "      <td>363.000000</td>\n",
              "      <td>43026.000000</td>\n",
              "      <td>2558.597075</td>\n",
              "      <td>8.927922e+05</td>\n",
              "      <td>0.000000</td>\n",
              "      <td>0.000000</td>\n",
              "      <td>9.000000</td>\n",
              "      <td>2.000000</td>\n",
              "      <td>0.000000</td>\n",
              "      <td>1.000000</td>\n",
              "      <td>17859.000000</td>\n",
              "      <td>5.000000</td>\n",
              "      <td>0.000000</td>\n",
              "      <td>2.000000</td>\n",
              "      <td>4.000000</td>\n",
              "      <td>77.000000</td>\n",
              "      <td>701.000000</td>\n",
              "      <td>73.000000</td>\n",
              "    </tr>\n",
              "    <tr>\n",
              "      <th>max</th>\n",
              "      <td>43.000000</td>\n",
              "      <td>4.000000</td>\n",
              "      <td>215.000000</td>\n",
              "      <td>1021.000000</td>\n",
              "      <td>56507.000000</td>\n",
              "      <td>11825.162100</td>\n",
              "      <td>1.198748e+06</td>\n",
              "      <td>1.000000</td>\n",
              "      <td>1.000000</td>\n",
              "      <td>10.000000</td>\n",
              "      <td>9.000000</td>\n",
              "      <td>9.000000</td>\n",
              "      <td>8.000000</td>\n",
              "      <td>64982.000000</td>\n",
              "      <td>9.000000</td>\n",
              "      <td>1.000000</td>\n",
              "      <td>28.000000</td>\n",
              "      <td>6.000000</td>\n",
              "      <td>212.000000</td>\n",
              "      <td>2117.000000</td>\n",
              "      <td>99.000000</td>\n",
              "    </tr>\n",
              "  </tbody>\n",
              "</table>\n",
              "</div>"
            ],
            "text/plain": [
              "          site_name  posa_continent  ...  hotel_market  hotel_cluster\n",
              "count  64100.000000    64100.000000  ...  64100.000000   64100.000000\n",
              "mean       6.209672        2.903167  ...    618.709922      49.840296\n",
              "std        8.988494        0.537636  ...    473.890122      29.094798\n",
              "min        2.000000        0.000000  ...      0.000000       0.000000\n",
              "25%        2.000000        3.000000  ...    245.000000      25.000000\n",
              "50%        2.000000        3.000000  ...    628.000000      48.000000\n",
              "75%        2.000000        3.000000  ...    701.000000      73.000000\n",
              "max       43.000000        4.000000  ...   2117.000000      99.000000\n",
              "\n",
              "[8 rows x 21 columns]"
            ]
          },
          "metadata": {},
          "execution_count": 7
        }
      ]
    },
    {
      "cell_type": "markdown",
      "metadata": {
        "id": "0YzBfKgSwtZa"
      },
      "source": [
        "To perform EDA, lets update some date/time related fields."
      ]
    },
    {
      "cell_type": "code",
      "metadata": {
        "colab": {
          "base_uri": "https://localhost:8080/",
          "height": 374
        },
        "id": "WFYsNxfpw044",
        "outputId": "c3d276bf-3032-4452-991b-a255497bc1f3"
      },
      "source": [
        "train[\"date_time\"] = pd.to_datetime(train[\"date_time\"]) \n",
        "train[\"year\"] = train[\"date_time\"].dt.year  \n",
        "train[\"month\"] = train[\"date_time\"].dt.month\n",
        "train['srch_ci']=pd.to_datetime(train['srch_ci'],infer_datetime_format = True,errors='coerce')\n",
        "train['srch_co']=pd.to_datetime(train['srch_co'],infer_datetime_format = True,errors='coerce')\n",
        "train['plan_time'] = ((train['srch_ci']- train['date_time'])/np.timedelta64(1,'D')).astype(float)\n",
        "train['hotel_nights']=((train['srch_co']-train['srch_ci'])/np.timedelta64(1,'D')).astype(float)\n",
        "cols_to_drop = ['date_time', 'srch_ci', 'srch_co', 'user_id']\n",
        "train.drop(cols_to_drop, axis=1, inplace=True)\n",
        "train.sample(10)"
      ],
      "execution_count": 8,
      "outputs": [
        {
          "output_type": "execute_result",
          "data": {
            "text/html": [
              "<div>\n",
              "<style scoped>\n",
              "    .dataframe tbody tr th:only-of-type {\n",
              "        vertical-align: middle;\n",
              "    }\n",
              "\n",
              "    .dataframe tbody tr th {\n",
              "        vertical-align: top;\n",
              "    }\n",
              "\n",
              "    .dataframe thead th {\n",
              "        text-align: right;\n",
              "    }\n",
              "</style>\n",
              "<table border=\"1\" class=\"dataframe\">\n",
              "  <thead>\n",
              "    <tr style=\"text-align: right;\">\n",
              "      <th></th>\n",
              "      <th>site_name</th>\n",
              "      <th>posa_continent</th>\n",
              "      <th>user_location_country</th>\n",
              "      <th>user_location_region</th>\n",
              "      <th>user_location_city</th>\n",
              "      <th>orig_destination_distance</th>\n",
              "      <th>is_mobile</th>\n",
              "      <th>is_package</th>\n",
              "      <th>channel</th>\n",
              "      <th>srch_adults_cnt</th>\n",
              "      <th>srch_children_cnt</th>\n",
              "      <th>srch_rm_cnt</th>\n",
              "      <th>srch_destination_id</th>\n",
              "      <th>srch_destination_type_id</th>\n",
              "      <th>is_booking</th>\n",
              "      <th>cnt</th>\n",
              "      <th>hotel_continent</th>\n",
              "      <th>hotel_country</th>\n",
              "      <th>hotel_market</th>\n",
              "      <th>hotel_cluster</th>\n",
              "      <th>year</th>\n",
              "      <th>month</th>\n",
              "      <th>plan_time</th>\n",
              "      <th>hotel_nights</th>\n",
              "    </tr>\n",
              "  </thead>\n",
              "  <tbody>\n",
              "    <tr>\n",
              "      <th>59972</th>\n",
              "      <td>34</td>\n",
              "      <td>3</td>\n",
              "      <td>205</td>\n",
              "      <td>354</td>\n",
              "      <td>41949</td>\n",
              "      <td>117.9308</td>\n",
              "      <td>0</td>\n",
              "      <td>0</td>\n",
              "      <td>9</td>\n",
              "      <td>6</td>\n",
              "      <td>0</td>\n",
              "      <td>2</td>\n",
              "      <td>27077</td>\n",
              "      <td>6</td>\n",
              "      <td>0</td>\n",
              "      <td>1</td>\n",
              "      <td>2</td>\n",
              "      <td>50</td>\n",
              "      <td>641</td>\n",
              "      <td>50</td>\n",
              "      <td>2013</td>\n",
              "      <td>2</td>\n",
              "      <td>28.171019</td>\n",
              "      <td>1.0</td>\n",
              "    </tr>\n",
              "    <tr>\n",
              "      <th>42849</th>\n",
              "      <td>8</td>\n",
              "      <td>4</td>\n",
              "      <td>77</td>\n",
              "      <td>977</td>\n",
              "      <td>46771</td>\n",
              "      <td>5076.8156</td>\n",
              "      <td>0</td>\n",
              "      <td>0</td>\n",
              "      <td>1</td>\n",
              "      <td>3</td>\n",
              "      <td>0</td>\n",
              "      <td>1</td>\n",
              "      <td>43595</td>\n",
              "      <td>4</td>\n",
              "      <td>0</td>\n",
              "      <td>3</td>\n",
              "      <td>3</td>\n",
              "      <td>106</td>\n",
              "      <td>757</td>\n",
              "      <td>61</td>\n",
              "      <td>2013</td>\n",
              "      <td>4</td>\n",
              "      <td>81.142060</td>\n",
              "      <td>1.0</td>\n",
              "    </tr>\n",
              "    <tr>\n",
              "      <th>17261</th>\n",
              "      <td>2</td>\n",
              "      <td>3</td>\n",
              "      <td>66</td>\n",
              "      <td>220</td>\n",
              "      <td>47307</td>\n",
              "      <td>4387.4968</td>\n",
              "      <td>0</td>\n",
              "      <td>0</td>\n",
              "      <td>9</td>\n",
              "      <td>3</td>\n",
              "      <td>0</td>\n",
              "      <td>1</td>\n",
              "      <td>8255</td>\n",
              "      <td>1</td>\n",
              "      <td>1</td>\n",
              "      <td>1</td>\n",
              "      <td>6</td>\n",
              "      <td>77</td>\n",
              "      <td>20</td>\n",
              "      <td>15</td>\n",
              "      <td>2014</td>\n",
              "      <td>3</td>\n",
              "      <td>48.373646</td>\n",
              "      <td>1.0</td>\n",
              "    </tr>\n",
              "    <tr>\n",
              "      <th>49593</th>\n",
              "      <td>2</td>\n",
              "      <td>3</td>\n",
              "      <td>66</td>\n",
              "      <td>143</td>\n",
              "      <td>49966</td>\n",
              "      <td>159.8996</td>\n",
              "      <td>0</td>\n",
              "      <td>0</td>\n",
              "      <td>9</td>\n",
              "      <td>1</td>\n",
              "      <td>0</td>\n",
              "      <td>1</td>\n",
              "      <td>4887</td>\n",
              "      <td>3</td>\n",
              "      <td>0</td>\n",
              "      <td>1</td>\n",
              "      <td>2</td>\n",
              "      <td>50</td>\n",
              "      <td>350</td>\n",
              "      <td>91</td>\n",
              "      <td>2014</td>\n",
              "      <td>8</td>\n",
              "      <td>6.430093</td>\n",
              "      <td>1.0</td>\n",
              "    </tr>\n",
              "    <tr>\n",
              "      <th>18004</th>\n",
              "      <td>2</td>\n",
              "      <td>3</td>\n",
              "      <td>66</td>\n",
              "      <td>226</td>\n",
              "      <td>20170</td>\n",
              "      <td>139.6035</td>\n",
              "      <td>0</td>\n",
              "      <td>0</td>\n",
              "      <td>0</td>\n",
              "      <td>2</td>\n",
              "      <td>0</td>\n",
              "      <td>1</td>\n",
              "      <td>17859</td>\n",
              "      <td>1</td>\n",
              "      <td>0</td>\n",
              "      <td>1</td>\n",
              "      <td>2</td>\n",
              "      <td>50</td>\n",
              "      <td>427</td>\n",
              "      <td>51</td>\n",
              "      <td>2014</td>\n",
              "      <td>10</td>\n",
              "      <td>7.785891</td>\n",
              "      <td>1.0</td>\n",
              "    </tr>\n",
              "    <tr>\n",
              "      <th>86887</th>\n",
              "      <td>2</td>\n",
              "      <td>3</td>\n",
              "      <td>66</td>\n",
              "      <td>174</td>\n",
              "      <td>40789</td>\n",
              "      <td>5790.0763</td>\n",
              "      <td>0</td>\n",
              "      <td>1</td>\n",
              "      <td>0</td>\n",
              "      <td>4</td>\n",
              "      <td>0</td>\n",
              "      <td>3</td>\n",
              "      <td>8255</td>\n",
              "      <td>1</td>\n",
              "      <td>0</td>\n",
              "      <td>1</td>\n",
              "      <td>6</td>\n",
              "      <td>77</td>\n",
              "      <td>20</td>\n",
              "      <td>15</td>\n",
              "      <td>2013</td>\n",
              "      <td>7</td>\n",
              "      <td>149.466157</td>\n",
              "      <td>7.0</td>\n",
              "    </tr>\n",
              "    <tr>\n",
              "      <th>85527</th>\n",
              "      <td>2</td>\n",
              "      <td>3</td>\n",
              "      <td>66</td>\n",
              "      <td>311</td>\n",
              "      <td>30031</td>\n",
              "      <td>2371.8842</td>\n",
              "      <td>0</td>\n",
              "      <td>1</td>\n",
              "      <td>9</td>\n",
              "      <td>2</td>\n",
              "      <td>0</td>\n",
              "      <td>1</td>\n",
              "      <td>8250</td>\n",
              "      <td>1</td>\n",
              "      <td>0</td>\n",
              "      <td>4</td>\n",
              "      <td>2</td>\n",
              "      <td>50</td>\n",
              "      <td>628</td>\n",
              "      <td>24</td>\n",
              "      <td>2014</td>\n",
              "      <td>2</td>\n",
              "      <td>34.630023</td>\n",
              "      <td>4.0</td>\n",
              "    </tr>\n",
              "    <tr>\n",
              "      <th>67820</th>\n",
              "      <td>2</td>\n",
              "      <td>3</td>\n",
              "      <td>66</td>\n",
              "      <td>363</td>\n",
              "      <td>31848</td>\n",
              "      <td>5699.4821</td>\n",
              "      <td>0</td>\n",
              "      <td>0</td>\n",
              "      <td>9</td>\n",
              "      <td>2</td>\n",
              "      <td>0</td>\n",
              "      <td>1</td>\n",
              "      <td>8226</td>\n",
              "      <td>1</td>\n",
              "      <td>0</td>\n",
              "      <td>1</td>\n",
              "      <td>5</td>\n",
              "      <td>100</td>\n",
              "      <td>1446</td>\n",
              "      <td>46</td>\n",
              "      <td>2014</td>\n",
              "      <td>7</td>\n",
              "      <td>271.337755</td>\n",
              "      <td>3.0</td>\n",
              "    </tr>\n",
              "    <tr>\n",
              "      <th>39406</th>\n",
              "      <td>2</td>\n",
              "      <td>3</td>\n",
              "      <td>66</td>\n",
              "      <td>442</td>\n",
              "      <td>23459</td>\n",
              "      <td>918.6817</td>\n",
              "      <td>0</td>\n",
              "      <td>1</td>\n",
              "      <td>0</td>\n",
              "      <td>1</td>\n",
              "      <td>0</td>\n",
              "      <td>1</td>\n",
              "      <td>8230</td>\n",
              "      <td>1</td>\n",
              "      <td>0</td>\n",
              "      <td>1</td>\n",
              "      <td>2</td>\n",
              "      <td>50</td>\n",
              "      <td>637</td>\n",
              "      <td>94</td>\n",
              "      <td>2014</td>\n",
              "      <td>10</td>\n",
              "      <td>15.002523</td>\n",
              "      <td>3.0</td>\n",
              "    </tr>\n",
              "    <tr>\n",
              "      <th>56234</th>\n",
              "      <td>2</td>\n",
              "      <td>3</td>\n",
              "      <td>66</td>\n",
              "      <td>174</td>\n",
              "      <td>9821</td>\n",
              "      <td>7311.7507</td>\n",
              "      <td>0</td>\n",
              "      <td>0</td>\n",
              "      <td>9</td>\n",
              "      <td>3</td>\n",
              "      <td>0</td>\n",
              "      <td>3</td>\n",
              "      <td>15799</td>\n",
              "      <td>5</td>\n",
              "      <td>1</td>\n",
              "      <td>1</td>\n",
              "      <td>3</td>\n",
              "      <td>99</td>\n",
              "      <td>1033</td>\n",
              "      <td>46</td>\n",
              "      <td>2013</td>\n",
              "      <td>7</td>\n",
              "      <td>21.388380</td>\n",
              "      <td>1.0</td>\n",
              "    </tr>\n",
              "  </tbody>\n",
              "</table>\n",
              "</div>"
            ],
            "text/plain": [
              "       site_name  posa_continent  ...   plan_time  hotel_nights\n",
              "59972         34               3  ...   28.171019           1.0\n",
              "42849          8               4  ...   81.142060           1.0\n",
              "17261          2               3  ...   48.373646           1.0\n",
              "49593          2               3  ...    6.430093           1.0\n",
              "18004          2               3  ...    7.785891           1.0\n",
              "86887          2               3  ...  149.466157           7.0\n",
              "85527          2               3  ...   34.630023           4.0\n",
              "67820          2               3  ...  271.337755           3.0\n",
              "39406          2               3  ...   15.002523           3.0\n",
              "56234          2               3  ...   21.388380           1.0\n",
              "\n",
              "[10 rows x 24 columns]"
            ]
          },
          "metadata": {},
          "execution_count": 8
        }
      ]
    },
    {
      "cell_type": "markdown",
      "metadata": {
        "id": "5rEHp7dcxNf5"
      },
      "source": [
        "Now lets plot Booking Class and its Frequency."
      ]
    },
    {
      "cell_type": "code",
      "metadata": {
        "colab": {
          "base_uri": "https://localhost:8080/",
          "height": 292
        },
        "id": "BmTqKo0SxRGL",
        "outputId": "8d79fe7b-33c9-4cd0-d672-5bb36a07c18b"
      },
      "source": [
        "########################## Balance the datasets by downsampling ########################################\n",
        "count_classes = pd.value_counts(train['is_booking'], sort = True).sort_index()\n",
        "count_classes.plot(kind = 'bar')\n",
        "plt.title(\"Booking or Not booking\")\n",
        "plt.xlabel(\"Class\")\n",
        "plt.ylabel(\"Frequency\")\n",
        "plt.show()"
      ],
      "execution_count": 9,
      "outputs": [
        {
          "output_type": "display_data",
          "data": {
            "image/png": "[encoded data removed]",
            "text/plain": [
              "<Figure size 432x288 with 1 Axes>"
            ]
          },
          "metadata": {
            "needs_background": "light"
          }
        }
      ]
    },
    {
      "cell_type": "markdown",
      "metadata": {
        "id": "Z-LKzBQGxf8o"
      },
      "source": [
        "Now lets check how many clicks actually turned into actual bookings."
      ]
    },
    {
      "cell_type": "code",
      "metadata": {
        "colab": {
          "base_uri": "https://localhost:8080/"
        },
        "id": "doj9Q1j-xm3Y",
        "outputId": "0702c228-bc43-44b5-d0b0-668291c153b8"
      },
      "source": [
        "booking_indices = train[train.is_booking == 1].index\n",
        "random_indices = np.random.choice(booking_indices, len(train.loc[train.is_booking == 1]), replace=False)\n",
        "booking_sample = train.loc[random_indices]\n",
        "not_booking = train[train.is_booking == 0].index\n",
        "random_indices = np.random.choice(not_booking, sum(train['is_booking']), replace=False)\n",
        "not_booking_sample = train.loc[random_indices]\n",
        "df_new = pd.concat([not_booking_sample, booking_sample], axis=0)\n",
        "print(\"Percentage of not booking clicks: \", len(df_new[df_new.is_booking == 0])/len(df_new))\n",
        "print(\"Percentage of booking clicks: \", len(df_new[df_new.is_booking == 1])/len(df_new))\n",
        "print(\"Total number of records in resampled data: \", len(df_new))"
      ],
      "execution_count": 10,
      "outputs": [
        {
          "output_type": "stream",
          "name": "stdout",
          "text": [
            "Percentage of not booking clicks:  0.5\n",
            "Percentage of booking clicks:  0.5\n",
            "Total number of records in resampled data:  10768\n"
          ]
        }
      ]
    },
    {
      "cell_type": "code",
      "metadata": {
        "colab": {
          "base_uri": "https://localhost:8080/",
          "height": 292
        },
        "id": "wTlXiY9uyJWi",
        "outputId": "4b6e3838-446a-45d3-b627-fbe6cab6ea38"
      },
      "source": [
        "count_classes = pd.value_counts(df_new['is_booking'], sort = True).sort_index()\n",
        "count_classes.plot(kind = 'bar')\n",
        "plt.title(\"Booking or Not booking\")\n",
        "plt.xlabel(\"Class\")\n",
        "plt.ylabel(\"Frequency\")\n",
        "plt.show()"
      ],
      "execution_count": 11,
      "outputs": [
        {
          "output_type": "display_data",
          "data": {
            "image/png": "[encoded data removed]",
            "text/plain": [
              "<Figure size 432x288 with 1 Axes>"
            ]
          },
          "metadata": {
            "needs_background": "light"
          }
        }
      ]
    },
    {
      "cell_type": "markdown",
      "metadata": {
        "id": "umcXdr7vyUIx"
      },
      "source": [
        "Now lets try to construct various Models and find their accuracy. For this purpose will use sklearn library."
      ]
    },
    {
      "cell_type": "code",
      "metadata": {
        "id": "--JdLSwxyOLr"
      },
      "source": [
        "from sklearn.ensemble import RandomForestClassifier\n",
        "from sklearn.model_selection import train_test_split\n",
        "from sklearn.preprocessing import StandardScaler\n",
        "from sklearn.decomposition import PCA\n",
        "from sklearn.metrics import classification_report\n",
        "from sklearn.metrics import confusion_matrix  \n",
        "from sklearn.metrics import accuracy_score\n",
        "import xgboost as xgb\n",
        "from sklearn.model_selection import GridSearchCV,StratifiedKFold\n",
        "from sklearn.model_selection import cross_val_score\n",
        "from sklearn.ensemble import RandomForestClassifier\n",
        "from sklearn.pipeline import make_pipeline\n",
        "from sklearn import preprocessing\n",
        "from sklearn.preprocessing import StandardScaler\n",
        "from sklearn import svm"
      ],
      "execution_count": 13,
      "outputs": []
    },
    {
      "cell_type": "markdown",
      "metadata": {
        "id": "BEVrly-uysHy"
      },
      "source": [
        "First I will perfom PCA"
      ]
    },
    {
      "cell_type": "code",
      "metadata": {
        "colab": {
          "base_uri": "https://localhost:8080/",
          "height": 569
        },
        "id": "vg6TPlInyvRk",
        "outputId": "b1947d0c-311f-460b-de03-d50eb84f3f94"
      },
      "source": [
        "df_booking = df_new.loc[df_new['is_booking'] == 1]\n",
        "X = df_booking.drop([ 'hotel_cluster', 'is_booking'], axis=1)\n",
        "y = df_booking.hotel_cluster\n",
        "\n",
        "scaler = StandardScaler()\n",
        "X=scaler.fit_transform(X)\n",
        "print(X)\n",
        "\n",
        "pca = PCA(n_components=22)\n",
        "pca.fit(X)\n",
        "\n",
        "var=np.cumsum(np.round(pca.explained_variance_ratio_, decimals=3)*100)\n",
        "print(var)\n",
        "\n",
        "plt.ylabel('% Variance Explained')\n",
        "plt.xlabel('# of Features')\n",
        "plt.title('PCA Analysis')\n",
        "plt.style.context('seaborn-whitegrid')\n",
        "plt.plot(var)\n",
        "plt.show()"
      ],
      "execution_count": 14,
      "outputs": [
        {
          "output_type": "stream",
          "name": "stdout",
          "text": [
            "[[-0.4566472   0.18142057 -0.42071168 ... -1.19846553 -0.18109712\n",
            "   1.35161026]\n",
            " [-0.4566472   0.18142057 -0.42071168 ...  1.24382759 -0.14101789\n",
            "  -0.69437825]\n",
            " [-0.4566472   0.18142057 -0.42071168 ... -1.80903881  2.11402311\n",
            "   0.84011313]\n",
            " ...\n",
            " [ 0.20975735  2.15071164 -0.21960731 ...  0.32796767 -0.59416387\n",
            "  -0.18288112]\n",
            " [-0.4566472   0.18142057 -0.42071168 ... -1.80903881 -0.40378335\n",
            "   0.84011313]\n",
            " [ 0.54295962  0.18142057  2.1205163  ...  0.32796767  0.56839495\n",
            "  -0.18288112]]\n",
            "[ 10.1  18.7  25.9  32.5  38.3  43.6  48.5  53.3  58.1  62.7  67.2  71.5\n",
            "  75.7  79.8  83.5  86.9  89.7  92.2  94.7  96.8  98.7 100. ]\n"
          ]
        },
        {
          "output_type": "display_data",
          "data": {
            "image/png": "[encoded data removed]",
            "text/plain": [
              "<Figure size 432x288 with 1 Axes>"
            ]
          },
          "metadata": {
            "needs_background": "light"
          }
        }
      ]
    },
    {
      "cell_type": "code",
      "metadata": {
        "colab": {
          "base_uri": "https://localhost:8080/"
        },
        "id": "WyqFLbcEy5HC",
        "outputId": "826cf12a-de4a-4318-ea84-34cea31e16a3"
      },
      "source": [
        "print('\\nThe correlation coefficients are:\\n',df_booking.corr()['hotel_cluster'])"
      ],
      "execution_count": 15,
      "outputs": [
        {
          "output_type": "stream",
          "name": "stdout",
          "text": [
            "\n",
            "The correlation coefficients are:\n",
            " site_name                   -0.000499\n",
            "posa_continent              -0.014877\n",
            "user_location_country       -0.013457\n",
            "user_location_region         0.025151\n",
            "user_location_city          -0.004096\n",
            "orig_destination_distance    0.045373\n",
            "is_mobile                   -0.003060\n",
            "is_package                   0.033964\n",
            "channel                      0.011887\n",
            "srch_adults_cnt              0.022294\n",
            "srch_children_cnt           -0.007768\n",
            "srch_rm_cnt                  0.003990\n",
            "srch_destination_id         -0.004577\n",
            "srch_destination_type_id    -0.031759\n",
            "is_booking                        NaN\n",
            "cnt                         -0.003449\n",
            "hotel_continent              0.031893\n",
            "hotel_country               -0.000879\n",
            "hotel_market                 0.017631\n",
            "hotel_cluster                1.000000\n",
            "year                         0.010897\n",
            "month                        0.000017\n",
            "plan_time                    0.013038\n",
            "hotel_nights                 0.034800\n",
            "Name: hotel_cluster, dtype: float64\n"
          ]
        }
      ]
    },
    {
      "cell_type": "markdown",
      "metadata": {
        "id": "XXy-V0N50exp"
      },
      "source": [
        "Now lets read destination.csv file and perform PCA"
      ]
    },
    {
      "cell_type": "code",
      "metadata": {
        "colab": {
          "base_uri": "https://localhost:8080/",
          "height": 441
        },
        "id": "pjPPkw-r0jgt",
        "outputId": "940a6095-84a7-4e16-e6eb-e0ee352e24bb"
      },
      "source": [
        "dest = pd.read_csv('expedia/destinations.csv')\n",
        "from sklearn.decomposition import PCA\n",
        "\n",
        "\n",
        "pca = PCA(n_components=148)\n",
        "pca.fit(dest[[\"d{0}\".format(i + 1) for i in range(149)]])\n",
        "\n",
        "var=np.cumsum(np.round(pca.explained_variance_ratio_, decimals=3)*100)\n",
        "plt.ylabel('% Variance Explained')\n",
        "plt.xlabel('# of Features')\n",
        "plt.title('PCA Analysis')\n",
        "plt.style.context('seaborn-whitegrid')\n",
        "plt.plot(var)\n",
        "plt.show()\n",
        "\n",
        "pca = PCA(n_components=20)\n",
        "dest_small = pca.fit_transform(dest[[\"d{0}\".format(i + 1) for i in range(149)]])\n",
        "dest_small = pd.DataFrame(dest_small)\n",
        "dest_small[\"srch_destination_id\"] = dest[\"srch_destination_id\"]\n",
        "print(dest_small.head())"
      ],
      "execution_count": 18,
      "outputs": [
        {
          "output_type": "display_data",
          "data": {
            "image/png": "[encoded data removed]",
            "text/plain": [
              "<Figure size 432x288 with 1 Axes>"
            ]
          },
          "metadata": {
            "needs_background": "light"
          }
        },
        {
          "output_type": "stream",
          "name": "stdout",
          "text": [
            "          0         1         2  ...        18        19  srch_destination_id\n",
            "0 -0.044268  0.169419  0.032515  ... -0.026337 -0.119157                    0\n",
            "1 -0.440761  0.077405 -0.091572  ...  0.026824 -0.002881                    1\n",
            "2  0.001033  0.020677  0.012107  ...  0.037228 -0.031114                    2\n",
            "3 -0.480467 -0.040345 -0.019320  ...  0.001498 -0.016325                    3\n",
            "4 -0.207253 -0.042694 -0.011743  ... -0.017707  0.023287                    4\n",
            "\n",
            "[5 rows x 21 columns]\n"
          ]
        }
      ]
    },
    {
      "cell_type": "markdown",
      "metadata": {
        "id": "GQp6lWMi0oqL"
      },
      "source": [
        "Now creating Test dataset by splitting Training dataset"
      ]
    },
    {
      "cell_type": "code",
      "metadata": {
        "colab": {
          "base_uri": "https://localhost:8080/"
        },
        "id": "o_gbHUMG06Gp",
        "outputId": "c5decfee-c88a-436f-de28-6285f1fe84ea"
      },
      "source": [
        "X = df_booking.drop([ 'hotel_cluster', 'is_booking'], axis=1)\n",
        "y = df_booking.hotel_cluster\n",
        "X_train, X_test, y_train, y_test = train_test_split(X,y, test_size=0.33)\n",
        "\n",
        "print(X_train.shape)\n",
        "print(X_test.shape)\n",
        "print(y_train.shape)\n",
        "print(y_test.shape)"
      ],
      "execution_count": 19,
      "outputs": [
        {
          "output_type": "stream",
          "name": "stdout",
          "text": [
            "(3607, 22)\n",
            "(1777, 22)\n",
            "(3607,)\n",
            "(1777,)\n"
          ]
        }
      ]
    },
    {
      "cell_type": "markdown",
      "metadata": {
        "id": "BpJRMo5508xr"
      },
      "source": [
        "Use RandomForest classifier to test usability/importance of features"
      ]
    },
    {
      "cell_type": "code",
      "metadata": {
        "colab": {
          "base_uri": "https://localhost:8080/",
          "height": 279
        },
        "id": "7PtbZPm91QdL",
        "outputId": "e529921f-3485-4f5e-abf8-57ad609b1b4b"
      },
      "source": [
        "rf_tree = RandomForestClassifier(n_estimators=31,max_depth=10,random_state=123)\n",
        "rf_tree.fit(X_train,y_train)\n",
        "importance = rf_tree.feature_importances_\n",
        "indices=np.argsort(importance)[::-1][:10]\n",
        "importance[indices]\n",
        "\n",
        "plt.barh(range(10), importance[indices],color='r')\n",
        "plt.yticks(range(10),X_train.columns[indices])\n",
        "plt.xlabel('Feature Importance')\n",
        "plt.show()"
      ],
      "execution_count": 20,
      "outputs": [
        {
          "output_type": "display_data",
          "data": {
            "image/png": "[encoded data removed]",
            "text/plain": [
              "<Figure size 432x288 with 1 Axes>"
            ]
          },
          "metadata": {
            "needs_background": "light"
          }
        }
      ]
    },
    {
      "cell_type": "markdown",
      "metadata": {
        "id": "j5HGUUoa1YBx"
      },
      "source": [
        "Hotel Market and Original destination distance appear to be very important."
      ]
    },
    {
      "cell_type": "code",
      "metadata": {
        "colab": {
          "base_uri": "https://localhost:8080/"
        },
        "id": "xg_7i_CT1qsT",
        "outputId": "9186a459-a358-43b8-9653-1f581265da54"
      },
      "source": [
        "# Some more data prep\n",
        "pieces = [df_new.groupby(['srch_destination_id','hotel_country','hotel_market','hotel_cluster'])['is_booking'].agg(['sum','count'])]\n",
        "agg = pd.concat(pieces).groupby(level=[0,1,2,3]).sum()\n",
        "agg.dropna(inplace=True)\n",
        "print(agg.head())\n",
        "\n",
        "agg['score'] = 0.85*agg['sum'] + 0.15*agg['count']\n",
        "agg = agg.groupby(level=[0,1,2]).apply(lambda x: x.astype(float)/x.sum())\n",
        "agg.reset_index(inplace=True)\n",
        "print(agg.head())\n",
        "\n",
        "agg_pivot = agg.pivot_table(index=['srch_destination_id','hotel_country','hotel_market'], columns='hotel_cluster', values='score').reset_index()\n",
        "print(agg_pivot.head())\n",
        "\n",
        "df = pd.merge(df_new, dest_small, how='left', on='srch_destination_id')\n",
        "# print(df.head())\n",
        "df = pd.merge(df, agg_pivot, how='left', on=['srch_destination_id','hotel_country','hotel_market'])\n",
        "df.fillna(0, inplace=True)\n",
        "\n",
        "print(df.shape)\n",
        "# print(df.head())\n",
        "\n",
        "df = df.loc[df['is_booking'] == 1]\n",
        "\n",
        "X = df.drop([ 'hotel_cluster', 'is_booking'], axis=1)\n",
        "y = df.hotel_cluster"
      ],
      "execution_count": 21,
      "outputs": [
        {
          "output_type": "stream",
          "name": "stdout",
          "text": [
            "                                                              sum  count\n",
            "srch_destination_id hotel_country hotel_market hotel_cluster            \n",
            "8                   50            416          42               1      1\n",
            "                                               48               1      1\n",
            "                                               76               0      1\n",
            "21                  77            1454         82               1      1\n",
            "24                  50            606          11               0      1\n",
            "   srch_destination_id  hotel_country  hotel_market  ...  sum     count     score\n",
            "0                    8             50           416  ...  0.5  0.333333  0.465116\n",
            "1                    8             50           416  ...  0.5  0.333333  0.465116\n",
            "2                    8             50           416  ...  0.0  0.333333  0.069767\n",
            "3                   21             77          1454  ...  1.0  1.000000  1.000000\n",
            "4                   24             50           606  ...  0.0  0.250000  0.047619\n",
            "\n",
            "[5 rows x 7 columns]\n",
            "hotel_cluster  srch_destination_id  hotel_country  hotel_market  ...  97  98  99\n",
            "0                                8             50           416  ... NaN NaN NaN\n",
            "1                               21             77          1454  ... NaN NaN NaN\n",
            "2                               24             50           606  ... NaN NaN NaN\n",
            "3                               59             76          1537  ... NaN NaN NaN\n",
            "4                               62             50          1298  ... NaN NaN NaN\n",
            "\n",
            "[5 rows x 103 columns]\n",
            "(10768, 144)\n"
          ]
        }
      ]
    },
    {
      "cell_type": "markdown",
      "metadata": {
        "id": "jfYpI3PI10dT"
      },
      "source": [
        "###1 . Random Forest Classifier"
      ]
    },
    {
      "cell_type": "code",
      "metadata": {
        "colab": {
          "base_uri": "https://localhost:8080/"
        },
        "id": "VJVtuwB32A_r",
        "outputId": "8a176969-f11f-42d7-c887-9405fdab771c"
      },
      "source": [
        "X_train, X_test, y_train, y_test = train_test_split(X,y, test_size=0.33)\n",
        "\n",
        "print(X_train.shape)\n",
        "print(X_test.shape)\n",
        "print(y_train.shape)\n",
        "print(y_test.shape)\n",
        "\n",
        "######################## Random Forest Classifier #################################\n",
        "rf_tree = RandomForestClassifier(n_estimators=31,max_depth=10,random_state=123)\n",
        "rf_tree.fit(X_train,y_train)\n",
        "\n",
        "accuracy_randomforest = rf_tree.score(X_test,y_test)\n",
        "print('\\nAccuracy for random classifier model is:',accuracy_randomforest)\n"
      ],
      "execution_count": 22,
      "outputs": [
        {
          "output_type": "stream",
          "name": "stdout",
          "text": [
            "(3607, 142)\n",
            "(1777, 142)\n",
            "(3607,)\n",
            "(1777,)\n",
            "\n",
            "Accuracy for random classifier model is: 0.31907709622960045\n"
          ]
        }
      ]
    },
    {
      "cell_type": "markdown",
      "metadata": {
        "id": "YWGeOE2g2ONj"
      },
      "source": [
        "###2. K-Nearest-Neighbor Classifier"
      ]
    },
    {
      "cell_type": "code",
      "metadata": {
        "colab": {
          "base_uri": "https://localhost:8080/"
        },
        "id": "ZKrFEeM52PLL",
        "outputId": "94b6b1b1-5cba-41bd-88bb-f64ee3f1ad11"
      },
      "source": [
        "from sklearn.neighbors import KNeighborsClassifier\n",
        "clf = make_pipeline(preprocessing.StandardScaler(), KNeighborsClassifier(n_neighbors=5))\n",
        "accuracy_knn=np.mean(cross_val_score(clf, X_train, y_train, cv=10, scoring='accuracy'))\n",
        "print('\\nAccuracy for KNN classifier model is:',accuracy_knn)"
      ],
      "execution_count": 23,
      "outputs": [
        {
          "output_type": "stream",
          "name": "stdout",
          "text": [
            "\n",
            "Accuracy for KNN classifier model is: 0.39340720221606645\n"
          ]
        }
      ]
    },
    {
      "cell_type": "markdown",
      "metadata": {
        "id": "CpjUMfdA2gyc"
      },
      "source": [
        "###3. Logistic Regression"
      ]
    },
    {
      "cell_type": "code",
      "metadata": {
        "colab": {
          "base_uri": "https://localhost:8080/"
        },
        "id": "utTFn3Rf2p7N",
        "outputId": "a4ff8df6-5bbf-4df6-d58b-f464a3ad19ac"
      },
      "source": [
        "from sklearn.linear_model import LogisticRegression\n",
        "clf = make_pipeline(preprocessing.StandardScaler(), LogisticRegression(multi_class='ovr'))\n",
        "accuracy_LR=np.mean(cross_val_score(clf, X_train, y_train, cv=10))\n",
        "print('\\nAccuracy for Logistic Regression classifier model is:',accuracy_LR)"
      ],
      "execution_count": 24,
      "outputs": [
        {
          "output_type": "stream",
          "name": "stdout",
          "text": [
            "\n",
            "Accuracy for Logistic Regression classifier model is: 0.3928554939981532\n"
          ]
        }
      ]
    },
    {
      "cell_type": "markdown",
      "metadata": {
        "id": "PA2-yGs83DH8"
      },
      "source": [
        "###4. Support Vector Machines Classifier"
      ]
    },
    {
      "cell_type": "code",
      "metadata": {
        "colab": {
          "base_uri": "https://localhost:8080/"
        },
        "id": "LZ_XWa913JF0",
        "outputId": "32c4518b-d307-4f79-8b18-e9f82f4f28b1"
      },
      "source": [
        "from sklearn import svm\n",
        "clf = make_pipeline(preprocessing.StandardScaler(), svm.SVC(decision_function_shape='ovo'))\n",
        "accuracy_SVM=np.mean(cross_val_score(clf, X_train, y_train, cv=10))\n",
        "print('\\nAccuracy for SVM classifier model is:',accuracy_SVM)"
      ],
      "execution_count": 25,
      "outputs": [
        {
          "output_type": "stream",
          "name": "stdout",
          "text": [
            "\n",
            "Accuracy for SVM classifier model is: 0.4244629116651277\n"
          ]
        }
      ]
    },
    {
      "cell_type": "markdown",
      "metadata": {
        "id": "TQV45DJ03i4D"
      },
      "source": [
        "Overall all 4 models have accuracy ranging between 0.31 to 0.42.\n",
        "\n",
        "SVM model has the highest accuracy of 0.42 hence that Model would be used to recommend Hotel for booking."
      ]
    }
  ]
}