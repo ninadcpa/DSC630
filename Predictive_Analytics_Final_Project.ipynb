{
  "nbformat": 4,
  "nbformat_minor": 0,
  "metadata": {
    "colab": {
      "name": "Predictive_Analytics_Final_Project.ipynb",
      "provenance": [],
      "collapsed_sections": [],
      "toc_visible": true,
      "authorship_tag": "ABX9TyMXYn+pI2r5p4ix4FrENQ5I",
      "include_colab_link": true
    },
    "kernelspec": {
      "name": "python3",
      "display_name": "Python 3"
    },
    "language_info": {
      "name": "python"
    }
  },
  "cells": [
    {
      "cell_type": "markdown",
      "metadata": {
        "id": "view-in-github",
        "colab_type": "text"
      },
      "source": [
        "<a href=\"https://colab.research.google.com/github/ninadcpa/DSC630/blob/main/Predictive_Analytics_Final_Project.ipynb\" target=\"_parent\"><img src=\"https://colab.research.google.com/assets/colab-badge.svg\" alt=\"Open In Colab\"/></a>"
      ]
    },
    {
      "cell_type": "markdown",
      "metadata": {
        "id": "pXigJIH5TDAL"
      },
      "source": [
        "# Predictive Analytics (DSC 630) - Final Project\n",
        "\n",
        "Term - Fall 2021\n",
        "Bellevue University\n",
        "\n",
        "@Author - Ninad Patkhedkar  \n",
        "@Instructor - Fadi Alsaleem"
      ]
    },
    {
      "cell_type": "markdown",
      "metadata": {
        "id": "Xwxarly35JDg"
      },
      "source": [
        "# MileStone-1 - High Level Plan\n",
        "\n",
        "I will work on Individual Project. I will use Python as my preferred coding language for final project.\n",
        "\n",
        "This subject is for 12 weeks, so I plan to finish the project in 4 milestones having 3 week per milestones. (It may vary/increase based on review comments I receive)\n",
        "\n",
        "Tentatively I think about task perfomred in each milestone\n",
        "\n",
        "1. Milestone 1 - Identify dataset and decide what intersting things can be predicted from data set.\n",
        "\n",
        "2. Milestone 2 - Describe the objective, scope of the project and provide plan about timelines, milestones, risks and risk mitigation details.\n",
        "\n",
        "3. Milestone 3 - Data Wranggling where will clean up data, handle outliers, rename any fields, derive any new fields\n",
        "\n",
        "4. Milestone 4 - Feature extraction and apply various Machine Learning models for predictions.\n",
        "\n",
        "5. Milestone 5 - Re-run and fine tune ML models till satisfaction and Summarize the whole findings as a story with relevant reports."
      ]
    },
    {
      "cell_type": "markdown",
      "metadata": {
        "id": "O91VgUmsTj6c"
      },
      "source": [
        "# MileStone-2 - Project Idea, Scope, Plan and Risk "
      ]
    },
    {
      "cell_type": "markdown",
      "metadata": {
        "id": "N9L5psY5UCxp"
      },
      "source": [
        "### **Introduction**\n"
      ]
    },
    {
      "cell_type": "markdown",
      "metadata": {
        "id": "HAZsNTcxE2VP"
      },
      "source": [
        "#### *Background*\n",
        "\n",
        "For centuries mankind has completely relied on Fossil Fuels as primary energy source. With improvement of living standards demand for energy source increased and hence consumption also increased. This had couple of side effects  \n",
        "* Fossil fuel (Hydrocarbon) energy consumption increased carbon emissions causing Global warming  \n",
        "* Fossil fuel resources depleted considerably and will exhaust very soon\n",
        "\n",
        "These side effects triggered search for Non-Convensional energy sources. **Solar energy is considered as most aboundantly available resource.** To harvest solar energy efficiently some imprtant factors should be considered for impact like Sunlight availabilty,wind, humidity, temperature etc.\n",
        "\n",
        "In this project, I will check Solar Radiation dataset and try to determine impact of various factors. Then I will try to build a predictive Model and predict Solar Radiation values give other factors."
      ]
    },
    {
      "cell_type": "markdown",
      "metadata": {
        "id": "24EcOFrwE--a"
      },
      "source": [
        "#### *Problem Statement*\n",
        "\n",
        "1. How various factors like humidty, sunlight time, wind speed, and pressure affect the solar radiation value?\n",
        "2. Predict solar radiation value to determine if solar energy can harvested?"
      ]
    },
    {
      "cell_type": "markdown",
      "metadata": {
        "id": "yWbGRDi6FImA"
      },
      "source": [
        "#### *Scope*\n",
        "\n",
        "* This project will be developed and delivered as individual project.\n",
        "* This project will delivered in timely manner in 4-5 milestones.\n",
        "* Dataset is assumed to be accurate."
      ]
    },
    {
      "cell_type": "markdown",
      "metadata": {
        "id": "tAxPJvH1FMOU"
      },
      "source": [
        "#### *Document Overview*\n",
        "\n",
        "This document covers the technical approach, data sources, analysis, model selection/development, expected results, project risks, and the execution of all areas listed above.  "
      ]
    },
    {
      "cell_type": "markdown",
      "metadata": {
        "id": "DFq74ji_Fi-7"
      },
      "source": [
        "### **Requirements**"
      ]
    },
    {
      "cell_type": "markdown",
      "metadata": {
        "id": "Tq4zDFFzFmFA"
      },
      "source": [
        "#### Technical Approach\n",
        "\n",
        "The approach being used for this project is the Cross Industry Standard Process for Data Mining more commonly known as CRISP-DM. The main objective of this project is to determine factors affecting Solar Energy and predict Solar Radiation value. Multiple unsupervised machine learning techniques will be explored such as Linear and Random Forest Regression. If the models fail to provide accurate results I will focus on obtaining different/more data and try again. "
      ]
    },
    {
      "cell_type": "markdown",
      "metadata": {
        "id": "OuJ0pLfdFzDu"
      },
      "source": [
        "#### *Data Sources*\n",
        "\n",
        "Dataset is available on Kaggle.\n",
        "\n",
        "> Dataset URL - https://www.kaggle.com/dronio/SolarEnergy?select=SolarPrediction.csv  \n",
        "> License - \n",
        "Database: Open Database, Contents: Database Contents\n",
        "\n",
        "These datasets are meteorological data from the HI-SEAS weather station from four months (September through December 2016) between Mission IV and Mission V.\n",
        "\n",
        "Some features in dataset are\n",
        "\n",
        "> Solar radiation - Soalr Radiation value in watts per meter^2  \n",
        "> Temperature - Temperature value in degrees Fahrenheit  \n",
        "> Humidity - Humidity percent value  \n",
        "> Barometric pressure - Atmospheric pressure Hg  \n",
        "> Wind direction - Wind direction in degrees  \n",
        "> Wind speed - Wind speed in miles per hour  \n",
        "> Sunrise/sunset - Sunrise and Sunset time (Hawaii timezone)  \n",
        "\n"
      ]
    },
    {
      "cell_type": "markdown",
      "metadata": {
        "id": "gvKb3b9cF58o"
      },
      "source": [
        "#### *Requirement Development*\n",
        "\n",
        "The requirements to complete this project include  \n",
        "\n",
        "* The data should be accurate  \n",
        "* Credible\n",
        "* Complete. No need or very less need to remove or auto fill data   \n",
        "\n",
        "Software needed to complete this project \n",
        "* Python\n",
        "* I will use cloud based notebook at https://colab.research.google.com\n",
        " "
      ]
    },
    {
      "cell_type": "markdown",
      "metadata": {
        "id": "pvPX0_eGGR2n"
      },
      "source": [
        "#### *Model Deployment*\n",
        "\n",
        "I googled a bit and noticed that solar energy predictions are always kind of wrong. Hence I will target low i.e. to build a model that has a minimum acceptance accuracy of 50%. Then I will try to improve accuracy upto 65% by iterating more over the model. \n",
        "\n",
        "The Dataset contains continous data and hence will use regression models like Linear Regression, RandomForestRegressor etc.\n",
        "\n",
        "\n",
        "After the model is trained and debugged it will be deployed. The model will be optimized using different techniques such as gradient boosting. Since this is a solo project I will be in charge of all steps along the development and deployment of this model.  "
      ]
    },
    {
      "cell_type": "markdown",
      "metadata": {
        "id": "F_T1P7-yGZQu"
      },
      "source": [
        "#### *Testing & Evaluation*\n",
        "\n",
        "I plan to test model for\n",
        "* Accuracy  \n",
        "* Precision  \n",
        "* F1 Score \n",
        "* Confusion Matrix \n"
      ]
    },
    {
      "cell_type": "markdown",
      "metadata": {
        "id": "E4lDgqeeGeDF"
      },
      "source": [
        "### **Expected Results**\n",
        "\n",
        "Expecting to extract features which have significant impact on Solar Radiation value. Using this data an accurate model will be developed that can predict future value of Solar radiation without false positives. "
      ]
    },
    {
      "cell_type": "markdown",
      "metadata": {
        "id": "ZvDhXa2OGkIt"
      },
      "source": [
        "### **Execution and Management of Project**"
      ]
    },
    {
      "cell_type": "markdown",
      "metadata": {
        "id": "_2kgpaS3Gw_t"
      },
      "source": [
        "#### *Project Plan*\n",
        "\n",
        "This subject is for 12 weeks, so I plan to finish the project in 4 milestones having 3 week per milestones. (It may vary/increase based on review comments I receive)\n",
        "\n",
        "Tentatively I think about task perfomred in each milestone\n",
        "\n",
        "1. Milestone 1 - Identify dataset and decide what intersting things can be predicted from data set.\n",
        "\n",
        "2. Milestone 2 - Data Wranggling where will clean up data, handle outliers, rename any fields, derive any new fields\n",
        "\n",
        "3. Milestone 3 - Feature extraction and apply various Machine Learning models for predictions.\n",
        "\n",
        "4. Milestone 4 - Re-run and fine tune ML models till satisfaction and Summarize the whole findings as a story with relevant reports."
      ]
    },
    {
      "cell_type": "markdown",
      "metadata": {
        "id": "QhgoMhXNG3qH"
      },
      "source": [
        "#### *Project Risk*\n",
        "\n",
        "Overall in world, Solar Energy harvesting predictions have gone wrong causing increased investments or less ROI. I would have preferred to have location data along with weather data for world wide locations. However the dataset is looks to be for single place (Hawai), hence predictions would be limited for that location. \n",
        "\n",
        "Risk is Prediction Model accuracy can be little lower than 80%. \n",
        "\n",
        "For Risk mitigation, I am targeting low accuracy value first. I will try to improve accuracy by re-fitting model and will also try to find if any other relevant data is available to predict Solar Radiation values."
      ]
    },
    {
      "cell_type": "markdown",
      "metadata": {
        "id": "I8mBU8yqTrbS"
      },
      "source": [
        "# MileStone-3 - Data Preparation"
      ]
    },
    {
      "cell_type": "markdown",
      "metadata": {
        "id": "7fxJx-_oUMaf"
      },
      "source": [
        "### Data Loading\n",
        "\n",
        "In this stage, I will load and describe data. Then will work of data preparation to clean data, fill missing values and handle outlier values."
      ]
    },
    {
      "cell_type": "markdown",
      "metadata": {
        "id": "7dQSjfXsbm2d"
      },
      "source": [
        "Dataset file is downloaded from kaggle - https://www.kaggle.com/dronio/SolarEnergy?select=SolarPrediction.csv\n",
        "\n",
        "and stored on Google Drive under folder \"Colab Notebooks/DSC630\""
      ]
    },
    {
      "cell_type": "code",
      "metadata": {
        "id": "f7QD5h6BUOH4",
        "colab": {
          "base_uri": "https://localhost:8080/"
        },
        "outputId": "86da3d9d-c8ce-4015-f372-6732ff87e394"
      },
      "source": [
        "# This code is written for mounting code folder checked out from github on google drive\n",
        "# All assignment code will be maintained inside folder \"DSC630\"\n",
        "\n",
        "from google.colab import drive\n",
        "import sys\n",
        "import os\n",
        "\n",
        "drive.mount('/content/drive')\n",
        "sys.path.append('/content/drive/MyDrive/Colab Notebooks/DSC630')\n",
        "os.chdir('/content/drive/MyDrive/Colab Notebooks/DSC630')"
      ],
      "execution_count": 1,
      "outputs": [
        {
          "output_type": "stream",
          "name": "stdout",
          "text": [
            "Mounted at /content/drive\n"
          ]
        }
      ]
    },
    {
      "cell_type": "code",
      "metadata": {
        "id": "M1sSAZHlakkh"
      },
      "source": [
        "from __future__ import print_function\n",
        "\n",
        "import pandas as pd\n",
        "import numpy as np\n",
        "import matplotlib.pyplot as plt\n",
        "import seaborn as sns\n",
        "%matplotlib inline\n",
        "\n",
        "import warnings\n",
        "warnings.filterwarnings('ignore', category=FutureWarning)\n",
        "\n",
        "pd.set_option(\"display.precision\", 3)\n",
        "# Substitute values used for missing values in dataset\n",
        "missing_values = [\"n/a\", \"na\", \"--\",\"\"]\n",
        "# Load the data in pandas dataframe with missing values set to NaN\n",
        "df = pd.read_csv('SolarPrediction.csv',na_values = missing_values)"
      ],
      "execution_count": 2,
      "outputs": []
    },
    {
      "cell_type": "markdown",
      "metadata": {
        "id": "4l5GbU5scYXq"
      },
      "source": [
        "Checking how may observations and features are present in dataset."
      ]
    },
    {
      "cell_type": "code",
      "metadata": {
        "colab": {
          "base_uri": "https://localhost:8080/"
        },
        "id": "p4CG_bZqcn05",
        "outputId": "eb2a4812-fb14-42f5-c2c6-40be00ccfab3"
      },
      "source": [
        "df.shape"
      ],
      "execution_count": 3,
      "outputs": [
        {
          "output_type": "execute_result",
          "data": {
            "text/plain": [
              "(32686, 11)"
            ]
          },
          "metadata": {},
          "execution_count": 3
        }
      ]
    },
    {
      "cell_type": "markdown",
      "metadata": {
        "id": "omzsdidecrDb"
      },
      "source": [
        "So there are are 32k+ observations and 11 features in dataset.\n",
        "\n",
        "Lets check what features present and what is there data type?"
      ]
    },
    {
      "cell_type": "code",
      "metadata": {
        "colab": {
          "base_uri": "https://localhost:8080/"
        },
        "id": "dx9va3x5dDN7",
        "outputId": "58dd00d5-062a-47a3-b20b-c7f7e979406b"
      },
      "source": [
        "df.info()"
      ],
      "execution_count": 4,
      "outputs": [
        {
          "output_type": "stream",
          "name": "stdout",
          "text": [
            "<class 'pandas.core.frame.DataFrame'>\n",
            "RangeIndex: 32686 entries, 0 to 32685\n",
            "Data columns (total 11 columns):\n",
            " #   Column                  Non-Null Count  Dtype  \n",
            "---  ------                  --------------  -----  \n",
            " 0   UNIXTime                32686 non-null  int64  \n",
            " 1   Data                    32686 non-null  object \n",
            " 2   Time                    32686 non-null  object \n",
            " 3   Radiation               32686 non-null  float64\n",
            " 4   Temperature             32686 non-null  int64  \n",
            " 5   Pressure                32686 non-null  float64\n",
            " 6   Humidity                32686 non-null  int64  \n",
            " 7   WindDirection(Degrees)  32686 non-null  float64\n",
            " 8   Speed                   32686 non-null  float64\n",
            " 9   TimeSunRise             32686 non-null  object \n",
            " 10  TimeSunSet              32686 non-null  object \n",
            "dtypes: float64(4), int64(3), object(4)\n",
            "memory usage: 2.7+ MB\n"
          ]
        }
      ]
    },
    {
      "cell_type": "code",
      "metadata": {
        "colab": {
          "base_uri": "https://localhost:8080/",
          "height": 704
        },
        "id": "0VP78Hq6e-O7",
        "outputId": "a6636c17-206d-4fbf-f7da-a082ec5e7351"
      },
      "source": [
        "# Lets check the sample data\n",
        "df.sample(10)"
      ],
      "execution_count": 5,
      "outputs": [
        {
          "output_type": "execute_result",
          "data": {
            "text/html": [
              "<div>\n",
              "<style scoped>\n",
              "    .dataframe tbody tr th:only-of-type {\n",
              "        vertical-align: middle;\n",
              "    }\n",
              "\n",
              "    .dataframe tbody tr th {\n",
              "        vertical-align: top;\n",
              "    }\n",
              "\n",
              "    .dataframe thead th {\n",
              "        text-align: right;\n",
              "    }\n",
              "</style>\n",
              "<table border=\"1\" class=\"dataframe\">\n",
              "  <thead>\n",
              "    <tr style=\"text-align: right;\">\n",
              "      <th></th>\n",
              "      <th>UNIXTime</th>\n",
              "      <th>Data</th>\n",
              "      <th>Time</th>\n",
              "      <th>Radiation</th>\n",
              "      <th>Temperature</th>\n",
              "      <th>Pressure</th>\n",
              "      <th>Humidity</th>\n",
              "      <th>WindDirection(Degrees)</th>\n",
              "      <th>Speed</th>\n",
              "      <th>TimeSunRise</th>\n",
              "      <th>TimeSunSet</th>\n",
              "    </tr>\n",
              "  </thead>\n",
              "  <tbody>\n",
              "    <tr>\n",
              "      <th>10987</th>\n",
              "      <td>1476920421</td>\n",
              "      <td>10/19/2016 12:00:00 AM</td>\n",
              "      <td>13:40:21</td>\n",
              "      <td>384.02</td>\n",
              "      <td>58</td>\n",
              "      <td>30.42</td>\n",
              "      <td>95</td>\n",
              "      <td>72.49</td>\n",
              "      <td>4.50</td>\n",
              "      <td>06:19:00</td>\n",
              "      <td>17:56:00</td>\n",
              "    </tr>\n",
              "    <tr>\n",
              "      <th>31255</th>\n",
              "      <td>1481240149</td>\n",
              "      <td>12/8/2016 12:00:00 AM</td>\n",
              "      <td>13:35:49</td>\n",
              "      <td>285.68</td>\n",
              "      <td>58</td>\n",
              "      <td>30.35</td>\n",
              "      <td>89</td>\n",
              "      <td>108.72</td>\n",
              "      <td>3.37</td>\n",
              "      <td>06:45:00</td>\n",
              "      <td>17:44:00</td>\n",
              "    </tr>\n",
              "    <tr>\n",
              "      <th>4448</th>\n",
              "      <td>1473788107</td>\n",
              "      <td>9/13/2016 12:00:00 AM</td>\n",
              "      <td>07:35:07</td>\n",
              "      <td>167.62</td>\n",
              "      <td>53</td>\n",
              "      <td>30.44</td>\n",
              "      <td>76</td>\n",
              "      <td>165.92</td>\n",
              "      <td>3.37</td>\n",
              "      <td>06:10:00</td>\n",
              "      <td>18:27:00</td>\n",
              "    </tr>\n",
              "    <tr>\n",
              "      <th>5147</th>\n",
              "      <td>1473573920</td>\n",
              "      <td>9/10/2016 12:00:00 AM</td>\n",
              "      <td>20:05:20</td>\n",
              "      <td>3.32</td>\n",
              "      <td>50</td>\n",
              "      <td>30.42</td>\n",
              "      <td>90</td>\n",
              "      <td>145.99</td>\n",
              "      <td>1.12</td>\n",
              "      <td>06:09:00</td>\n",
              "      <td>18:30:00</td>\n",
              "    </tr>\n",
              "    <tr>\n",
              "      <th>10251</th>\n",
              "      <td>1477141517</td>\n",
              "      <td>10/22/2016 12:00:00 AM</td>\n",
              "      <td>03:05:17</td>\n",
              "      <td>1.21</td>\n",
              "      <td>48</td>\n",
              "      <td>30.40</td>\n",
              "      <td>102</td>\n",
              "      <td>172.03</td>\n",
              "      <td>4.50</td>\n",
              "      <td>06:20:00</td>\n",
              "      <td>17:54:00</td>\n",
              "    </tr>\n",
              "    <tr>\n",
              "      <th>92</th>\n",
              "      <td>1475201723</td>\n",
              "      <td>9/29/2016 12:00:00 AM</td>\n",
              "      <td>16:15:23</td>\n",
              "      <td>511.38</td>\n",
              "      <td>58</td>\n",
              "      <td>30.43</td>\n",
              "      <td>52</td>\n",
              "      <td>69.08</td>\n",
              "      <td>3.37</td>\n",
              "      <td>06:13:00</td>\n",
              "      <td>18:13:00</td>\n",
              "    </tr>\n",
              "    <tr>\n",
              "      <th>3242</th>\n",
              "      <td>1474231805</td>\n",
              "      <td>9/18/2016 12:00:00 AM</td>\n",
              "      <td>10:50:05</td>\n",
              "      <td>960.21</td>\n",
              "      <td>62</td>\n",
              "      <td>30.48</td>\n",
              "      <td>60</td>\n",
              "      <td>43.70</td>\n",
              "      <td>6.75</td>\n",
              "      <td>06:11:00</td>\n",
              "      <td>18:23:00</td>\n",
              "    </tr>\n",
              "    <tr>\n",
              "      <th>26703</th>\n",
              "      <td>1482609042</td>\n",
              "      <td>12/24/2016 12:00:00 AM</td>\n",
              "      <td>09:50:42</td>\n",
              "      <td>637.15</td>\n",
              "      <td>54</td>\n",
              "      <td>30.48</td>\n",
              "      <td>80</td>\n",
              "      <td>111.52</td>\n",
              "      <td>6.75</td>\n",
              "      <td>06:54:00</td>\n",
              "      <td>17:50:00</td>\n",
              "    </tr>\n",
              "    <tr>\n",
              "      <th>31361</th>\n",
              "      <td>1480983952</td>\n",
              "      <td>12/5/2016 12:00:00 AM</td>\n",
              "      <td>14:25:52</td>\n",
              "      <td>62.24</td>\n",
              "      <td>45</td>\n",
              "      <td>30.33</td>\n",
              "      <td>93</td>\n",
              "      <td>305.00</td>\n",
              "      <td>6.75</td>\n",
              "      <td>06:44:00</td>\n",
              "      <td>17:43:00</td>\n",
              "    </tr>\n",
              "    <tr>\n",
              "      <th>18637</th>\n",
              "      <td>1479761703</td>\n",
              "      <td>11/21/2016 12:00:00 AM</td>\n",
              "      <td>10:55:03</td>\n",
              "      <td>922.11</td>\n",
              "      <td>58</td>\n",
              "      <td>30.44</td>\n",
              "      <td>89</td>\n",
              "      <td>0.12</td>\n",
              "      <td>4.50</td>\n",
              "      <td>06:35:00</td>\n",
              "      <td>17:42:00</td>\n",
              "    </tr>\n",
              "  </tbody>\n",
              "</table>\n",
              "</div>"
            ],
            "text/plain": [
              "         UNIXTime                    Data  ... TimeSunRise  TimeSunSet\n",
              "10987  1476920421  10/19/2016 12:00:00 AM  ...    06:19:00    17:56:00\n",
              "31255  1481240149   12/8/2016 12:00:00 AM  ...    06:45:00    17:44:00\n",
              "4448   1473788107   9/13/2016 12:00:00 AM  ...    06:10:00    18:27:00\n",
              "5147   1473573920   9/10/2016 12:00:00 AM  ...    06:09:00    18:30:00\n",
              "10251  1477141517  10/22/2016 12:00:00 AM  ...    06:20:00    17:54:00\n",
              "92     1475201723   9/29/2016 12:00:00 AM  ...    06:13:00    18:13:00\n",
              "3242   1474231805   9/18/2016 12:00:00 AM  ...    06:11:00    18:23:00\n",
              "26703  1482609042  12/24/2016 12:00:00 AM  ...    06:54:00    17:50:00\n",
              "31361  1480983952   12/5/2016 12:00:00 AM  ...    06:44:00    17:43:00\n",
              "18637  1479761703  11/21/2016 12:00:00 AM  ...    06:35:00    17:42:00\n",
              "\n",
              "[10 rows x 11 columns]"
            ]
          },
          "metadata": {},
          "execution_count": 5
        }
      ]
    },
    {
      "cell_type": "markdown",
      "metadata": {
        "id": "UGCiMONriowM"
      },
      "source": [
        "There appears to be couple of confusing fields i.e Unixtime, Data and Time. Not sure what each fields stands for.\n",
        "\n",
        "To check this let me convert Unixtime field to readable format for first displayed record"
      ]
    },
    {
      "cell_type": "code",
      "metadata": {
        "colab": {
          "base_uri": "https://localhost:8080/"
        },
        "id": "uYhAvxuphD7q",
        "outputId": "933971b9-c9a1-423c-d899-9762cb96a6f1"
      },
      "source": [
        "import datetime\n",
        "import pytz\n",
        "# Unixtime is for Hawaii timezone so passing timezone as 'US/Hawaii'\n",
        "datetime_time = datetime.datetime.fromtimestamp(1479760502,tz= pytz.timezone('US/Hawaii'))\n",
        "datetime_time"
      ],
      "execution_count": 6,
      "outputs": [
        {
          "output_type": "execute_result",
          "data": {
            "text/plain": [
              "datetime.datetime(2016, 11, 21, 10, 35, 2, tzinfo=<DstTzInfo 'US/Hawaii' HST-1 day, 14:00:00 STD>)"
            ]
          },
          "metadata": {},
          "execution_count": 6
        }
      ]
    },
    {
      "cell_type": "markdown",
      "metadata": {
        "id": "zTuUKZwyj-oN"
      },
      "source": [
        "Now we got it clarified\n",
        "\n",
        "Unixtime - Time when radiation was measured in [epoach  time](https://en.wikipedia.org/wiki/Unix_time)  format  \n",
        "Data - Time when measured data for that day is consolidated and recorded  \n",
        "Time - Time in hh:mm:ss format when solar radiation was measured  "
      ]
    },
    {
      "cell_type": "markdown",
      "metadata": {
        "id": "FRCrYWt1dTPZ"
      },
      "source": [
        "### Information about features\n",
        "\n",
        "> **Unixtime** - Time when radiation was measured in epoach time  \n",
        "> **Data** - Time when measured data for that day is consolidated and recorded  \n",
        "> **Time** - Time in hh:mm:ss format when solar radiation was measured  \n",
        "> **Solar radiation** - Solar Radiation value in watts per meter^2  \n",
        "> **Temperature** - Temperature value in degrees Fahrenheit  \n",
        "> **Barometric pressure** - Atmospheric pressure Hg   \n",
        "> **Humidity** - Humidity percent value  \n",
        "> **Wind direction** - Wind direction in degrees  \n",
        "> **Wind speed** - Wind speed in miles per hour  \n",
        "> **Sunrise** - Sunrise time (Hawaii timezone)  \n",
        "> **Sunset** - Sunset time (Hawaii timezone)\n"
      ]
    },
    {
      "cell_type": "markdown",
      "metadata": {
        "id": "RGJtVCTAmXbs"
      },
      "source": [
        "### Missing Data\n",
        "\n",
        "Now lets check if there is any missing data"
      ]
    },
    {
      "cell_type": "code",
      "metadata": {
        "colab": {
          "base_uri": "https://localhost:8080/"
        },
        "id": "yDOV3Nl2mitc",
        "outputId": "45ab35d0-9f43-4d92-dc0e-4fad8ed87cf2"
      },
      "source": [
        "df.isnull().sum()"
      ],
      "execution_count": 7,
      "outputs": [
        {
          "output_type": "execute_result",
          "data": {
            "text/plain": [
              "UNIXTime                  0\n",
              "Data                      0\n",
              "Time                      0\n",
              "Radiation                 0\n",
              "Temperature               0\n",
              "Pressure                  0\n",
              "Humidity                  0\n",
              "WindDirection(Degrees)    0\n",
              "Speed                     0\n",
              "TimeSunRise               0\n",
              "TimeSunSet                0\n",
              "dtype: int64"
            ]
          },
          "metadata": {},
          "execution_count": 7
        }
      ]
    },
    {
      "cell_type": "markdown",
      "metadata": {
        "id": "oypdNBUjndmC"
      },
      "source": [
        "Dataset is looking to be very clean and there are no missing records."
      ]
    },
    {
      "cell_type": "markdown",
      "metadata": {
        "id": "QyZbvA-snnDS"
      },
      "source": [
        "### Data Description and Distribution\n",
        "\n",
        "Lets check the Summary of Data for continous variables"
      ]
    },
    {
      "cell_type": "code",
      "metadata": {
        "colab": {
          "base_uri": "https://localhost:8080/",
          "height": 293
        },
        "id": "AwOt4bn6oAZZ",
        "outputId": "1331fdbb-26cd-4e67-f38b-d5d308d6cc6f"
      },
      "source": [
        "df.describe()"
      ],
      "execution_count": 8,
      "outputs": [
        {
          "output_type": "execute_result",
          "data": {
            "text/html": [
              "<div>\n",
              "<style scoped>\n",
              "    .dataframe tbody tr th:only-of-type {\n",
              "        vertical-align: middle;\n",
              "    }\n",
              "\n",
              "    .dataframe tbody tr th {\n",
              "        vertical-align: top;\n",
              "    }\n",
              "\n",
              "    .dataframe thead th {\n",
              "        text-align: right;\n",
              "    }\n",
              "</style>\n",
              "<table border=\"1\" class=\"dataframe\">\n",
              "  <thead>\n",
              "    <tr style=\"text-align: right;\">\n",
              "      <th></th>\n",
              "      <th>UNIXTime</th>\n",
              "      <th>Radiation</th>\n",
              "      <th>Temperature</th>\n",
              "      <th>Pressure</th>\n",
              "      <th>Humidity</th>\n",
              "      <th>WindDirection(Degrees)</th>\n",
              "      <th>Speed</th>\n",
              "    </tr>\n",
              "  </thead>\n",
              "  <tbody>\n",
              "    <tr>\n",
              "      <th>count</th>\n",
              "      <td>3.27e+04</td>\n",
              "      <td>32686.00</td>\n",
              "      <td>32686.0</td>\n",
              "      <td>32686.00</td>\n",
              "      <td>32686.00</td>\n",
              "      <td>32686.00</td>\n",
              "      <td>32686.00</td>\n",
              "    </tr>\n",
              "    <tr>\n",
              "      <th>mean</th>\n",
              "      <td>1.48e+09</td>\n",
              "      <td>207.12</td>\n",
              "      <td>51.1</td>\n",
              "      <td>30.42</td>\n",
              "      <td>75.02</td>\n",
              "      <td>143.49</td>\n",
              "      <td>6.24</td>\n",
              "    </tr>\n",
              "    <tr>\n",
              "      <th>std</th>\n",
              "      <td>3.01e+06</td>\n",
              "      <td>315.92</td>\n",
              "      <td>6.2</td>\n",
              "      <td>0.05</td>\n",
              "      <td>25.99</td>\n",
              "      <td>83.17</td>\n",
              "      <td>3.49</td>\n",
              "    </tr>\n",
              "    <tr>\n",
              "      <th>min</th>\n",
              "      <td>1.47e+09</td>\n",
              "      <td>1.11</td>\n",
              "      <td>34.0</td>\n",
              "      <td>30.19</td>\n",
              "      <td>8.00</td>\n",
              "      <td>0.09</td>\n",
              "      <td>0.00</td>\n",
              "    </tr>\n",
              "    <tr>\n",
              "      <th>25%</th>\n",
              "      <td>1.48e+09</td>\n",
              "      <td>1.23</td>\n",
              "      <td>46.0</td>\n",
              "      <td>30.40</td>\n",
              "      <td>56.00</td>\n",
              "      <td>82.23</td>\n",
              "      <td>3.37</td>\n",
              "    </tr>\n",
              "    <tr>\n",
              "      <th>50%</th>\n",
              "      <td>1.48e+09</td>\n",
              "      <td>2.66</td>\n",
              "      <td>50.0</td>\n",
              "      <td>30.43</td>\n",
              "      <td>85.00</td>\n",
              "      <td>147.70</td>\n",
              "      <td>5.62</td>\n",
              "    </tr>\n",
              "    <tr>\n",
              "      <th>75%</th>\n",
              "      <td>1.48e+09</td>\n",
              "      <td>354.24</td>\n",
              "      <td>55.0</td>\n",
              "      <td>30.46</td>\n",
              "      <td>97.00</td>\n",
              "      <td>179.31</td>\n",
              "      <td>7.87</td>\n",
              "    </tr>\n",
              "    <tr>\n",
              "      <th>max</th>\n",
              "      <td>1.48e+09</td>\n",
              "      <td>1601.26</td>\n",
              "      <td>71.0</td>\n",
              "      <td>30.56</td>\n",
              "      <td>103.00</td>\n",
              "      <td>359.95</td>\n",
              "      <td>40.50</td>\n",
              "    </tr>\n",
              "  </tbody>\n",
              "</table>\n",
              "</div>"
            ],
            "text/plain": [
              "       UNIXTime  Radiation  ...  WindDirection(Degrees)     Speed\n",
              "count  3.27e+04   32686.00  ...                32686.00  32686.00\n",
              "mean   1.48e+09     207.12  ...                  143.49      6.24\n",
              "std    3.01e+06     315.92  ...                   83.17      3.49\n",
              "min    1.47e+09       1.11  ...                    0.09      0.00\n",
              "25%    1.48e+09       1.23  ...                   82.23      3.37\n",
              "50%    1.48e+09       2.66  ...                  147.70      5.62\n",
              "75%    1.48e+09     354.24  ...                  179.31      7.87\n",
              "max    1.48e+09    1601.26  ...                  359.95     40.50\n",
              "\n",
              "[8 rows x 7 columns]"
            ]
          },
          "metadata": {},
          "execution_count": 8
        }
      ]
    },
    {
      "cell_type": "markdown",
      "metadata": {
        "id": "IjU8U8tBp0fd"
      },
      "source": [
        "Now lets check the Summary of nominal variables"
      ]
    },
    {
      "cell_type": "code",
      "metadata": {
        "colab": {
          "base_uri": "https://localhost:8080/",
          "height": 170
        },
        "id": "TBMiY4wJpX6K",
        "outputId": "16a82001-7981-4521-ecd8-10c5c40d00ce"
      },
      "source": [
        "df.describe(include=['O'])"
      ],
      "execution_count": 9,
      "outputs": [
        {
          "output_type": "execute_result",
          "data": {
            "text/html": [
              "<div>\n",
              "<style scoped>\n",
              "    .dataframe tbody tr th:only-of-type {\n",
              "        vertical-align: middle;\n",
              "    }\n",
              "\n",
              "    .dataframe tbody tr th {\n",
              "        vertical-align: top;\n",
              "    }\n",
              "\n",
              "    .dataframe thead th {\n",
              "        text-align: right;\n",
              "    }\n",
              "</style>\n",
              "<table border=\"1\" class=\"dataframe\">\n",
              "  <thead>\n",
              "    <tr style=\"text-align: right;\">\n",
              "      <th></th>\n",
              "      <th>Data</th>\n",
              "      <th>Time</th>\n",
              "      <th>TimeSunRise</th>\n",
              "      <th>TimeSunSet</th>\n",
              "    </tr>\n",
              "  </thead>\n",
              "  <tbody>\n",
              "    <tr>\n",
              "      <th>count</th>\n",
              "      <td>32686</td>\n",
              "      <td>32686</td>\n",
              "      <td>32686</td>\n",
              "      <td>32686</td>\n",
              "    </tr>\n",
              "    <tr>\n",
              "      <th>unique</th>\n",
              "      <td>118</td>\n",
              "      <td>8299</td>\n",
              "      <td>51</td>\n",
              "      <td>56</td>\n",
              "    </tr>\n",
              "    <tr>\n",
              "      <th>top</th>\n",
              "      <td>11/26/2016 12:00:00 AM</td>\n",
              "      <td>16:20:18</td>\n",
              "      <td>06:11:00</td>\n",
              "      <td>17:42:00</td>\n",
              "    </tr>\n",
              "    <tr>\n",
              "      <th>freq</th>\n",
              "      <td>288</td>\n",
              "      <td>24</td>\n",
              "      <td>1399</td>\n",
              "      <td>3682</td>\n",
              "    </tr>\n",
              "  </tbody>\n",
              "</table>\n",
              "</div>"
            ],
            "text/plain": [
              "                          Data      Time TimeSunRise TimeSunSet\n",
              "count                    32686     32686       32686      32686\n",
              "unique                     118      8299          51         56\n",
              "top     11/26/2016 12:00:00 AM  16:20:18    06:11:00   17:42:00\n",
              "freq                       288        24        1399       3682"
            ]
          },
          "metadata": {},
          "execution_count": 9
        }
      ]
    },
    {
      "cell_type": "markdown",
      "metadata": {
        "id": "VbE6FJ9Wso6V"
      },
      "source": [
        "Name of the field 'WindDirection(Degrees)' is too long. Let me rename the column"
      ]
    },
    {
      "cell_type": "code",
      "metadata": {
        "colab": {
          "base_uri": "https://localhost:8080/"
        },
        "id": "XD0gPS7ws6o5",
        "outputId": "83010a2e-2851-42fd-afc8-537936594b17"
      },
      "source": [
        "df = df.rename(columns={'WindDirection(Degrees)':'Direction'})\n",
        "df.info()"
      ],
      "execution_count": 10,
      "outputs": [
        {
          "output_type": "stream",
          "name": "stdout",
          "text": [
            "<class 'pandas.core.frame.DataFrame'>\n",
            "RangeIndex: 32686 entries, 0 to 32685\n",
            "Data columns (total 11 columns):\n",
            " #   Column       Non-Null Count  Dtype  \n",
            "---  ------       --------------  -----  \n",
            " 0   UNIXTime     32686 non-null  int64  \n",
            " 1   Data         32686 non-null  object \n",
            " 2   Time         32686 non-null  object \n",
            " 3   Radiation    32686 non-null  float64\n",
            " 4   Temperature  32686 non-null  int64  \n",
            " 5   Pressure     32686 non-null  float64\n",
            " 6   Humidity     32686 non-null  int64  \n",
            " 7   Direction    32686 non-null  float64\n",
            " 8   Speed        32686 non-null  float64\n",
            " 9   TimeSunRise  32686 non-null  object \n",
            " 10  TimeSunSet   32686 non-null  object \n",
            "dtypes: float64(4), int64(3), object(4)\n",
            "memory usage: 2.7+ MB\n"
          ]
        }
      ]
    },
    {
      "cell_type": "code",
      "metadata": {
        "colab": {
          "base_uri": "https://localhost:8080/",
          "height": 400
        },
        "id": "gwCVc7Ssq2qN",
        "outputId": "80306ca9-e69e-48ab-949b-3eb33b5090ec"
      },
      "source": [
        "# set up the figure size\n",
        "plt.rcParams['figure.figsize'] = (20, 10)\n",
        "\n",
        "# make subplots\n",
        "fig, axes = plt.subplots(nrows = 2, ncols = 3)\n",
        "\n",
        "# Specify the features of interest\n",
        "num_features = ['Radiation','Temperature','Pressure','Humidity','Direction','Speed']\n",
        "\n",
        "xaxes = num_features\n",
        "yaxes = ['Counts', 'Counts', 'Counts', 'Counts','Counts','Counts']\n",
        "\n",
        "# draw histograms\n",
        "axes = axes.ravel()\n",
        "\n",
        "for idx, ax in enumerate(axes):\n",
        "    ax.hist(df[num_features[idx]].dropna(), bins=40)\n",
        "    ax.set_xlabel(xaxes[idx], fontsize=20)\n",
        "    ax.set_ylabel(yaxes[idx], fontsize=20)\n",
        "    ax.tick_params(axis='both', labelsize=15)"
      ],
      "execution_count": 11,
      "outputs": [
        {
          "output_type": "display_data",
          "data": {
            "image/png": "[encoded data removed]",
            "text/plain": [
              "<Figure size 1440x720 with 6 Axes>"
            ]
          },
          "metadata": {
            "needs_background": "light"
          }
        }
      ]
    },
    {
      "cell_type": "markdown",
      "metadata": {
        "id": "Y3CqqfSfox7C"
      },
      "source": [
        "> **Solar Radiation** - observations are concentrated within small range of values. They are left (negatively) skewed skewed. It has high standard deviation value.  \n",
        "> **Temperature** -  observations are also left(negatively) skewed. It has comparatively small standard deviation value.  \n",
        "> **Pressure** - Pressure value observations seems to follow normal distribution. Standard deviation value is also very minimal.  \n",
        "> **Humidity** - Humidity values are distributed with right (positive) skew with kind of high standard deviation value  \n",
        "> **Wind Direction** - Wind direction values seems to have slight left (negative) skew in its distribution with medium standard devaition \n",
        "> **Wind Speed** - Wind speed values distribution seems to have left (negative) skew with low standard deviation. \n"
      ]
    },
    {
      "cell_type": "markdown",
      "metadata": {
        "id": "HEzs4QcbzueW"
      },
      "source": [
        "### Outlier Detection\n",
        "\n",
        "Now lets check the outliers using box plots"
      ]
    },
    {
      "cell_type": "code",
      "metadata": {
        "colab": {
          "base_uri": "https://localhost:8080/",
          "height": 483
        },
        "id": "itSMOYaP06AU",
        "outputId": "fcbd3910-80e8-4641-9fe8-be78be1754ec"
      },
      "source": [
        "fig, axs = plt.subplots(nrows=2, ncols=3, figsize=(8, 8))\n",
        "df.boxplot(column=['Radiation'],ax=axs[0,0])\n",
        "df.boxplot(column=['Temperature'],ax=axs[0,1])\n",
        "df.boxplot(column=['Pressure'],ax=axs[0,2])\n",
        "df.boxplot(column=['Humidity'],ax=axs[1,0])\n",
        "df.boxplot(column=['Direction'],ax=axs[1,1])\n",
        "df.boxplot(column=['Speed'],ax=axs[1,2])\n",
        "plt.show()"
      ],
      "execution_count": 12,
      "outputs": [
        {
          "output_type": "display_data",
          "data": {
            "image/png": "[encoded data removed]",
            "text/plain": [
              "<Figure size 576x576 with 6 Axes>"
            ]
          },
          "metadata": {
            "needs_background": "light"
          }
        }
      ]
    },
    {
      "cell_type": "markdown",
      "metadata": {
        "id": "YwC4ChAP2McP"
      },
      "source": [
        "So there are lot of outliers.\n",
        "\n",
        "Now lets see feature correlation to check which all factors affect more on Solar Radiation."
      ]
    },
    {
      "cell_type": "code",
      "metadata": {
        "colab": {
          "base_uri": "https://localhost:8080/",
          "height": 511
        },
        "id": "n-gJz026Aotx",
        "outputId": "bd3659c3-f3e6-4564-e22d-43790e6f2843"
      },
      "source": [
        "fig = plt.figure()\n",
        "fig.suptitle('Feature Correlation', fontsize=18)\n",
        "sns.heatmap(df.corr(), annot=True, cmap='RdBu', center=0)"
      ],
      "execution_count": 13,
      "outputs": [
        {
          "output_type": "execute_result",
          "data": {
            "text/plain": [
              "<matplotlib.axes._subplots.AxesSubplot at 0x7f860e2e78d0>"
            ]
          },
          "metadata": {},
          "execution_count": 13
        },
        {
          "output_type": "display_data",
          "data": {
            "image/png": "[encoded data removed]",
            "text/plain": [
              "<Figure size 1440x720 with 2 Axes>"
            ]
          },
          "metadata": {
            "needs_background": "light"
          }
        }
      ]
    },
    {
      "cell_type": "markdown",
      "metadata": {
        "id": "gaOLgZgFAz75"
      },
      "source": [
        "We can see Temperature has strong positive correlation to Solar Radiation. "
      ]
    },
    {
      "cell_type": "markdown",
      "metadata": {
        "id": "NtdYpCurTw5W"
      },
      "source": [
        "# MileStone-4 - Feature Extraction and Model Training"
      ]
    },
    {
      "cell_type": "markdown",
      "metadata": {
        "id": "xGG_yrgmURy9"
      },
      "source": [
        "### Feature Extraction\n",
        "\n",
        "The dataset logged date and and timestamp field when measurement was carried out. However it is obvious that there is no solar radiation during night time and radiation varies with season. e.g. During Summer solar radiation is high and during winters its low\n",
        "\n",
        "Hence lets derive additional fields from timestamp like month of year, day of year, hour of day, length of the day. This derived information will help with finding more insights and model building. "
      ]
    },
    {
      "cell_type": "code",
      "metadata": {
        "colab": {
          "base_uri": "https://localhost:8080/",
          "height": 499
        },
        "id": "C2usLObXM2BN",
        "outputId": "6e935707-8233-4e34-ecd0-1467491be10e"
      },
      "source": [
        "hawaii = pytz.timezone('US/Hawaii')\n",
        "df.index =  pd.to_datetime(df['UNIXTime'], unit='s')\n",
        "df.index = df.index.tz_localize(pytz.utc).tz_convert(hawaii)\n",
        "df['MonthOfYear'] = df.index.strftime('%m').astype(int)\n",
        "df['DayOfYear'] = df.index.strftime('%j').astype(int)\n",
        "df['WeekOfYear'] = df.index.strftime('%U').astype(int)\n",
        "df['TimeOfDay(h)'] = df.index.hour\n",
        "df['TimeOfDay(m)'] = df.index.hour*60 + df.index.minute\n",
        "df['TimeOfDay(s)'] = df.index.hour*60*60 + df.index.minute*60 + df.index.second\n",
        "df['TimeSunRise'] = pd.to_datetime(df['TimeSunRise'], format='%H:%M:%S')\n",
        "df['TimeSunSet'] = pd.to_datetime(df['TimeSunSet'], format='%H:%M:%S')\n",
        "df['DayLength(s)'] = df['TimeSunSet'].dt.hour*60*60 \\\n",
        "                           + df['TimeSunSet'].dt.minute*60 \\\n",
        "                           + df['TimeSunSet'].dt.second \\\n",
        "                           - df['TimeSunRise'].dt.hour*60*60 \\\n",
        "                           - df['TimeSunRise'].dt.minute*60 \\\n",
        "                           - df['TimeSunRise'].dt.second\n",
        "df.drop(['Data','Time','TimeSunRise','TimeSunSet'], inplace=True, axis=1)\n",
        "df.head()"
      ],
      "execution_count": 14,
      "outputs": [
        {
          "output_type": "execute_result",
          "data": {
            "text/html": [
              "<div>\n",
              "<style scoped>\n",
              "    .dataframe tbody tr th:only-of-type {\n",
              "        vertical-align: middle;\n",
              "    }\n",
              "\n",
              "    .dataframe tbody tr th {\n",
              "        vertical-align: top;\n",
              "    }\n",
              "\n",
              "    .dataframe thead th {\n",
              "        text-align: right;\n",
              "    }\n",
              "</style>\n",
              "<table border=\"1\" class=\"dataframe\">\n",
              "  <thead>\n",
              "    <tr style=\"text-align: right;\">\n",
              "      <th></th>\n",
              "      <th>UNIXTime</th>\n",
              "      <th>Radiation</th>\n",
              "      <th>Temperature</th>\n",
              "      <th>Pressure</th>\n",
              "      <th>Humidity</th>\n",
              "      <th>Direction</th>\n",
              "      <th>Speed</th>\n",
              "      <th>MonthOfYear</th>\n",
              "      <th>DayOfYear</th>\n",
              "      <th>WeekOfYear</th>\n",
              "      <th>TimeOfDay(h)</th>\n",
              "      <th>TimeOfDay(m)</th>\n",
              "      <th>TimeOfDay(s)</th>\n",
              "      <th>DayLength(s)</th>\n",
              "    </tr>\n",
              "    <tr>\n",
              "      <th>UNIXTime</th>\n",
              "      <th></th>\n",
              "      <th></th>\n",
              "      <th></th>\n",
              "      <th></th>\n",
              "      <th></th>\n",
              "      <th></th>\n",
              "      <th></th>\n",
              "      <th></th>\n",
              "      <th></th>\n",
              "      <th></th>\n",
              "      <th></th>\n",
              "      <th></th>\n",
              "      <th></th>\n",
              "      <th></th>\n",
              "    </tr>\n",
              "  </thead>\n",
              "  <tbody>\n",
              "    <tr>\n",
              "      <th>2016-09-29 23:55:26-10:00</th>\n",
              "      <td>1475229326</td>\n",
              "      <td>1.21</td>\n",
              "      <td>48</td>\n",
              "      <td>30.46</td>\n",
              "      <td>59</td>\n",
              "      <td>177.39</td>\n",
              "      <td>5.62</td>\n",
              "      <td>9</td>\n",
              "      <td>273</td>\n",
              "      <td>39</td>\n",
              "      <td>23</td>\n",
              "      <td>1435</td>\n",
              "      <td>86126</td>\n",
              "      <td>43200</td>\n",
              "    </tr>\n",
              "    <tr>\n",
              "      <th>2016-09-29 23:50:23-10:00</th>\n",
              "      <td>1475229023</td>\n",
              "      <td>1.21</td>\n",
              "      <td>48</td>\n",
              "      <td>30.46</td>\n",
              "      <td>58</td>\n",
              "      <td>176.78</td>\n",
              "      <td>3.37</td>\n",
              "      <td>9</td>\n",
              "      <td>273</td>\n",
              "      <td>39</td>\n",
              "      <td>23</td>\n",
              "      <td>1430</td>\n",
              "      <td>85823</td>\n",
              "      <td>43200</td>\n",
              "    </tr>\n",
              "    <tr>\n",
              "      <th>2016-09-29 23:45:26-10:00</th>\n",
              "      <td>1475228726</td>\n",
              "      <td>1.23</td>\n",
              "      <td>48</td>\n",
              "      <td>30.46</td>\n",
              "      <td>57</td>\n",
              "      <td>158.75</td>\n",
              "      <td>3.37</td>\n",
              "      <td>9</td>\n",
              "      <td>273</td>\n",
              "      <td>39</td>\n",
              "      <td>23</td>\n",
              "      <td>1425</td>\n",
              "      <td>85526</td>\n",
              "      <td>43200</td>\n",
              "    </tr>\n",
              "    <tr>\n",
              "      <th>2016-09-29 23:40:21-10:00</th>\n",
              "      <td>1475228421</td>\n",
              "      <td>1.21</td>\n",
              "      <td>48</td>\n",
              "      <td>30.46</td>\n",
              "      <td>60</td>\n",
              "      <td>137.71</td>\n",
              "      <td>3.37</td>\n",
              "      <td>9</td>\n",
              "      <td>273</td>\n",
              "      <td>39</td>\n",
              "      <td>23</td>\n",
              "      <td>1420</td>\n",
              "      <td>85221</td>\n",
              "      <td>43200</td>\n",
              "    </tr>\n",
              "    <tr>\n",
              "      <th>2016-09-29 23:35:24-10:00</th>\n",
              "      <td>1475228124</td>\n",
              "      <td>1.17</td>\n",
              "      <td>48</td>\n",
              "      <td>30.46</td>\n",
              "      <td>62</td>\n",
              "      <td>104.95</td>\n",
              "      <td>5.62</td>\n",
              "      <td>9</td>\n",
              "      <td>273</td>\n",
              "      <td>39</td>\n",
              "      <td>23</td>\n",
              "      <td>1415</td>\n",
              "      <td>84924</td>\n",
              "      <td>43200</td>\n",
              "    </tr>\n",
              "  </tbody>\n",
              "</table>\n",
              "</div>"
            ],
            "text/plain": [
              "                             UNIXTime  Radiation  ...  TimeOfDay(s)  DayLength(s)\n",
              "UNIXTime                                          ...                            \n",
              "2016-09-29 23:55:26-10:00  1475229326       1.21  ...         86126         43200\n",
              "2016-09-29 23:50:23-10:00  1475229023       1.21  ...         85823         43200\n",
              "2016-09-29 23:45:26-10:00  1475228726       1.23  ...         85526         43200\n",
              "2016-09-29 23:40:21-10:00  1475228421       1.21  ...         85221         43200\n",
              "2016-09-29 23:35:24-10:00  1475228124       1.17  ...         84924         43200\n",
              "\n",
              "[5 rows x 14 columns]"
            ]
          },
          "metadata": {},
          "execution_count": 14
        }
      ]
    },
    {
      "cell_type": "markdown",
      "metadata": {
        "id": "hlZhcGgnwTcG"
      },
      "source": [
        "Now lets plot radiation, temperature, humidity against time of the day and month of the year."
      ]
    },
    {
      "cell_type": "code",
      "metadata": {
        "colab": {
          "base_uri": "https://localhost:8080/",
          "height": 1000
        },
        "id": "aZCkyzHbQ1MD",
        "outputId": "77486593-10e2-4d92-eeed-e748537b5d86"
      },
      "source": [
        "fig, ax = plt.subplots(4, 2, figsize=(20, 20))\n",
        "for j, timeunit in enumerate(['MonthOfYear', 'TimeOfDay(h)']):\n",
        "    grouped_data=df.groupby(timeunit).mean().reset_index()\n",
        "    palette = sns.color_palette(\"YlOrRd\", len(grouped_data))\n",
        "    for i, col in enumerate(['Radiation', 'Temperature', 'Pressure', 'Humidity']):\n",
        "        sns.barplot(data=grouped_data, x=timeunit, y=col, ax=ax[i][j], palette=palette)\n",
        "        ax[i][j].set_title(f'Mean {col} by {timeunit}', fontsize=12)\n",
        "        range_values = grouped_data[col].max() - grouped_data[col].min()\n",
        "        ax[i][j].set_ylim(max(grouped_data[col].min() - range_values, 0), grouped_data[col].max() + 0.25*range_values)"
      ],
      "execution_count": 15,
      "outputs": [
        {
          "output_type": "display_data",
          "data": {
            "image/png": "[encoded data removed]",
            "text/plain": [
              "<Figure size 1440x1440 with 8 Axes>"
            ]
          },
          "metadata": {
            "needs_background": "light"
          }
        }
      ]
    },
    {
      "cell_type": "markdown",
      "metadata": {
        "id": "kVJ7KYx3yPlV"
      },
      "source": [
        "* Solar radiation is positively correlated with temperature  \n",
        "* Atmospheric Pressure and Humidity are correlated with each other\n",
        "* Temperature plots are as expected bell shaped peaked at 12 noon\n",
        "* Slight decrease in temperature and solar radiation as winter arrives\n",
        "\n",
        "Now lets split the dataset into training dataset (80%) and test dataset (20%)."
      ]
    },
    {
      "cell_type": "code",
      "metadata": {
        "id": "pP5mgrU4SNgY"
      },
      "source": [
        "# Splitting dataset into Training dataset and Test dataset\n",
        "X = df[['Temperature', 'Pressure', 'Humidity', 'Direction', 'Speed', 'DayOfYear', 'TimeOfDay(s)']]\n",
        "y = df['Radiation']\n",
        "\n",
        "from sklearn.model_selection import train_test_split\n",
        "X_train, X_test, y_train, y_test = train_test_split(X, y, test_size = 0.2, random_state = 1)"
      ],
      "execution_count": 16,
      "outputs": []
    },
    {
      "cell_type": "markdown",
      "metadata": {
        "id": "lC2dFi-M4OcK"
      },
      "source": [
        "Since solar radiation is numeric variable, predicting it is regression problem. Linear regression can be tried, however dataset feature distribution shows lot of skewed fields. It doesn't follow normal distribution. Linear regression generally works well with normally distibuted data. So I don't think using Linear regression will provide accurate model.\n",
        "\n",
        "In such cases, Decision Trees is best option.\n",
        "\n",
        "The sci-kit learn library provides decision tree based regressors which contains a feature importance attribute. This attribute can be used to perform a backwards elimination procedure, where the least important feature of the regressor would be repeatedly removed and the r2 scores, from cross validation, of each model would be recorded."
      ]
    },
    {
      "cell_type": "code",
      "metadata": {
        "colab": {
          "base_uri": "https://localhost:8080/",
          "height": 201
        },
        "id": "Hhf8n8fIS4AC",
        "outputId": "69fe5434-9cce-42ef-e5d0-73d5e8e06a2b"
      },
      "source": [
        "from sklearn.ensemble import RandomForestRegressor\n",
        "from sklearn.model_selection import cross_val_score\n",
        "regressor = RandomForestRegressor(n_estimators = 100)\n",
        "regressor.fit(X_train, y_train)\n",
        "feature_importances = regressor.feature_importances_\n",
        "\n",
        "X_train_opt = X_train.copy()\n",
        "removed_columns = pd.DataFrame()\n",
        "models = []\n",
        "r2s_opt = []\n",
        "\n",
        "for i in range(0,5):\n",
        "    least_important = np.argmin(feature_importances)\n",
        "    removed_columns = removed_columns.append(X_train_opt.pop(X_train_opt.columns[least_important]))\n",
        "    regressor.fit(X_train_opt, y_train)\n",
        "    feature_importances = regressor.feature_importances_\n",
        "    accuracies = cross_val_score(estimator = regressor,\n",
        "                                 X = X_train_opt,\n",
        "                                 y = y_train, cv = 5,\n",
        "                                 scoring = 'r2')\n",
        "    r2s_opt = np.append(r2s_opt, accuracies.mean())\n",
        "    models = np.append(models, \", \".join(list(X_train_opt)))\n",
        "    \n",
        "feature_selection = pd.DataFrame({'Features':models,'r2 Score':r2s_opt})\n",
        "feature_selection.head()"
      ],
      "execution_count": 17,
      "outputs": [
        {
          "output_type": "execute_result",
          "data": {
            "text/html": [
              "<div>\n",
              "<style scoped>\n",
              "    .dataframe tbody tr th:only-of-type {\n",
              "        vertical-align: middle;\n",
              "    }\n",
              "\n",
              "    .dataframe tbody tr th {\n",
              "        vertical-align: top;\n",
              "    }\n",
              "\n",
              "    .dataframe thead th {\n",
              "        text-align: right;\n",
              "    }\n",
              "</style>\n",
              "<table border=\"1\" class=\"dataframe\">\n",
              "  <thead>\n",
              "    <tr style=\"text-align: right;\">\n",
              "      <th></th>\n",
              "      <th>Features</th>\n",
              "      <th>r2 Score</th>\n",
              "    </tr>\n",
              "  </thead>\n",
              "  <tbody>\n",
              "    <tr>\n",
              "      <th>0</th>\n",
              "      <td>Temperature, Pressure, Humidity, Direction, Da...</td>\n",
              "      <td>0.93</td>\n",
              "    </tr>\n",
              "    <tr>\n",
              "      <th>1</th>\n",
              "      <td>Temperature, Humidity, Direction, DayOfYear, T...</td>\n",
              "      <td>0.93</td>\n",
              "    </tr>\n",
              "    <tr>\n",
              "      <th>2</th>\n",
              "      <td>Temperature, Humidity, DayOfYear, TimeOfDay(s)</td>\n",
              "      <td>0.93</td>\n",
              "    </tr>\n",
              "    <tr>\n",
              "      <th>3</th>\n",
              "      <td>Temperature, DayOfYear, TimeOfDay(s)</td>\n",
              "      <td>0.93</td>\n",
              "    </tr>\n",
              "    <tr>\n",
              "      <th>4</th>\n",
              "      <td>Temperature, TimeOfDay(s)</td>\n",
              "      <td>0.80</td>\n",
              "    </tr>\n",
              "  </tbody>\n",
              "</table>\n",
              "</div>"
            ],
            "text/plain": [
              "                                            Features  r2 Score\n",
              "0  Temperature, Pressure, Humidity, Direction, Da...      0.93\n",
              "1  Temperature, Humidity, Direction, DayOfYear, T...      0.93\n",
              "2     Temperature, Humidity, DayOfYear, TimeOfDay(s)      0.93\n",
              "3               Temperature, DayOfYear, TimeOfDay(s)      0.93\n",
              "4                          Temperature, TimeOfDay(s)      0.80"
            ]
          },
          "metadata": {},
          "execution_count": 17
        }
      ]
    },
    {
      "cell_type": "markdown",
      "metadata": {
        "id": "PpVhTyJItTkR"
      },
      "source": [
        "From output we can notice that \n",
        "\n",
        "* Model performance stays relatively constant until 'DayOfYear' is removed\n",
        "* Keeping only 2 features   'Temperature' and 'TimeOfDay(s)' produces significantly low $r^2$  \n",
        "* Random forest regressor, fit to 'Temperature', 'TimeOfDay(s)' and 'DayOfYear' is able to acheive a r2 score as high as 0.93."
      ]
    },
    {
      "cell_type": "markdown",
      "metadata": {
        "id": "_Dy9Zusl-vf3"
      },
      "source": [
        ""
      ]
    },
    {
      "cell_type": "code",
      "metadata": {
        "id": "grY24ocRAK4I"
      },
      "source": [
        "from sklearn import metrics\n",
        "from sklearn.model_selection import cross_val_score\n",
        "\n",
        "results_df = pd.DataFrame()\n",
        "columns = [\"Model\", \"Cross Val Score\", \"MAE\", \"MSE\", \"RMSE\", \"R2\"]\n",
        "\n",
        "def evaluate(true, predicted):\n",
        "    mae = metrics.mean_absolute_error(true, predicted)\n",
        "    mse = metrics.mean_squared_error(true, predicted)\n",
        "    rmse = np.sqrt(metrics.mean_squared_error(true, predicted))\n",
        "    r2_square = metrics.r2_score(true, predicted)\n",
        "    return mae, mse, rmse, r2_square\n",
        "\n",
        "def append_results(model_name, model, results_df, y_test, pred):\n",
        "    results_append_df = pd.DataFrame(data=[[model_name, *evaluate(y_test, pred) , cross_val_score(model, X, y, cv=10).mean()]], columns=columns)\n",
        "    results_df = results_df.append(results_append_df, ignore_index = True)\n",
        "    return results_df"
      ],
      "execution_count": 19,
      "outputs": []
    },
    {
      "cell_type": "code",
      "metadata": {
        "colab": {
          "base_uri": "https://localhost:8080/"
        },
        "id": "80iGPEjqAOXO",
        "outputId": "0b91551b-c197-4700-9b8e-ad8edb04d340"
      },
      "source": [
        "X_train_best = X_train[['Temperature', 'DayOfYear', 'TimeOfDay(s)']]\n",
        "X_test_best = X_test[['Temperature', 'DayOfYear', 'TimeOfDay(s)']]\n",
        "regressor.fit(X_train_best, y_train)"
      ],
      "execution_count": 20,
      "outputs": [
        {
          "output_type": "execute_result",
          "data": {
            "text/plain": [
              "RandomForestRegressor(bootstrap=True, ccp_alpha=0.0, criterion='mse',\n",
              "                      max_depth=None, max_features='auto', max_leaf_nodes=None,\n",
              "                      max_samples=None, min_impurity_decrease=0.0,\n",
              "                      min_impurity_split=None, min_samples_leaf=1,\n",
              "                      min_samples_split=2, min_weight_fraction_leaf=0.0,\n",
              "                      n_estimators=100, n_jobs=None, oob_score=False,\n",
              "                      random_state=None, verbose=0, warm_start=False)"
            ]
          },
          "metadata": {},
          "execution_count": 20
        }
      ]
    },
    {
      "cell_type": "code",
      "metadata": {
        "colab": {
          "base_uri": "https://localhost:8080/",
          "height": 79
        },
        "id": "xayrSeh7DNcr",
        "outputId": "d9ebb86e-84e9-4806-c7b3-809b690d62dd"
      },
      "source": [
        "pred = regressor.predict(X_test_best)\n",
        "results_df= append_results(\"Random Forest\",RandomForestRegressor(),results_df,y_test,pred)\n",
        "results_df"
      ],
      "execution_count": 23,
      "outputs": [
        {
          "output_type": "execute_result",
          "data": {
            "text/html": [
              "<div>\n",
              "<style scoped>\n",
              "    .dataframe tbody tr th:only-of-type {\n",
              "        vertical-align: middle;\n",
              "    }\n",
              "\n",
              "    .dataframe tbody tr th {\n",
              "        vertical-align: top;\n",
              "    }\n",
              "\n",
              "    .dataframe thead th {\n",
              "        text-align: right;\n",
              "    }\n",
              "</style>\n",
              "<table border=\"1\" class=\"dataframe\">\n",
              "  <thead>\n",
              "    <tr style=\"text-align: right;\">\n",
              "      <th></th>\n",
              "      <th>Model</th>\n",
              "      <th>Cross Val Score</th>\n",
              "      <th>MAE</th>\n",
              "      <th>MSE</th>\n",
              "      <th>RMSE</th>\n",
              "      <th>R2</th>\n",
              "    </tr>\n",
              "  </thead>\n",
              "  <tbody>\n",
              "    <tr>\n",
              "      <th>0</th>\n",
              "      <td>Random Forest</td>\n",
              "      <td>29.67</td>\n",
              "      <td>6534.76</td>\n",
              "      <td>80.84</td>\n",
              "      <td>0.94</td>\n",
              "      <td>0.75</td>\n",
              "    </tr>\n",
              "  </tbody>\n",
              "</table>\n",
              "</div>"
            ],
            "text/plain": [
              "           Model  Cross Val Score      MAE    MSE  RMSE    R2\n",
              "0  Random Forest            29.67  6534.76  80.84  0.94  0.75"
            ]
          },
          "metadata": {},
          "execution_count": 23
        }
      ]
    },
    {
      "cell_type": "code",
      "metadata": {
        "id": "LPpWcC42E3SI"
      },
      "source": [
        ""
      ],
      "execution_count": null,
      "outputs": []
    },
    {
      "cell_type": "markdown",
      "metadata": {
        "id": "5H03Dav_T1x1"
      },
      "source": [
        "# MileStone-5 - Final"
      ]
    },
    {
      "cell_type": "markdown",
      "metadata": {
        "id": "FUfOuYFoUXlr"
      },
      "source": [
        "### Docs"
      ]
    },
    {
      "cell_type": "code",
      "metadata": {
        "id": "MkN59bi3UVrJ"
      },
      "source": [
        "# Code"
      ],
      "execution_count": 18,
      "outputs": []
    }
  ]
}