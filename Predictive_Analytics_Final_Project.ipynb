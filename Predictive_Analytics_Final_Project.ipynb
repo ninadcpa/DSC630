{
  "nbformat": 4,
  "nbformat_minor": 0,
  "metadata": {
    "colab": {
      "name": "Predictive_Analytics_Final_Project.ipynb",
      "provenance": [],
      "collapsed_sections": [],
      "toc_visible": true,
      "authorship_tag": "ABX9TyMDNtELewkY/xTPUezs9kIT",
      "include_colab_link": true
    },
    "kernelspec": {
      "name": "python3",
      "display_name": "Python 3"
    },
    "language_info": {
      "name": "python"
    }
  },
  "cells": [
    {
      "cell_type": "markdown",
      "metadata": {
        "id": "view-in-github",
        "colab_type": "text"
      },
      "source": [
        "<a href=\"https://colab.research.google.com/github/ninadcpa/DSC630/blob/main/Predictive_Analytics_Final_Project.ipynb\" target=\"_parent\"><img src=\"https://colab.research.google.com/assets/colab-badge.svg\" alt=\"Open In Colab\"/></a>"
      ]
    },
    {
      "cell_type": "markdown",
      "metadata": {
        "id": "pXigJIH5TDAL"
      },
      "source": [
        "# Predictive Analytics (DSC 630) - Final Project\n",
        "\n",
        "Term - Fall 2021\n",
        "Bellevue University\n",
        "\n",
        "@Author - Ninad Patkhedkar  \n",
        "@Instructor - Fadi Alsaleem"
      ]
    },
    {
      "cell_type": "markdown",
      "metadata": {
        "id": "Xwxarly35JDg"
      },
      "source": [
        "# MileStone-1\n",
        "\n",
        "I will work on Individual Project. I will use Python as my preferred coding language for final project.\n",
        "\n",
        "This subject is for 12 weeks, so I plan to finish the project in 4 milestones having 3 week per milestones. (It may vary/increase based on review comments I receive)\n",
        "\n",
        "Tentatively I think about task perfomred in each milestone\n",
        "\n",
        "1. Milestone 1 - Identify dataset and decide what intersting things can be predicted from data set.\n",
        "\n",
        "2. Milestone 2 - Describe the objective, scope of the project and provide plan about timelines, milestones, risks and risk mitigation details.\n",
        "\n",
        "3. Milestone 3 - Data Wranggling where will clean up data, handle outliers, rename any fields, derive any new fields\n",
        "\n",
        "4. Milestone 4 - Feature extraction and apply various Machine Learning models for predictions.\n",
        "\n",
        "5. Milestone 5 - Re-run and fine tune ML models till satisfaction and Summarize the whole findings as a story with relevant reports."
      ]
    },
    {
      "cell_type": "markdown",
      "metadata": {
        "id": "O91VgUmsTj6c"
      },
      "source": [
        "# MileStone-2"
      ]
    },
    {
      "cell_type": "markdown",
      "metadata": {
        "id": "N9L5psY5UCxp"
      },
      "source": [
        "### **Introduction**\n"
      ]
    },
    {
      "cell_type": "markdown",
      "metadata": {
        "id": "HAZsNTcxE2VP"
      },
      "source": [
        "#### *Background*\n",
        "\n",
        "For centuries mankind has completely relied on Fossil Fuels as primary energy source. With improvement of living standards demand for energy source increased and hence consumption also increased. This had couple of side effects  \n",
        "* Fossil fuel (Hydrocarbon) energy consumption increased carbon emissions causing Global warming  \n",
        "* Fossil fuel resources depleted considerably and will exhaust very soon\n",
        "\n",
        "These side effects triggered search for Non-Convensional energy sources. **Solar energy is considered as most aboundantly available resource.** To harvest solar energy efficiently some imprtant factors should be considered for impact like Sunlight availabilty,wind, humidity, temperature etc.\n",
        "\n",
        "In this project, I will check Solar Radiation dataset and try to determine impact of various factors. Then I will try to build a predictive Model and predict Solar Radiation values give other factors."
      ]
    },
    {
      "cell_type": "markdown",
      "metadata": {
        "id": "24EcOFrwE--a"
      },
      "source": [
        "#### *Problem Statement*\n",
        "\n",
        "1. How various factors like humidty, sunlight time, wind speed, and pressure affect the solar radiation value?\n",
        "2. Predict solar radiation value to determine if solar energy can harvested?"
      ]
    },
    {
      "cell_type": "markdown",
      "metadata": {
        "id": "yWbGRDi6FImA"
      },
      "source": [
        "#### *Scope*\n",
        "\n",
        "* This project will be developed and delivered as individual project.\n",
        "* This project will delivered in timely manner in 4-5 milestones.\n",
        "* Dataset is assumed to be accurate."
      ]
    },
    {
      "cell_type": "markdown",
      "metadata": {
        "id": "tAxPJvH1FMOU"
      },
      "source": [
        "#### *Document Overview*\n",
        "\n",
        "This document covers the technical approach, data sources, analysis, model selection/development, expected results, project risks, and the execution of all areas listed above.  "
      ]
    },
    {
      "cell_type": "markdown",
      "metadata": {
        "id": "DFq74ji_Fi-7"
      },
      "source": [
        "### **Requirements**"
      ]
    },
    {
      "cell_type": "markdown",
      "metadata": {
        "id": "Tq4zDFFzFmFA"
      },
      "source": [
        "#### Technical Approach\n",
        "\n",
        "The approach being used for this project is the Cross Industry Standard Process for Data Mining more commonly known as CRISP-DM. The main objective of this project is to determine factors affecting Solar Energy and predict Solar Radiation value. Multiple unsupervised machine learning techniques will be explored such as Linear and Random Forest Regression. If the models fail to provide accurate results I will focus on obtaining different/more data and try again. "
      ]
    },
    {
      "cell_type": "markdown",
      "metadata": {
        "id": "OuJ0pLfdFzDu"
      },
      "source": [
        "#### *Data Sources*\n",
        "\n",
        "Dataset is available on Kaggle.\n",
        "\n",
        "> Dataset URL - https://www.kaggle.com/dronio/SolarEnergy?select=SolarPrediction.csv  \n",
        "> License - \n",
        "Database: Open Database, Contents: Database Contents\n",
        "\n",
        "These datasets are meteorological data from the HI-SEAS weather station from four months (September through December 2016) between Mission IV and Mission V.\n",
        "\n",
        "Some features in dataset are\n",
        "\n",
        "> Solar radiation - Soalr Radiation value in watts per meter^2  \n",
        "> Temperature - Temperature value in degrees Fahrenheit  \n",
        "> Humidity - Humidity percent value  \n",
        "> Barometric pressure - Atmospheric pressure Hg  \n",
        "> Wind direction - Wind direction in degrees  \n",
        "> Wind speed - Wind speed in miles per hour  \n",
        "> Sunrise/sunset - Sunrise and Sunset time (Hawaii timezone)  \n",
        "\n"
      ]
    },
    {
      "cell_type": "markdown",
      "metadata": {
        "id": "gvKb3b9cF58o"
      },
      "source": [
        "#### *Requirement Development*\n",
        "\n",
        "The requirements to complete this project include  \n",
        "\n",
        "* The data should be accurate  \n",
        "* Credible\n",
        "* Complete. No need or very less need to remove or auto fill data   \n",
        "\n",
        "Software needed to complete this project \n",
        "* Python\n",
        "* I will use cloud based notebook at https://colab.research.google.com\n",
        " "
      ]
    },
    {
      "cell_type": "markdown",
      "metadata": {
        "id": "pvPX0_eGGR2n"
      },
      "source": [
        "#### *Model Deployment*\n",
        "\n",
        "I googled a bit and noticed that solar energy predictions are always kind of wrong. Hence I will target low i.e. to build a model that has a minimum acceptance accuracy of 50%. Then I will try to improve accuracy upto 65% by iterating more over the model. \n",
        "\n",
        "The Dataset contains continous data and hence will use regression models like Linear Regression, RandomForestRegressor etc.\n",
        "\n",
        "\n",
        "After the model is trained and debugged it will be deployed. The model will be optimized using different techniques such as gradient boosting. Since this is a solo project I will be in charge of all steps along the development and deployment of this model.  "
      ]
    },
    {
      "cell_type": "markdown",
      "metadata": {
        "id": "F_T1P7-yGZQu"
      },
      "source": [
        "#### *Testing & Evaluation*\n",
        "\n",
        "I plan to test model for\n",
        "* Accuracy  \n",
        "* Precision  \n",
        "* F1 Score \n",
        "* Confusion Matrix \n"
      ]
    },
    {
      "cell_type": "markdown",
      "metadata": {
        "id": "E4lDgqeeGeDF"
      },
      "source": [
        "### **Expected Results**\n",
        "\n",
        "Expecting to extract features which have significant impact on Solar Radiation value. Using this data an accurate model will be developed that can predict future value of Solar radiation without false positives. "
      ]
    },
    {
      "cell_type": "markdown",
      "metadata": {
        "id": "ZvDhXa2OGkIt"
      },
      "source": [
        "### **Execution and Management of Project**"
      ]
    },
    {
      "cell_type": "markdown",
      "metadata": {
        "id": "_2kgpaS3Gw_t"
      },
      "source": [
        "#### *Project Plan*\n",
        "\n",
        "This subject is for 12 weeks, so I plan to finish the project in 4 milestones having 3 week per milestones. (It may vary/increase based on review comments I receive)\n",
        "\n",
        "Tentatively I think about task perfomred in each milestone\n",
        "\n",
        "1. Milestone 1 - Identify dataset and decide what intersting things can be predicted from data set.\n",
        "\n",
        "2. Milestone 2 - Data Wranggling where will clean up data, handle outliers, rename any fields, derive any new fields\n",
        "\n",
        "3. Milestone 3 - Feature extraction and apply various Machine Learning models for predictions.\n",
        "\n",
        "4. Milestone 4 - Re-run and fine tune ML models till satisfaction and Summarize the whole findings as a story with relevant reports."
      ]
    },
    {
      "cell_type": "markdown",
      "metadata": {
        "id": "QhgoMhXNG3qH"
      },
      "source": [
        "#### *Project Risk*\n",
        "\n",
        "Overall in world, Solar Energy harvesting predictions have gone wrong causing increased investments or less ROI. I would have preferred to have location data along with weather data for world wide locations. However the dataset is looks to be for single place (Hawai), hence predictions would be limited for that location. \n",
        "\n",
        "Risk is Prediction Model accuracy can be little lower than 80%. \n",
        "\n",
        "For Risk mitigation, I am targeting low accuracy value first. I will try to improve accuracy by re-fitting model and will also try to find if any other relevant data is available to predict Solar Radiation values."
      ]
    },
    {
      "cell_type": "markdown",
      "metadata": {
        "id": "I8mBU8yqTrbS"
      },
      "source": [
        "# MileStone-3"
      ]
    },
    {
      "cell_type": "markdown",
      "metadata": {
        "id": "7fxJx-_oUMaf"
      },
      "source": [
        "### Data Loading\n",
        "\n",
        "In this stage, I will load and describe data. Then will work of data preparation to clean data, fill missing values and handle outlier values."
      ]
    },
    {
      "cell_type": "markdown",
      "metadata": {
        "id": "7dQSjfXsbm2d"
      },
      "source": [
        "Dataset file is downloaded from kaggle - https://www.kaggle.com/dronio/SolarEnergy?select=SolarPrediction.csv\n",
        "\n",
        "and stored on Google Drive under folder \"Colab Notebooks/DSC630\""
      ]
    },
    {
      "cell_type": "code",
      "metadata": {
        "id": "f7QD5h6BUOH4",
        "colab": {
          "base_uri": "https://localhost:8080/"
        },
        "outputId": "d55cdac7-71ee-40ea-b85e-cec8357a5f96"
      },
      "source": [
        "# This code is written for mounting code folder checked out from github on google drive\n",
        "# All assignment code will be maintained inside folder \"DSC630\"\n",
        "\n",
        "from google.colab import drive\n",
        "import sys\n",
        "import os\n",
        "\n",
        "drive.mount('/content/drive')\n",
        "sys.path.append('/content/drive/MyDrive/Colab Notebooks/DSC630')\n",
        "os.chdir('/content/drive/MyDrive/Colab Notebooks/DSC630')"
      ],
      "execution_count": 1,
      "outputs": [
        {
          "output_type": "stream",
          "name": "stdout",
          "text": [
            "Mounted at /content/drive\n"
          ]
        }
      ]
    },
    {
      "cell_type": "code",
      "metadata": {
        "id": "M1sSAZHlakkh"
      },
      "source": [
        "from __future__ import print_function\n",
        "\n",
        "import pandas as pd\n",
        "import numpy as np\n",
        "import matplotlib.pyplot as plt\n",
        "import seaborn as sns\n",
        "%matplotlib inline\n",
        "\n",
        "import warnings\n",
        "warnings.filterwarnings('ignore', category=FutureWarning)\n",
        "\n",
        "pd.set_option(\"display.precision\", 2)\n",
        "# Substitute values used for missing values in dataset\n",
        "missing_values = [\"n/a\", \"na\", \"--\",\"\"]\n",
        "# Load the data in pandas dataframe with missing values set to NaN\n",
        "df = pd.read_csv('SolarPrediction.csv',na_values = missing_values)"
      ],
      "execution_count": 2,
      "outputs": []
    },
    {
      "cell_type": "markdown",
      "metadata": {
        "id": "4l5GbU5scYXq"
      },
      "source": [
        "Checking how may observations and features are present in dataset."
      ]
    },
    {
      "cell_type": "code",
      "metadata": {
        "colab": {
          "base_uri": "https://localhost:8080/"
        },
        "id": "p4CG_bZqcn05",
        "outputId": "08a3211f-927f-4018-cc13-163693274353"
      },
      "source": [
        "df.shape"
      ],
      "execution_count": 3,
      "outputs": [
        {
          "output_type": "execute_result",
          "data": {
            "text/plain": [
              "(32686, 11)"
            ]
          },
          "metadata": {},
          "execution_count": 3
        }
      ]
    },
    {
      "cell_type": "markdown",
      "metadata": {
        "id": "omzsdidecrDb"
      },
      "source": [
        "So there are are 32k+ observations and 11 features in dataset.\n",
        "\n",
        "Lets check what features present and what is there data type?"
      ]
    },
    {
      "cell_type": "code",
      "metadata": {
        "colab": {
          "base_uri": "https://localhost:8080/"
        },
        "id": "dx9va3x5dDN7",
        "outputId": "cd8dcdc5-5e11-40e8-c257-9de822034c9b"
      },
      "source": [
        "df.info()"
      ],
      "execution_count": 4,
      "outputs": [
        {
          "output_type": "stream",
          "name": "stdout",
          "text": [
            "<class 'pandas.core.frame.DataFrame'>\n",
            "RangeIndex: 32686 entries, 0 to 32685\n",
            "Data columns (total 11 columns):\n",
            " #   Column                  Non-Null Count  Dtype  \n",
            "---  ------                  --------------  -----  \n",
            " 0   UNIXTime                32686 non-null  int64  \n",
            " 1   Data                    32686 non-null  object \n",
            " 2   Time                    32686 non-null  object \n",
            " 3   Radiation               32686 non-null  float64\n",
            " 4   Temperature             32686 non-null  int64  \n",
            " 5   Pressure                32686 non-null  float64\n",
            " 6   Humidity                32686 non-null  int64  \n",
            " 7   WindDirection(Degrees)  32686 non-null  float64\n",
            " 8   Speed                   32686 non-null  float64\n",
            " 9   TimeSunRise             32686 non-null  object \n",
            " 10  TimeSunSet              32686 non-null  object \n",
            "dtypes: float64(4), int64(3), object(4)\n",
            "memory usage: 2.7+ MB\n"
          ]
        }
      ]
    },
    {
      "cell_type": "code",
      "metadata": {
        "colab": {
          "base_uri": "https://localhost:8080/",
          "height": 704
        },
        "id": "0VP78Hq6e-O7",
        "outputId": "993f14a9-a592-451d-e63a-d25d0f431027"
      },
      "source": [
        "# Lets check the sample data\n",
        "df.sample(10)"
      ],
      "execution_count": 5,
      "outputs": [
        {
          "output_type": "execute_result",
          "data": {
            "text/html": [
              "<div>\n",
              "<style scoped>\n",
              "    .dataframe tbody tr th:only-of-type {\n",
              "        vertical-align: middle;\n",
              "    }\n",
              "\n",
              "    .dataframe tbody tr th {\n",
              "        vertical-align: top;\n",
              "    }\n",
              "\n",
              "    .dataframe thead th {\n",
              "        text-align: right;\n",
              "    }\n",
              "</style>\n",
              "<table border=\"1\" class=\"dataframe\">\n",
              "  <thead>\n",
              "    <tr style=\"text-align: right;\">\n",
              "      <th></th>\n",
              "      <th>UNIXTime</th>\n",
              "      <th>Data</th>\n",
              "      <th>Time</th>\n",
              "      <th>Radiation</th>\n",
              "      <th>Temperature</th>\n",
              "      <th>Pressure</th>\n",
              "      <th>Humidity</th>\n",
              "      <th>WindDirection(Degrees)</th>\n",
              "      <th>Speed</th>\n",
              "      <th>TimeSunRise</th>\n",
              "      <th>TimeSunSet</th>\n",
              "    </tr>\n",
              "  </thead>\n",
              "  <tbody>\n",
              "    <tr>\n",
              "      <th>18641</th>\n",
              "      <td>1479760502</td>\n",
              "      <td>11/21/2016 12:00:00 AM</td>\n",
              "      <td>10:35:02</td>\n",
              "      <td>801.12</td>\n",
              "      <td>60</td>\n",
              "      <td>30.45</td>\n",
              "      <td>78</td>\n",
              "      <td>102.74</td>\n",
              "      <td>11.25</td>\n",
              "      <td>06:35:00</td>\n",
              "      <td>17:42:00</td>\n",
              "    </tr>\n",
              "    <tr>\n",
              "      <th>650</th>\n",
              "      <td>1475031320</td>\n",
              "      <td>9/27/2016 12:00:00 AM</td>\n",
              "      <td>16:55:20</td>\n",
              "      <td>199.98</td>\n",
              "      <td>57</td>\n",
              "      <td>30.37</td>\n",
              "      <td>88</td>\n",
              "      <td>51.31</td>\n",
              "      <td>3.37</td>\n",
              "      <td>06:13:00</td>\n",
              "      <td>18:15:00</td>\n",
              "    </tr>\n",
              "    <tr>\n",
              "      <th>10037</th>\n",
              "      <td>1477205717</td>\n",
              "      <td>10/22/2016 12:00:00 AM</td>\n",
              "      <td>20:55:17</td>\n",
              "      <td>1.22</td>\n",
              "      <td>48</td>\n",
              "      <td>30.43</td>\n",
              "      <td>101</td>\n",
              "      <td>130.69</td>\n",
              "      <td>10.12</td>\n",
              "      <td>06:20:00</td>\n",
              "      <td>17:54:00</td>\n",
              "    </tr>\n",
              "    <tr>\n",
              "      <th>8314</th>\n",
              "      <td>1477724417</td>\n",
              "      <td>10/28/2016 12:00:00 AM</td>\n",
              "      <td>21:00:17</td>\n",
              "      <td>1.21</td>\n",
              "      <td>43</td>\n",
              "      <td>30.43</td>\n",
              "      <td>76</td>\n",
              "      <td>108.27</td>\n",
              "      <td>9.00</td>\n",
              "      <td>06:22:00</td>\n",
              "      <td>17:51:00</td>\n",
              "    </tr>\n",
              "    <tr>\n",
              "      <th>21712</th>\n",
              "      <td>1478838605</td>\n",
              "      <td>11/10/2016 12:00:00 AM</td>\n",
              "      <td>18:30:05</td>\n",
              "      <td>1.20</td>\n",
              "      <td>52</td>\n",
              "      <td>30.46</td>\n",
              "      <td>84</td>\n",
              "      <td>122.45</td>\n",
              "      <td>3.37</td>\n",
              "      <td>06:28:00</td>\n",
              "      <td>17:45:00</td>\n",
              "    </tr>\n",
              "    <tr>\n",
              "      <th>16562</th>\n",
              "      <td>1480385118</td>\n",
              "      <td>11/28/2016 12:00:00 AM</td>\n",
              "      <td>16:05:18</td>\n",
              "      <td>378.67</td>\n",
              "      <td>57</td>\n",
              "      <td>30.42</td>\n",
              "      <td>48</td>\n",
              "      <td>62.22</td>\n",
              "      <td>2.25</td>\n",
              "      <td>06:39:00</td>\n",
              "      <td>17:42:00</td>\n",
              "    </tr>\n",
              "    <tr>\n",
              "      <th>9610</th>\n",
              "      <td>1477334419</td>\n",
              "      <td>10/24/2016 12:00:00 AM</td>\n",
              "      <td>08:40:19</td>\n",
              "      <td>427.80</td>\n",
              "      <td>59</td>\n",
              "      <td>30.45</td>\n",
              "      <td>42</td>\n",
              "      <td>143.67</td>\n",
              "      <td>12.37</td>\n",
              "      <td>06:21:00</td>\n",
              "      <td>17:53:00</td>\n",
              "    </tr>\n",
              "    <tr>\n",
              "      <th>27373</th>\n",
              "      <td>1482407739</td>\n",
              "      <td>12/22/2016 12:00:00 AM</td>\n",
              "      <td>01:55:39</td>\n",
              "      <td>1.20</td>\n",
              "      <td>43</td>\n",
              "      <td>30.39</td>\n",
              "      <td>72</td>\n",
              "      <td>174.15</td>\n",
              "      <td>5.62</td>\n",
              "      <td>06:53:00</td>\n",
              "      <td>17:49:00</td>\n",
              "    </tr>\n",
              "    <tr>\n",
              "      <th>8298</th>\n",
              "      <td>1477729220</td>\n",
              "      <td>10/28/2016 12:00:00 AM</td>\n",
              "      <td>22:20:20</td>\n",
              "      <td>1.17</td>\n",
              "      <td>42</td>\n",
              "      <td>30.44</td>\n",
              "      <td>79</td>\n",
              "      <td>152.62</td>\n",
              "      <td>4.50</td>\n",
              "      <td>06:22:00</td>\n",
              "      <td>17:51:00</td>\n",
              "    </tr>\n",
              "    <tr>\n",
              "      <th>20871</th>\n",
              "      <td>1479090902</td>\n",
              "      <td>11/13/2016 12:00:00 AM</td>\n",
              "      <td>16:35:02</td>\n",
              "      <td>237.12</td>\n",
              "      <td>53</td>\n",
              "      <td>30.42</td>\n",
              "      <td>76</td>\n",
              "      <td>79.50</td>\n",
              "      <td>10.12</td>\n",
              "      <td>06:30:00</td>\n",
              "      <td>17:44:00</td>\n",
              "    </tr>\n",
              "  </tbody>\n",
              "</table>\n",
              "</div>"
            ],
            "text/plain": [
              "         UNIXTime                    Data  ... TimeSunRise  TimeSunSet\n",
              "18641  1479760502  11/21/2016 12:00:00 AM  ...    06:35:00    17:42:00\n",
              "650    1475031320   9/27/2016 12:00:00 AM  ...    06:13:00    18:15:00\n",
              "10037  1477205717  10/22/2016 12:00:00 AM  ...    06:20:00    17:54:00\n",
              "8314   1477724417  10/28/2016 12:00:00 AM  ...    06:22:00    17:51:00\n",
              "21712  1478838605  11/10/2016 12:00:00 AM  ...    06:28:00    17:45:00\n",
              "16562  1480385118  11/28/2016 12:00:00 AM  ...    06:39:00    17:42:00\n",
              "9610   1477334419  10/24/2016 12:00:00 AM  ...    06:21:00    17:53:00\n",
              "27373  1482407739  12/22/2016 12:00:00 AM  ...    06:53:00    17:49:00\n",
              "8298   1477729220  10/28/2016 12:00:00 AM  ...    06:22:00    17:51:00\n",
              "20871  1479090902  11/13/2016 12:00:00 AM  ...    06:30:00    17:44:00\n",
              "\n",
              "[10 rows x 11 columns]"
            ]
          },
          "metadata": {},
          "execution_count": 5
        }
      ]
    },
    {
      "cell_type": "markdown",
      "metadata": {
        "id": "UGCiMONriowM"
      },
      "source": [
        "There appears to be couple of confusing fields i.e Unixtime, Data and Time. Not sure what each fields stands for.\n",
        "\n",
        "To check this let me convert Unixtime field to readable format for first displayed record"
      ]
    },
    {
      "cell_type": "code",
      "metadata": {
        "colab": {
          "base_uri": "https://localhost:8080/"
        },
        "id": "uYhAvxuphD7q",
        "outputId": "d5237226-d1f7-4d09-dc3b-8d1a6146600c"
      },
      "source": [
        "import datetime\n",
        "import pytz\n",
        "# Unixtime is for Hawaii timezone so passing timezone as 'US/Hawaii'\n",
        "datetime_time = datetime.datetime.fromtimestamp(1479760502,tz= pytz.timezone('US/Hawaii'))\n",
        "datetime_time"
      ],
      "execution_count": 10,
      "outputs": [
        {
          "output_type": "execute_result",
          "data": {
            "text/plain": [
              "datetime.datetime(2016, 11, 21, 10, 35, 2, tzinfo=<DstTzInfo 'US/Hawaii' HST-1 day, 14:00:00 STD>)"
            ]
          },
          "metadata": {},
          "execution_count": 10
        }
      ]
    },
    {
      "cell_type": "markdown",
      "metadata": {
        "id": "zTuUKZwyj-oN"
      },
      "source": [
        "Now we got it clarified\n",
        "\n",
        "Unixtime - Time when radiation was measured in [epoach  time](https://en.wikipedia.org/wiki/Unix_time)  format  \n",
        "Data - Time when measured data for that day is consolidated and recorded  \n",
        "Time - Time in hh:mm:ss format when solar radiation was measured  "
      ]
    },
    {
      "cell_type": "markdown",
      "metadata": {
        "id": "FRCrYWt1dTPZ"
      },
      "source": [
        "### Information about features\n",
        "\n",
        "> **Unixtime** - Time when radiation was measured in epoach time  \n",
        "> **Data** - Time when measured data for that day is consolidated and recorded  \n",
        "> **Time** - Time in hh:mm:ss format when solar radiation was measured  \n",
        "> **Solar radiation** - Solar Radiation value in watts per meter^2  \n",
        "> **Temperature** - Temperature value in degrees Fahrenheit  \n",
        "> **Barometric pressure** - Atmospheric pressure Hg   \n",
        "> **Humidity** - Humidity percent value  \n",
        "> **Wind direction** - Wind direction in degrees  \n",
        "> **Wind speed** - Wind speed in miles per hour  \n",
        "> **Sunrise** - Sunrise time (Hawaii timezone)  \n",
        "> **Sunset** - Sunset time (Hawaii timezone)\n"
      ]
    },
    {
      "cell_type": "markdown",
      "metadata": {
        "id": "RGJtVCTAmXbs"
      },
      "source": [
        "### Missing Data\n",
        "\n",
        "Now lets check if there is any missing data"
      ]
    },
    {
      "cell_type": "code",
      "metadata": {
        "colab": {
          "base_uri": "https://localhost:8080/"
        },
        "id": "yDOV3Nl2mitc",
        "outputId": "d62fb90f-9ce7-46d6-a995-ad0e18ae76a2"
      },
      "source": [
        "df.isnull().sum()"
      ],
      "execution_count": 11,
      "outputs": [
        {
          "output_type": "execute_result",
          "data": {
            "text/plain": [
              "UNIXTime                  0\n",
              "Data                      0\n",
              "Time                      0\n",
              "Radiation                 0\n",
              "Temperature               0\n",
              "Pressure                  0\n",
              "Humidity                  0\n",
              "WindDirection(Degrees)    0\n",
              "Speed                     0\n",
              "TimeSunRise               0\n",
              "TimeSunSet                0\n",
              "dtype: int64"
            ]
          },
          "metadata": {},
          "execution_count": 11
        }
      ]
    },
    {
      "cell_type": "markdown",
      "metadata": {
        "id": "NtdYpCurTw5W"
      },
      "source": [
        "# MileStone-4"
      ]
    },
    {
      "cell_type": "markdown",
      "metadata": {
        "id": "xGG_yrgmURy9"
      },
      "source": [
        "### Docs"
      ]
    },
    {
      "cell_type": "code",
      "metadata": {
        "id": "Ce3JeDsmUTdM"
      },
      "source": [
        "# Code"
      ],
      "execution_count": null,
      "outputs": []
    },
    {
      "cell_type": "markdown",
      "metadata": {
        "id": "5H03Dav_T1x1"
      },
      "source": [
        "# MileStone-5"
      ]
    },
    {
      "cell_type": "markdown",
      "metadata": {
        "id": "FUfOuYFoUXlr"
      },
      "source": [
        "### Docs"
      ]
    },
    {
      "cell_type": "code",
      "metadata": {
        "id": "MkN59bi3UVrJ"
      },
      "source": [
        "# Code"
      ],
      "execution_count": null,
      "outputs": []
    }
  ]
}