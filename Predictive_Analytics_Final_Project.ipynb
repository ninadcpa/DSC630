{
  "nbformat": 4,
  "nbformat_minor": 0,
  "metadata": {
    "colab": {
      "name": "Predictive_Analytics_Final_Project.ipynb",
      "provenance": [],
      "collapsed_sections": [],
      "toc_visible": true,
      "authorship_tag": "ABX9TyOxyiIFUEoCDZDmIDbjbAtv",
      "include_colab_link": true
    },
    "kernelspec": {
      "name": "python3",
      "display_name": "Python 3"
    },
    "language_info": {
      "name": "python"
    }
  },
  "cells": [
    {
      "cell_type": "markdown",
      "metadata": {
        "id": "view-in-github",
        "colab_type": "text"
      },
      "source": [
        "<a href=\"https://colab.research.google.com/github/ninadcpa/DSC630/blob/main/Predictive_Analytics_Final_Project.ipynb\" target=\"_parent\"><img src=\"https://colab.research.google.com/assets/colab-badge.svg\" alt=\"Open In Colab\"/></a>"
      ]
    },
    {
      "cell_type": "markdown",
      "metadata": {
        "id": "pXigJIH5TDAL"
      },
      "source": [
        "# Predictive Analytics (DSC 630) - Final Project\n",
        "\n",
        "Term - Fall 2021\n",
        "Bellevue University\n",
        "\n",
        "@Author - Ninad Patkhedkar  \n",
        "@Instructor - Fadi Alsaleem"
      ]
    },
    {
      "cell_type": "markdown",
      "metadata": {
        "id": "O91VgUmsTj6c"
      },
      "source": [
        "# MileStone-1"
      ]
    },
    {
      "cell_type": "markdown",
      "metadata": {
        "id": "N9L5psY5UCxp"
      },
      "source": [
        "### **Introduction**\n"
      ]
    },
    {
      "cell_type": "markdown",
      "metadata": {
        "id": "HAZsNTcxE2VP"
      },
      "source": [
        "#### *Background*\n",
        "\n",
        "For centuries mankind has completely relied on Fossil Fuels as primary energy source. With improvement of living standards demand for energy source increased and hence consumption also increased. This had couple of side effects  \n",
        "* Fossil fuel (Hydrocarbon) energy consumption increased carbon emissions causing Global warming  \n",
        "* Fossil fuel resources depleted considerably and will exhaust very soon\n",
        "\n",
        "These side effects triggered search for Non-Convensional energy sources. **Solar energy is considered as most aboundantly available resource.** To harvest solar energy efficiently some imprtant factors should be considered for impact like Sunlight availabilty,wind, humidity, temperature etc.\n",
        "\n",
        "In this project, I will check Solar Radiation dataset and try to determine impact of various factors. Then I will try to build a predictive Model and predict Solar Radiation values give other factors."
      ]
    },
    {
      "cell_type": "markdown",
      "metadata": {
        "id": "24EcOFrwE--a"
      },
      "source": [
        "#### *Problem Statement*\n",
        "\n",
        "1. How various factors like humidty, sunlight time, wind speed, and pressure affect the solar radiation value?\n",
        "2. Predict solar radiation value to determine if solar energy can harvested?"
      ]
    },
    {
      "cell_type": "markdown",
      "metadata": {
        "id": "yWbGRDi6FImA"
      },
      "source": [
        "#### *Scope*\n",
        "\n",
        "* This project will be developed and delivered as individual project.\n",
        "* This project will delivered in timely manner in 4-5 milestones.\n",
        "* Dataset is assumed to be accurate."
      ]
    },
    {
      "cell_type": "markdown",
      "metadata": {
        "id": "tAxPJvH1FMOU"
      },
      "source": [
        "#### *Document Overview*\n",
        "\n",
        "This document covers the technical approach, data sources, analysis, model selection/development, expected results, project risks, and the execution of all areas listed above.  "
      ]
    },
    {
      "cell_type": "markdown",
      "metadata": {
        "id": "DFq74ji_Fi-7"
      },
      "source": [
        "### **Requirements**"
      ]
    },
    {
      "cell_type": "markdown",
      "metadata": {
        "id": "Tq4zDFFzFmFA"
      },
      "source": [
        "#### Technical Approach\n",
        "\n",
        "The approach being used for this project is the Cross Industry Standard Process for Data Mining more commonly known as CRISP-DM. The main objective of this project is to determine factors affecting Solar Energy and predict Solar Radiation value. Multiple unsupervised machine learning techniques will be explored such as Linear and Random Forest Regression. If the models fail to provide accurate results I will focus on obtaining different/more data and try again. "
      ]
    },
    {
      "cell_type": "markdown",
      "metadata": {
        "id": "OuJ0pLfdFzDu"
      },
      "source": [
        "#### *Data Sources*\n",
        "\n",
        "Dataset is available on Kaggle.\n",
        "\n",
        "> Dataset URL - https://www.kaggle.com/dronio/SolarEnergy?select=SolarPrediction.csv  \n",
        "> License - \n",
        "Database: Open Database, Contents: Database Contents\n",
        "\n",
        "These datasets are meteorological data from the HI-SEAS weather station from four months (September through December 2016) between Mission IV and Mission V.\n",
        "\n",
        "Some features in dataset are\n",
        "\n",
        "> Solar radiation - Soalr Radiation value in watts per meter^2  \n",
        "> Temperature - Temperature value in degrees Fahrenheit  \n",
        "> Humidity - Humidity percent value  \n",
        "> Barometric pressure - Atmospheric pressure Hg  \n",
        "> Wind direction - Wind direction in degrees  \n",
        "> Wind speed - Wind speed in miles per hour  \n",
        "> Sunrise/sunset - Sunrise and Sunset time (Hawaii timezone)  \n",
        "\n"
      ]
    },
    {
      "cell_type": "markdown",
      "metadata": {
        "id": "gvKb3b9cF58o"
      },
      "source": [
        "#### *Requirement Development*\n",
        "\n",
        "The requirements to complete this project include  \n",
        "\n",
        "* The data should be accurate  \n",
        "* Credible\n",
        "* Complete. No need or very less need to remove or auto fill data   \n",
        "\n",
        "Software needed to complete this project \n",
        "* Python\n",
        "* I will use cloud based notebook at https://colab.research.google.com\n",
        " "
      ]
    },
    {
      "cell_type": "markdown",
      "metadata": {
        "id": "pvPX0_eGGR2n"
      },
      "source": [
        "#### *Model Deployment*\n",
        "\n",
        "I googled a bit and noticed that solar energy predictions are always kind of wrong. Hence I will target low i.e. to build a model that has a minimum acceptance accuracy of 50%. Then I will try to improve accuracy upto 65% by iterating more over the model. \n",
        "\n",
        "The Dataset contains continous data and hence will use regression models like Linear Regression, RandomForestRegressor etc.\n",
        "\n",
        "\n",
        "After the model is trained and debugged it will be deployed. The model will be optimized using different techniques such as gradient boosting. Since this is a solo project I will be in charge of all steps along the development and deployment of this model.  "
      ]
    },
    {
      "cell_type": "markdown",
      "metadata": {
        "id": "F_T1P7-yGZQu"
      },
      "source": [
        "#### *Testing & Evaluation*\n",
        "\n",
        "I plan to test model for\n",
        "* Accuracy  \n",
        "* Precision  \n",
        "* F1 Score \n",
        "* Confusion Matrix \n"
      ]
    },
    {
      "cell_type": "markdown",
      "metadata": {
        "id": "E4lDgqeeGeDF"
      },
      "source": [
        "### **Expected Results**\n",
        "\n",
        "Expecting to extract features which have significant impact on Solar Radiation value. Using this data an accurate model will be developed that can predict future value of Solar radiation without false positives. "
      ]
    },
    {
      "cell_type": "markdown",
      "metadata": {
        "id": "ZvDhXa2OGkIt"
      },
      "source": [
        "### **Execution and Management of Project**"
      ]
    },
    {
      "cell_type": "markdown",
      "metadata": {
        "id": "_2kgpaS3Gw_t"
      },
      "source": [
        "#### *Project Plan*\n",
        "\n",
        "This subject is for 12 weeks, so I plan to finish the project in 4 milestones having 3 week per milestones. (It may vary/increase based on review comments I receive)\n",
        "\n",
        "Tentatively I think about task perfomred in each milestone\n",
        "\n",
        "1. Milestone 1 - Identify dataset and decide what intersting things can be predicted from data set.\n",
        "\n",
        "2. Milestone 2 - Data Wranggling where will clean up data, handle outliers, rename any fields, derive any new fields\n",
        "\n",
        "3. Milestone 3 - Feature extraction and apply various Machine Learning models for predictions.\n",
        "\n",
        "4. Milestone 4 - Re-run and fine tune ML models till satisfaction and Summarize the whole findings as a story with relevant reports."
      ]
    },
    {
      "cell_type": "markdown",
      "metadata": {
        "id": "QhgoMhXNG3qH"
      },
      "source": [
        "#### *Project Risk*\n",
        "\n",
        "Overall in world, Solar Energy harvesting predictions have gone wrong causing increased investments or less ROI. I would have preferred to have location data along with weather data for world wide locations. However the dataset is looks to be for single place (Hawai), hence predictions would be limited for that location. \n",
        "\n",
        "Risk is Prediction Model accuracy can be little lower than 80%. \n",
        "\n",
        "For Risk mitigation, I am targeting low accuracy value first. I will try to improve accuracy by re-fitting model and will also try to find if any other relevant data is available to predict Solar Radiation values."
      ]
    },
    {
      "cell_type": "markdown",
      "metadata": {
        "id": "I8mBU8yqTrbS"
      },
      "source": [
        "# MileStone-2"
      ]
    },
    {
      "cell_type": "markdown",
      "metadata": {
        "id": "7fxJx-_oUMaf"
      },
      "source": [
        "### Docs"
      ]
    },
    {
      "cell_type": "code",
      "metadata": {
        "id": "f7QD5h6BUOH4"
      },
      "source": [
        "# Code"
      ],
      "execution_count": null,
      "outputs": []
    },
    {
      "cell_type": "markdown",
      "metadata": {
        "id": "NtdYpCurTw5W"
      },
      "source": [
        "# MileStone-3"
      ]
    },
    {
      "cell_type": "markdown",
      "metadata": {
        "id": "xGG_yrgmURy9"
      },
      "source": [
        "### Docs"
      ]
    },
    {
      "cell_type": "code",
      "metadata": {
        "id": "Ce3JeDsmUTdM"
      },
      "source": [
        "# Code"
      ],
      "execution_count": null,
      "outputs": []
    },
    {
      "cell_type": "markdown",
      "metadata": {
        "id": "5H03Dav_T1x1"
      },
      "source": [
        "# MileStone-4"
      ]
    },
    {
      "cell_type": "markdown",
      "metadata": {
        "id": "FUfOuYFoUXlr"
      },
      "source": [
        "### Docs"
      ]
    },
    {
      "cell_type": "code",
      "metadata": {
        "id": "MkN59bi3UVrJ"
      },
      "source": [
        "# Code"
      ],
      "execution_count": null,
      "outputs": []
    }
  ]
}